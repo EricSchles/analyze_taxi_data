{
 "cells": [
  {
   "cell_type": "code",
   "execution_count": null,
   "metadata": {},
   "outputs": [],
   "source": [
    "Option C: Search\n",
    "\n",
    "We’re thinking about promoting ride sharing. Build a function that given point a point P, find the k trip origination points nearest P.\n",
    "\n",
    "For this question, point P would be a taxi ride starting location picked by us at a given LAT-LONG.\n",
    "\n",
    "As an extra layer of complexity, consider the time for pickups, so this could eventually be used for real time ride sharing matching.\n",
    "\n",
    "Please explain not only how this can be computed, but how efficient your approach is (time and space complexity)\n",
    "\n"
   ]
  }
 ],
 "metadata": {
  "kernelspec": {
   "display_name": "Python 3",
   "language": "python",
   "name": "python3"
  },
  "language_info": {
   "codemirror_mode": {
    "name": "ipython",
    "version": 3
   },
   "file_extension": ".py",
   "mimetype": "text/x-python",
   "name": "python",
   "nbconvert_exporter": "python",
   "pygments_lexer": "ipython3",
   "version": "3.6.3"
  }
 },
 "nbformat": 4,
 "nbformat_minor": 2
}
