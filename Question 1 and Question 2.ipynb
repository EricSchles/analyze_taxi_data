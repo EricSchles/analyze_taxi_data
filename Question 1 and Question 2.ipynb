{
 "cells": [
  {
   "cell_type": "code",
   "execution_count": 1,
   "metadata": {},
   "outputs": [],
   "source": [
    "import pandas as pd\n",
    "import matplotlib.pyplot as plt\n",
    "%matplotlib inline"
   ]
  },
  {
   "cell_type": "markdown",
   "metadata": {},
   "source": [
    "# Question 1\n",
    "\n",
    "The exercise asks - programmatically download all the data for green taxis and show how many rows and columns there are.\n",
    "\n",
    "In order to programmatically download all the green taxi data I decided to use wget.  Originally I had tried doing:\n",
    "\n",
    "```\n",
    "import pandas as pd\n",
    "df = pd.read_csv(\"https://s3.amazonaws.com/nyc-tlc/trip+data/green_tripdata_2015-09.csv')\n",
    "df.to_csv(\"green_taxi.csv\")\n",
    "```\n",
    "\n",
    "However this proved to be very, very slow.  So after about 5 minutes of waiting, I decided to switch to wget.  I set up `data.txt` with the relevant url and set up `download_data.sh` which calls `wget` with xargs on the data.  The script looks like this:\n",
    "\n",
    "`cat data.txt | xargs -n 1 -P 4 wget -c -P data/`\n",
    "\n",
    "In this script arbitrary data is loaded wget, via xargs from the file `data.txt`.  This way, if I want to expand the analysis to include other taxi cab datasets, it is easy to do so.  I parallelize the task with the flags `-n` and `-P`.  The `-n` flag tells wget how to process urls, in this case one at a time, because I passed in `1` to the flag.  The `-P` flag tells `wget` how many processes to run concurrently, in this case `4` because we want it to move fast! I wanted to be a little careful, so I did the following:\n",
    "\n",
    "```\n",
    "from multiprocessing import cpu_count\n",
    "nCores = cpu_count()\n",
    "print(nCores)\n",
    "```\n",
    "\n",
    "This told me how many cores I have on my machine and thus the optimal number of processes.  This isn't a hard or strict rule.  For `Python` programs, using multiprocessing this tends to become more of a sticking point for performance.  Because `wget` is so fast (and not written in `Python`) there isn't a noticible difference.  "
   ]
  },
  {
   "cell_type": "code",
   "execution_count": 2,
   "metadata": {},
   "outputs": [],
   "source": [
    "green = pd.read_csv(\"data/green_tripdata_2015-09.csv\")"
   ]
  },
  {
   "cell_type": "code",
   "execution_count": 3,
   "metadata": {},
   "outputs": [
    {
     "data": {
      "text/plain": [
       "(1494926, 21)"
      ]
     },
     "execution_count": 3,
     "metadata": {},
     "output_type": "execute_result"
    }
   ],
   "source": [
    "green.shape"
   ]
  },
  {
   "cell_type": "markdown",
   "metadata": {},
   "source": [
    "Now that I've downloaded and loaded the data into memory, I see that there are:\n",
    "\n",
    "* 1494926 rows\n",
    "* 21 columns\n"
   ]
  },
  {
   "cell_type": "code",
   "execution_count": 8,
   "metadata": {},
   "outputs": [
    {
     "data": {
      "text/plain": [
       "Index(['VendorID', 'lpep_pickup_datetime', 'Lpep_dropoff_datetime',\n",
       "       'Store_and_fwd_flag', 'RateCodeID', 'Pickup_longitude',\n",
       "       'Pickup_latitude', 'Dropoff_longitude', 'Dropoff_latitude',\n",
       "       'Passenger_count', 'Trip_distance', 'Fare_amount', 'Extra', 'MTA_tax',\n",
       "       'Tip_amount', 'Tolls_amount', 'Ehail_fee', 'improvement_surcharge',\n",
       "       'Total_amount', 'Payment_type', 'Trip_type '],\n",
       "      dtype='object')"
      ]
     },
     "execution_count": 8,
     "metadata": {},
     "output_type": "execute_result"
    }
   ],
   "source": [
    "green.columns"
   ]
  },
  {
   "cell_type": "markdown",
   "metadata": {},
   "source": [
    "Here are the column names available"
   ]
  },
  {
   "cell_type": "markdown",
   "metadata": {},
   "source": [
    "# Question 2\n",
    "\n",
    "Now that we have a sense of the types of columns, let's dive into question 2 - \n",
    "\n",
    "For this question we plot a histogram of the number of the trip distance and report any structure and hypotheses about the structure.\n"
   ]
  },
  {
   "cell_type": "code",
   "execution_count": 4,
   "metadata": {},
   "outputs": [
    {
     "name": "stdout",
     "output_type": "stream",
     "text": [
      "0.0\n",
      "603.1\n"
     ]
    }
   ],
   "source": [
    "print(green[\"Trip_distance\"].min())\n",
    "print(green[\"Trip_distance\"].max())"
   ]
  },
  {
   "cell_type": "markdown",
   "metadata": {},
   "source": [
    "The above gives us a sense of the range of values for trip distance.  In order to really put this into context, we'll need the units for these numbers.\n",
    "\n",
    "For this I turned to the data dictionary associated with the data set, found here:\n",
    "\n",
    "`http://www.nyc.gov/html/tlc/downloads/pdf/data_dictionary_trip_records_green.pdf`\n",
    "\n",
    "It turns out `Trip_distance` is defined as:\n",
    "\n",
    "_The elapsed trip distance in miles reported by the taximeter._\n",
    "\n",
    "So we can say these numbers are in miles.  My guess is that 0.0 is when someone got in a cab, decided they didn't want to go anywhere and got out of the cab, after the cab drive already started the meter.\n",
    "\n",
    "We can verify this by looking to see if there was a charge associated with: \n",
    "\n",
    "`Trip_distance == 0`"
   ]
  },
  {
   "cell_type": "code",
   "execution_count": 4,
   "metadata": {},
   "outputs": [
    {
     "name": "stdout",
     "output_type": "stream",
     "text": [
      "-475.0\n",
      "500.0\n"
     ]
    },
    {
     "data": {
      "text/plain": [
       "(array([3.57366211e-05, 1.78683106e-05, 3.57366211e-05, 1.60814795e-04,\n",
       "        3.25203252e-03, 5.55704458e-03, 6.96864111e-04, 2.50156348e-04,\n",
       "        1.42946484e-04, 1.07209863e-04]),\n",
       " array([-475. , -377.5, -280. , -182.5,  -85. ,   12.5,  110. ,  207.5,\n",
       "         305. ,  402.5,  500. ]),\n",
       " <a list of 10 Patch objects>)"
      ]
     },
     "execution_count": 4,
     "metadata": {},
     "output_type": "execute_result"
    },
    {
     "data": {
      "image/png": "[encoded data removed]",
      "text/plain": [
       "<matplotlib.figure.Figure at 0x7f9e24adaeb8>"
      ]
     },
     "metadata": {},
     "output_type": "display_data"
    }
   ],
   "source": [
    "no_distance = green[green[\"Trip_distance\"] == 0]\n",
    "fare_amounts = list(set(no_distance[\"Fare_amount\"]))\n",
    "print(min(fare_amounts))\n",
    "print(max(fare_amounts))\n",
    "plt.hist(fare_amounts, density=True)"
   ]
  },
  {
   "cell_type": "markdown",
   "metadata": {},
   "source": [
    "Interestingly the fair amounts range from -475 to 500.  Just to make sure we are on the same page, `Fare_amount` is in dollars.  I have no good sense of what a negative fare means in this dataset, so I'm going to drop any records with a negative fare amount. "
   ]
  },
  {
   "cell_type": "code",
   "execution_count": 3,
   "metadata": {},
   "outputs": [],
   "source": [
    "green = green[green[\"Fare_amount\"] >= 0]"
   ]
  },
  {
   "cell_type": "markdown",
   "metadata": {},
   "source": [
    "Just to be sure this is the only issue, let's look at the ranges for all the other real valued columns too\n"
   ]
  },
  {
   "cell_type": "code",
   "execution_count": 6,
   "metadata": {},
   "outputs": [
    {
     "name": "stdout",
     "output_type": "stream",
     "text": [
      "VendorID\n",
      "Min 1\n",
      "Max 2\n",
      "\n",
      "RateCodeID\n",
      "Min 1\n",
      "Max 99\n",
      "\n",
      "Pickup_longitude\n",
      "Min -83.31907653808595\n",
      "Max 0.0\n",
      "\n",
      "Pickup_latitude\n",
      "Min 0.0\n",
      "Max 43.177261352539055\n",
      "\n",
      "Dropoff_longitude\n",
      "Min -83.42784118652342\n",
      "Max 0.0\n",
      "\n",
      "Dropoff_latitude\n",
      "Min 0.0\n",
      "Max 42.79934310913085\n",
      "\n",
      "Passenger_count\n",
      "Min 0\n",
      "Max 9\n",
      "\n",
      "Trip_distance\n",
      "Min 0.0\n",
      "Max 603.1\n",
      "\n",
      "Fare_amount\n",
      "Min 0.0\n",
      "Max 580.5\n",
      "\n",
      "Extra\n",
      "Min -0.72\n",
      "Max 12.0\n",
      "\n",
      "MTA_tax\n",
      "Min 0.0\n",
      "Max 0.5\n",
      "\n",
      "Tip_amount\n",
      "Min 0.0\n",
      "Max 300.0\n",
      "\n",
      "Tolls_amount\n",
      "Min 0.0\n",
      "Max 95.75\n",
      "\n",
      "Ehail_fee\n",
      "Min nan\n",
      "Max nan\n",
      "\n",
      "improvement_surcharge\n",
      "Min 0.0\n",
      "Max 0.3\n",
      "\n",
      "Total_amount\n",
      "Min 0.0\n",
      "Max 581.3\n",
      "\n",
      "Payment_type\n",
      "Min 1\n",
      "Max 5\n",
      "\n",
      "Trip_type \n",
      "Min 1.0\n",
      "Max 2.0\n",
      "\n"
     ]
    }
   ],
   "source": [
    "numeric_data = green._get_numeric_data()\n",
    "for column in numeric_data.columns: \n",
    "    print(column)\n",
    "    print(\"Min\", min(green[column]))\n",
    "    print(\"Max\", max(green[column]))\n",
    "    print()"
   ]
  },
  {
   "cell_type": "markdown",
   "metadata": {},
   "source": [
    "It looks like `Extra` which is defined as:\n",
    "\n",
    "_Miscellaneous extras and surcharges. Currently, this only includes the $0.50 and $1 rush hour and overnight charges._\n",
    "\n",
    "Has some negative values.  Also Ehail_fee appears to be only `nan`.  Let's verify this:"
   ]
  },
  {
   "cell_type": "code",
   "execution_count": 8,
   "metadata": {},
   "outputs": [
    {
     "data": {
      "text/plain": [
       "array([nan])"
      ]
     },
     "execution_count": 8,
     "metadata": {},
     "output_type": "execute_result"
    }
   ],
   "source": [
    "green[\"Ehail_fee\"].unique()"
   ]
  },
  {
   "cell_type": "markdown",
   "metadata": {},
   "source": [
    "This tells us we should drop `Ehail_fee` and let's also segment `Extra` to be only positive values."
   ]
  },
  {
   "cell_type": "code",
   "execution_count": 4,
   "metadata": {},
   "outputs": [],
   "source": [
    "green = green[green[\"Extra\"] >= 0]\n",
    "green.drop(\"Ehail_fee\", axis=1, inplace=True)"
   ]
  },
  {
   "cell_type": "markdown",
   "metadata": {},
   "source": [
    "Now we are ready for our first histogram!"
   ]
  },
  {
   "cell_type": "code",
   "execution_count": 7,
   "metadata": {
    "scrolled": true
   },
   "outputs": [
    {
     "data": {
      "text/plain": [
       "(array([0.36964233, 0.20854991, 0.13369146, 0.08290189, 0.05674022,\n",
       "        0.04104937, 0.03023886, 0.02015981, 0.01455313, 0.01150014,\n",
       "        0.00842837, 0.00621096, 0.00457479, 0.00354461, 0.00275512,\n",
       "        0.0017403 , 0.00191697, 0.00180175]),\n",
       " array([ 1,  2,  3,  4,  5,  6,  7,  8,  9, 10, 11, 12, 13, 14, 15, 16, 17,\n",
       "        18, 19]),\n",
       " <a list of 18 Patch objects>)"
      ]
     },
     "execution_count": 7,
     "metadata": {},
     "output_type": "execute_result"
    },
    {
     "data": {
      "image/png": "[encoded data removed]",
      "text/plain": [
       "<matplotlib.figure.Figure at 0x7f145b8189b0>"
      ]
     },
     "metadata": {},
     "output_type": "display_data"
    }
   ],
   "source": [
    "bins = list(range(1,20,1))\n",
    "plt.xlabel(\"Miles\")\n",
    "plt.hist(green[\"Trip_distance\"], bins=bins, density=True)"
   ]
  },
  {
   "cell_type": "markdown",
   "metadata": {},
   "source": [
    "First, let's look at the array that was output above the histogram.  This is because I set the density flag to `True` and shows us the density of each bin.  We can think of this like an area under the curve, where the sum of the area must equal 1.\n",
    "\n",
    "As you can see, the majority of the trips occur between 0 and 1 miles for green taxi cabs.  And as you go further distances the frequence of each distance bin drops off exponentially.  \n",
    "\n",
    "There are a few reasons I think this is the case:\n",
    "\n",
    "1. Because cost is a function of distance, as cost increases there will be fewer people willing to pay the higher prices.\n",
    "2. The subway system is good, so if long distance travel is required, most folks will take the subway instead.\n"
   ]
  },
  {
   "cell_type": "code",
   "execution_count": 5,
   "metadata": {},
   "outputs": [],
   "source": [
    "green.to_csv(\"green_taxi_cleaned.csv\", index=False)"
   ]
  },
  {
   "cell_type": "code",
   "execution_count": null,
   "metadata": {},
   "outputs": [],
   "source": []
  }
 ],
 "metadata": {
  "kernelspec": {
   "display_name": "Python 3",
   "language": "python",
   "name": "python3"
  },
  "language_info": {
   "codemirror_mode": {
    "name": "ipython",
    "version": 3
   },
   "file_extension": ".py",
   "mimetype": "text/x-python",
   "name": "python",
   "nbconvert_exporter": "python",
   "pygments_lexer": "ipython3",
   "version": "3.6.3"
  }
 },
 "nbformat": 4,
 "nbformat_minor": 2
}
