{
 "cells": [
  {
   "cell_type": "markdown",
   "metadata": {},
   "source": [
    "# Exercise three - Hypothesis testing\n",
    "\n",
    "For this exercise you'll be testing your own hypotheses!  "
   ]
  },
  {
   "cell_type": "code",
   "execution_count": 3,
   "metadata": {},
   "outputs": [],
   "source": [
    "import pandas as pd\n",
    "import matplotlib.pyplot as plt\n",
    "import numpy as np\n",
    "from scipy import stats\n",
    "\n",
    "%matplotlib inline"
   ]
  },
  {
   "cell_type": "code",
   "execution_count": 11,
   "metadata": {},
   "outputs": [],
   "source": [
    "import warnings\n",
    "warnings.filterwarnings('ignore')"
   ]
  },
  {
   "cell_type": "code",
   "execution_count": 4,
   "metadata": {},
   "outputs": [],
   "source": [
    "green = pd.read_csv(\"green_tripdata_2015-09.csv\")"
   ]
  },
  {
   "cell_type": "code",
   "execution_count": 5,
   "metadata": {},
   "outputs": [
    {
     "data": {
      "text/plain": [
       "Index(['VendorID', 'lpep_pickup_datetime', 'Lpep_dropoff_datetime',\n",
       "       'Store_and_fwd_flag', 'RateCodeID', 'Pickup_longitude',\n",
       "       'Pickup_latitude', 'Dropoff_longitude', 'Dropoff_latitude',\n",
       "       'Passenger_count', 'Trip_distance', 'Fare_amount', 'Extra', 'MTA_tax',\n",
       "       'Tip_amount', 'Tolls_amount', 'Ehail_fee', 'improvement_surcharge',\n",
       "       'Total_amount', 'Payment_type', 'Trip_type '],\n",
       "      dtype='object')"
      ]
     },
     "execution_count": 5,
     "metadata": {},
     "output_type": "execute_result"
    }
   ],
   "source": [
    "green.columns"
   ]
  },
  {
   "cell_type": "markdown",
   "metadata": {},
   "source": [
    "Carry out hypothesis testing for the following pairs of columns:\n",
    "\n",
    "* Trip_distance\n",
    "* Tip_amount\n",
    "\n",
    "* Tolls_amount\n",
    "* Tip_amount\n",
    "\n",
    "You should at the least use the hypothesis tests listed in the example, but don't feel limited to _only_ using those.  If there are other hypotheses you'd like to test, go nuts!"
   ]
  },
  {
   "cell_type": "code",
   "execution_count": 12,
   "metadata": {},
   "outputs": [
    {
     "name": "stdout",
     "output_type": "stream",
     "text": [
      "Pair ('Trip_distance', 'Tip_amount')\n",
      "(0.38986495083933925, 0.0)\n",
      "SpearmanrResult(correlation=0.30701788422708826, pvalue=0.0)\n",
      "MannwhitneyuResult(statistic=1711995064014.0, pvalue=0.0)\n",
      "WilcoxonResult(statistic=112707029051.5, pvalue=0.0)\n",
      "Ks_2sampResult(statistic=0.5830402307538968, pvalue=0.0)\n",
      "\n",
      "\n",
      "Pair ('Trip_distance', 'Tolls_amount')\n",
      "(0.32006926914857564, 0.0)\n",
      "SpearmanrResult(correlation=0.20472078582841083, pvalue=0.0)\n",
      "MannwhitneyuResult(statistic=2178943552860.0, pvalue=0.0)\n",
      "WilcoxonResult(statistic=4460788983.0, pvalue=0.0)\n",
      "Ks_2sampResult(statistic=0.9649026105640012, pvalue=0.0)\n",
      "\n",
      "\n",
      "Pair ('Trip_distance', 'Tip_amount')\n",
      "(0.38986495083933925, 0.0)\n",
      "SpearmanrResult(correlation=0.30701788422708826, pvalue=0.0)\n",
      "MannwhitneyuResult(statistic=1711995064014.0, pvalue=0.0)\n",
      "WilcoxonResult(statistic=112707029051.5, pvalue=0.0)\n",
      "Ks_2sampResult(statistic=0.5830402307538968, pvalue=0.0)\n",
      "\n",
      "\n",
      "Pair ('Tip_amount', 'Tolls_amount')\n",
      "(0.18942485490029512, 0.0)\n",
      "SpearmanrResult(correlation=0.10891243035113592, pvalue=0.0)\n",
      "MannwhitneyuResult(statistic=1536675672571.0, pvalue=0.0)\n",
      "WilcoxonResult(statistic=8436409272.5, pvalue=0.0)\n",
      "Ks_2sampResult(statistic=0.3818623798101044, pvalue=0.0)\n",
      "\n",
      "\n",
      "Pair ('Tip_amount', 'Tip_amount')\n",
      "(1.0, 0.0)\n",
      "SpearmanrResult(correlation=0.9999999999999999, pvalue=0.0)\n",
      "MannwhitneyuResult(statistic=1117401872738.0, pvalue=0.9999999993974937)\n",
      "WilcoxonResult(statistic=0.0, pvalue=nan)\n",
      "Ks_2sampResult(statistic=0.0, pvalue=1.0)\n",
      "\n",
      "\n",
      "Pair ('Tolls_amount', 'Tip_amount')\n",
      "(0.18942485490029512, 0.0)\n",
      "SpearmanrResult(correlation=0.10891243035113592, pvalue=0.0)\n",
      "MannwhitneyuResult(statistic=698128072905.0, pvalue=0.0)\n",
      "WilcoxonResult(statistic=8436409272.5, pvalue=0.0)\n",
      "Ks_2sampResult(statistic=0.3818623798101044, pvalue=0.0)\n",
      "\n",
      "\n"
     ]
    }
   ],
   "source": [
    "import itertools\n",
    "\n",
    "def analyze(column_A, column_B):\n",
    "    print(stats.pearsonr(green[column_A], green[column_B]))\n",
    "    print(stats.spearmanr(green[column_A], green[column_B]))\n",
    "    print(stats.mannwhitneyu(green[column_A], green[column_B], alternative=\"two-sided\"))\n",
    "    print(stats.wilcoxon(green[column_A], green[column_B]))\n",
    "    print(stats.ks_2samp(green[column_A], green[column_B]))\n",
    "    \n",
    "for pair in itertools.combinations([\"Trip_distance\", \"Tip_amount\", \"Tolls_amount\", \"Tip_amount\"], 2):\n",
    "    print(\"Pair\", pair)\n",
    "    analyze(pair[0], pair[1])\n",
    "    print()\n",
    "    print()"
   ]
  },
  {
   "cell_type": "code",
   "execution_count": null,
   "metadata": {},
   "outputs": [],
   "source": []
  }
 ],
 "metadata": {
  "kernelspec": {
   "display_name": "Python 3",
   "language": "python",
   "name": "python3"
  },
  "language_info": {
   "codemirror_mode": {
    "name": "ipython",
    "version": 3
   },
   "file_extension": ".py",
   "mimetype": "text/x-python",
   "name": "python",
   "nbconvert_exporter": "python",
   "pygments_lexer": "ipython3",
   "version": "3.6.5"
  }
 },
 "nbformat": 4,
 "nbformat_minor": 2
}
