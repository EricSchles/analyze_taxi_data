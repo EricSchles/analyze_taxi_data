{
 "cells": [
  {
   "cell_type": "markdown",
   "metadata": {},
   "source": [
    "# Exploratory Data Analysis - Describing & Filtering data\n",
    "\n",
    "In the below example we'll look at how to filter and select data in pandas."
   ]
  },
  {
   "cell_type": "code",
   "execution_count": 3,
   "metadata": {},
   "outputs": [],
   "source": [
    "import pandas as pd"
   ]
  },
  {
   "cell_type": "code",
   "execution_count": 4,
   "metadata": {},
   "outputs": [],
   "source": [
    "random_data = pd.read_csv(\"random_data.csv\")"
   ]
  },
  {
   "cell_type": "code",
   "execution_count": 11,
   "metadata": {},
   "outputs": [
    {
     "data": {
      "text/html": [
       "<div>\n",
       "<style scoped>\n",
       "    .dataframe tbody tr th:only-of-type {\n",
       "        vertical-align: middle;\n",
       "    }\n",
       "\n",
       "    .dataframe tbody tr th {\n",
       "        vertical-align: top;\n",
       "    }\n",
       "\n",
       "    .dataframe thead th {\n",
       "        text-align: right;\n",
       "    }\n",
       "</style>\n",
       "<table border=\"1\" class=\"dataframe\">\n",
       "  <thead>\n",
       "    <tr style=\"text-align: right;\">\n",
       "      <th></th>\n",
       "      <th>A</th>\n",
       "      <th>B</th>\n",
       "      <th>C</th>\n",
       "      <th>D</th>\n",
       "      <th>E</th>\n",
       "    </tr>\n",
       "  </thead>\n",
       "  <tbody>\n",
       "    <tr>\n",
       "      <th>0</th>\n",
       "      <td>0.437349</td>\n",
       "      <td>0.144989</td>\n",
       "      <td>0.841138</td>\n",
       "      <td>1.257286</td>\n",
       "      <td>-1.459595</td>\n",
       "    </tr>\n",
       "    <tr>\n",
       "      <th>1</th>\n",
       "      <td>-0.872279</td>\n",
       "      <td>-0.756656</td>\n",
       "      <td>0.198512</td>\n",
       "      <td>-0.231623</td>\n",
       "      <td>0.006993</td>\n",
       "    </tr>\n",
       "    <tr>\n",
       "      <th>2</th>\n",
       "      <td>2.292596</td>\n",
       "      <td>-0.644215</td>\n",
       "      <td>-0.320572</td>\n",
       "      <td>-1.746933</td>\n",
       "      <td>0.086320</td>\n",
       "    </tr>\n",
       "    <tr>\n",
       "      <th>3</th>\n",
       "      <td>-0.207686</td>\n",
       "      <td>0.274467</td>\n",
       "      <td>0.330393</td>\n",
       "      <td>1.697657</td>\n",
       "      <td>-0.235343</td>\n",
       "    </tr>\n",
       "    <tr>\n",
       "      <th>4</th>\n",
       "      <td>-0.325484</td>\n",
       "      <td>-2.078535</td>\n",
       "      <td>0.867357</td>\n",
       "      <td>-1.149836</td>\n",
       "      <td>0.112100</td>\n",
       "    </tr>\n",
       "  </tbody>\n",
       "</table>\n",
       "</div>"
      ],
      "text/plain": [
       "          A         B         C         D         E\n",
       "0  0.437349  0.144989  0.841138  1.257286 -1.459595\n",
       "1 -0.872279 -0.756656  0.198512 -0.231623  0.006993\n",
       "2  2.292596 -0.644215 -0.320572 -1.746933  0.086320\n",
       "3 -0.207686  0.274467  0.330393  1.697657 -0.235343\n",
       "4 -0.325484 -2.078535  0.867357 -1.149836  0.112100"
      ]
     },
     "execution_count": 11,
     "metadata": {},
     "output_type": "execute_result"
    }
   ],
   "source": [
    "random_data.head()"
   ]
  },
  {
   "cell_type": "code",
   "execution_count": 12,
   "metadata": {},
   "outputs": [
    {
     "data": {
      "text/plain": [
       "['A', 'B', 'C', 'D', 'E']"
      ]
     },
     "execution_count": 12,
     "metadata": {},
     "output_type": "execute_result"
    }
   ],
   "source": [
    "list(random_data.columns)"
   ]
  },
  {
   "cell_type": "markdown",
   "metadata": {},
   "source": [
    "# Describing Data in Pandas\n",
    "\n",
    "Now that we have some fake data to look at - let's see how we can describe the data effectively.  Describing data is all about finding a minimal description of the dataset, that gives you a sense of it's general distribution and shape.  For this we look at things like:\n",
    "\n",
    "* center \n",
    "    * Mean, \n",
    "    * Median, \n",
    "    * Mode, \n",
    "    * Trimean, \n",
    "    * geometric mean, \n",
    "    * harmonic mean, \n",
    "    * weighted arthemtic average, \n",
    "    * truncated mean, \n",
    "    * midrange, \n",
    "    * midhinge, \n",
    "    * trimean, \n",
    "    * winsoried mean, \n",
    "    * geometric median, \n",
    "    * quadratic mean, \n",
    "    * simplicial depth, \n",
    "    * tukey median\n",
    "\n",
    "[Descriptions of each measure of center listed above](https://en.wikipedia.org/wiki/Central_tendency)\n",
    "\n",
    "* spread\n",
    "     * standard deviation\n",
    "     * interquartile range\n",
    "     * range\n",
    "     * mean absolute difference\n",
    "     * median absolute deviation\n",
    "     * average absolute deviation\n",
    "     * distance standard deviation\n",
    "     * coefficient of variation\n",
    "     * quartile coefficient of dispersion\n",
    "     * relative mean difference\n",
    "     * Entropy\n",
    "     * Variance\n",
    "     * Variance to mean ratio\n",
    "     \n",
    "[Descriptions of each measure of spread listed above](https://en.wikipedia.org/wiki/Statistical_dispersion) \n",
    " \n",
    "     \n",
    "* Additional measures\n",
    "     * biweight midvariance\n",
    "     * absolute pairwise differences\n",
    " \n"
   ]
  },
  {
   "cell_type": "code",
   "execution_count": 17,
   "metadata": {},
   "outputs": [
    {
     "data": {
      "text/html": [
       "<div>\n",
       "<style scoped>\n",
       "    .dataframe tbody tr th:only-of-type {\n",
       "        vertical-align: middle;\n",
       "    }\n",
       "\n",
       "    .dataframe tbody tr th {\n",
       "        vertical-align: top;\n",
       "    }\n",
       "\n",
       "    .dataframe thead th {\n",
       "        text-align: right;\n",
       "    }\n",
       "</style>\n",
       "<table border=\"1\" class=\"dataframe\">\n",
       "  <thead>\n",
       "    <tr style=\"text-align: right;\">\n",
       "      <th></th>\n",
       "      <th>A</th>\n",
       "      <th>B</th>\n",
       "      <th>C</th>\n",
       "      <th>D</th>\n",
       "      <th>E</th>\n",
       "    </tr>\n",
       "  </thead>\n",
       "  <tbody>\n",
       "    <tr>\n",
       "      <th>mean</th>\n",
       "      <td>-0.035185</td>\n",
       "      <td>0.005638</td>\n",
       "      <td>-0.018034</td>\n",
       "      <td>0.016843</td>\n",
       "      <td>0.044505</td>\n",
       "    </tr>\n",
       "    <tr>\n",
       "      <th>median</th>\n",
       "      <td>-0.014933</td>\n",
       "      <td>-0.005839</td>\n",
       "      <td>0.033285</td>\n",
       "      <td>0.036266</td>\n",
       "      <td>0.071855</td>\n",
       "    </tr>\n",
       "    <tr>\n",
       "      <th>stdev</th>\n",
       "      <td>0.978908</td>\n",
       "      <td>1.033043</td>\n",
       "      <td>1.014287</td>\n",
       "      <td>0.977759</td>\n",
       "      <td>1.011080</td>\n",
       "    </tr>\n",
       "    <tr>\n",
       "      <th>variance</th>\n",
       "      <td>0.958261</td>\n",
       "      <td>1.067179</td>\n",
       "      <td>1.028778</td>\n",
       "      <td>0.956012</td>\n",
       "      <td>1.022283</td>\n",
       "    </tr>\n",
       "    <tr>\n",
       "      <th>min</th>\n",
       "      <td>-3.774899</td>\n",
       "      <td>-3.913617</td>\n",
       "      <td>-2.721996</td>\n",
       "      <td>-3.180298</td>\n",
       "      <td>-3.156781</td>\n",
       "    </tr>\n",
       "    <tr>\n",
       "      <th>max</th>\n",
       "      <td>3.578237</td>\n",
       "      <td>3.138728</td>\n",
       "      <td>3.883681</td>\n",
       "      <td>3.080082</td>\n",
       "      <td>3.099781</td>\n",
       "    </tr>\n",
       "  </tbody>\n",
       "</table>\n",
       "</div>"
      ],
      "text/plain": [
       "                 A         B         C         D         E\n",
       "mean     -0.035185  0.005638 -0.018034  0.016843  0.044505\n",
       "median   -0.014933 -0.005839  0.033285  0.036266  0.071855\n",
       "stdev     0.978908  1.033043  1.014287  0.977759  1.011080\n",
       "variance  0.958261  1.067179  1.028778  0.956012  1.022283\n",
       "min      -3.774899 -3.913617 -2.721996 -3.180298 -3.156781\n",
       "max       3.578237  3.138728  3.883681  3.080082  3.099781"
      ]
     },
     "execution_count": 17,
     "metadata": {},
     "output_type": "execute_result"
    }
   ],
   "source": [
    "columns = random_data.columns.tolist()\n",
    "descriptions = pd.DataFrame(columns=columns)\n",
    "descriptions = descriptions.append({column:random_data[column].mean() for column in columns}, ignore_index=True)\n",
    "descriptions = descriptions.append({column:random_data[column].median() for column in columns}, ignore_index=True)\n",
    "descriptions = descriptions.append({column:random_data[column].std() for column in columns}, ignore_index=True)\n",
    "descriptions = descriptions.append({column:random_data[column].var() for column in columns}, ignore_index=True)\n",
    "descriptions = descriptions.append({column:random_data[column].min() for column in columns}, ignore_index=True)\n",
    "descriptions = descriptions.append({column:random_data[column].max() for column in columns}, ignore_index=True)\n",
    "descriptions.index = [\"mean\", \"median\", \"stdev\", \"variance\", \"min\", \"max\"]\n",
    "descriptions"
   ]
  },
  {
   "cell_type": "markdown",
   "metadata": {},
   "source": [
    "From here we get a sense of where the data is centered as well as how far apart it's spread out.\n",
    "\n",
    "Based on the above it appears all of the columns have a very similar distribution - they are all spread out about the same with very close centers."
   ]
  },
  {
   "cell_type": "markdown",
   "metadata": {},
   "source": [
    "# Filtering in Pandas\n",
    "\n",
    "Filtering in pandas is fast because it uses a technique called broadcasting.  Broadcasting means that the loops happen in C rather than in Python, leading to a performance gain in speed.\n",
    "\n",
    "Let's look at two implementations of the same thing, first the standard Python version:"
   ]
  },
  {
   "cell_type": "code",
   "execution_count": 26,
   "metadata": {},
   "outputs": [],
   "source": [
    "subset = pd.DataFrame()\n",
    "for index in random_data.index:\n",
    "    if random_data.loc[index][\"A\"] < 0.1:\n",
    "        subset = subset.append(random_data.loc[index])"
   ]
  },
  {
   "cell_type": "code",
   "execution_count": 27,
   "metadata": {},
   "outputs": [],
   "source": [
    "fast_subset = random_data[random_data[\"A\"] < 0.1]"
   ]
  },
  {
   "cell_type": "code",
   "execution_count": 28,
   "metadata": {},
   "outputs": [
    {
     "data": {
      "text/plain": [
       "True"
      ]
     },
     "execution_count": 28,
     "metadata": {},
     "output_type": "execute_result"
    }
   ],
   "source": [
    "subset.equals(fast_subset)"
   ]
  }
 ],
 "metadata": {
  "kernelspec": {
   "display_name": "Python 3",
   "language": "python",
   "name": "python3"
  },
  "language_info": {
   "codemirror_mode": {
    "name": "ipython",
    "version": 3
   },
   "file_extension": ".py",
   "mimetype": "text/x-python",
   "name": "python",
   "nbconvert_exporter": "python",
   "pygments_lexer": "ipython3",
   "version": "3.6.5"
  }
 },
 "nbformat": 4,
 "nbformat_minor": 2
}
