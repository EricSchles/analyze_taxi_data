{
 "cells": [
  {
   "cell_type": "markdown",
   "metadata": {},
   "source": [
    "# Exploring the Data - Visualization\n",
    "\n",
    "Let's dive a little deeper into understanding the data set.  We know from the last exercise, that the data has some semantic errors - namely there are trips with no_distance.  \n",
    "\n",
    "First we'll load in the data like last time:"
   ]
  },
  {
   "cell_type": "code",
   "execution_count": 1,
   "metadata": {},
   "outputs": [],
   "source": [
    "import pandas as pd\n",
    "import matplotlib.pyplot as plt\n",
    "%matplotlib inline\n",
    "\n",
    "green = pd.read_csv(\"green_tripdata_2015-09.csv\")"
   ]
  },
  {
   "cell_type": "markdown",
   "metadata": {},
   "source": [
    "Now we'll filter the dataset to only those with no distance:"
   ]
  },
  {
   "cell_type": "code",
   "execution_count": 2,
   "metadata": {},
   "outputs": [
    {
     "data": {
      "text/plain": [
       "(20592, 21)"
      ]
     },
     "execution_count": 2,
     "metadata": {},
     "output_type": "execute_result"
    }
   ],
   "source": [
    "no_distance = green[green[\"Trip_distance\"] == 0]\n",
    "\n",
    "no_distance.shape"
   ]
  },
  {
   "cell_type": "code",
   "execution_count": 3,
   "metadata": {},
   "outputs": [
    {
     "data": {
      "text/plain": [
       "Index(['VendorID', 'lpep_pickup_datetime', 'Lpep_dropoff_datetime',\n",
       "       'Store_and_fwd_flag', 'RateCodeID', 'Pickup_longitude',\n",
       "       'Pickup_latitude', 'Dropoff_longitude', 'Dropoff_latitude',\n",
       "       'Passenger_count', 'Trip_distance', 'Fare_amount', 'Extra', 'MTA_tax',\n",
       "       'Tip_amount', 'Tolls_amount', 'Ehail_fee', 'improvement_surcharge',\n",
       "       'Total_amount', 'Payment_type', 'Trip_type '],\n",
       "      dtype='object')"
      ]
     },
     "execution_count": 3,
     "metadata": {},
     "output_type": "execute_result"
    }
   ],
   "source": [
    "no_distance.columns"
   ]
  },
  {
   "cell_type": "markdown",
   "metadata": {},
   "source": [
    "Now visualize the range of values that people paid to travel zero distance.  For this you should use the variable `Fare_amount`.  Please plot the data as a histogram."
   ]
  },
  {
   "cell_type": "code",
   "execution_count": 5,
   "metadata": {},
   "outputs": [
    {
     "data": {
      "text/plain": [
       "(array([9.96154842e-07, 4.98077421e-07, 9.96154842e-07, 6.97308390e-06,\n",
       "        7.28587652e-03, 2.88087980e-03, 5.18000518e-05, 1.34480904e-05,\n",
       "        1.04596258e-05, 4.48269679e-06]),\n",
       " array([-475. , -377.5, -280. , -182.5,  -85. ,   12.5,  110. ,  207.5,\n",
       "         305. ,  402.5,  500. ]),\n",
       " <a list of 10 Patch objects>)"
      ]
     },
     "execution_count": 5,
     "metadata": {},
     "output_type": "execute_result"
    },
    {
     "data": {
      "image/png": "[encoded data removed]",
      "text/plain": [
       "<Figure size 432x288 with 1 Axes>"
      ]
     },
     "metadata": {},
     "output_type": "display_data"
    }
   ],
   "source": [
    "# exercise goes here\n",
    "\n",
    "plt.hist(no_distance[\"Fare_amount\"], density=True)"
   ]
  },
  {
   "cell_type": "markdown",
   "metadata": {},
   "source": [
    "# Bonus exercise\n",
    "\n",
    "If you read through the optional material in the last section, then you can do this exercise - Make use of pomegranate a distribution fitting library to figure out a reasonable dimension "
   ]
  },
  {
   "cell_type": "code",
   "execution_count": 12,
   "metadata": {},
   "outputs": [
    {
     "name": "stdout",
     "output_type": "stream",
     "text": [
      "Normally Distributed 2370\n",
      "Exponentially Distributed 18222\n"
     ]
    },
    {
     "data": {
      "image/png": "[encoded data removed]",
      "text/plain": [
       "<Figure size 432x288 with 1 Axes>"
      ]
     },
     "metadata": {},
     "output_type": "display_data"
    }
   ],
   "source": [
    "import numpy as np\n",
    "import pomegranate as pom\n",
    "\n",
    "X = np.array(no_distance[\"Fare_amount\"])\n",
    "X = X.reshape(-1, 1)\n",
    "model = pom.GeneralMixtureModel.from_samples(\n",
    "    [pom.NormalDistribution, pom.ExponentialDistribution],\n",
    "    n_components=3, X=X)\n",
    "labels = model.predict(X)\n",
    "label_mapping = [\"Normally Distributed\", \"Exponentially Distributed\"]\n",
    "for elem in zip(set(labels), np.bincount(labels)):\n",
    "    print(label_mapping[elem[0]], elem[1])\n",
    "\n",
    "samples = [ model.sample() for _ in range(10000) ]\n",
    "plt.hist( samples, edgecolor='c', color='c', bins=50 )\n",
    "plt.show()"
   ]
  },
  {
   "cell_type": "code",
   "execution_count": null,
   "metadata": {},
   "outputs": [],
   "source": []
  }
 ],
 "metadata": {
  "kernelspec": {
   "display_name": "Python 3",
   "language": "python",
   "name": "python3"
  },
  "language_info": {
   "codemirror_mode": {
    "name": "ipython",
    "version": 3
   },
   "file_extension": ".py",
   "mimetype": "text/x-python",
   "name": "python",
   "nbconvert_exporter": "python",
   "pygments_lexer": "ipython3",
   "version": "3.6.5"
  }
 },
 "nbformat": 4,
 "nbformat_minor": 2
}
