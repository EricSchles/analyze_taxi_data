{
 "cells": [
  {
   "cell_type": "code",
   "execution_count": 4,
   "metadata": {},
   "outputs": [],
   "source": [
    "import pandas as pd\n",
    "import matplotlib.pyplot as plt\n",
    "from scipy import stats\n",
    "from sklearn import linear_model\n",
    "from sklearn.svm import LinearSVC\n",
    "from sklearn import tree\n",
    "from sklearn.feature_selection import SelectFromModel, mutual_info_regression, f_regression\n",
    "import numpy as np\n",
    "import pydotplus \n",
    "from IPython.display import Image \n",
    "import statsmodels.api as sm\n",
    "import math\n",
    "from xgboost.sklearn import XGBRegressor\n",
    "from sklearn import ensemble\n",
    "from sklearn.grid_search import GridSearchCV\n",
    "from sklearn.grid_search import RandomizedSearchCV\n",
    "from sklearn.model_selection import train_test_split\n",
    "from dask import dataframe as dd\n",
    "from dask.multiprocessing import get\n",
    "from multiprocessing import cpu_count\n",
    "from sklearn.preprocessing import RobustScaler\n",
    "from sklearn.model_selection import cross_val_predict\n",
    "from numba import jit\n",
    "import geopandas as gpd\n",
    "from sklearn.ensemble import BaggingClassifier\n",
    "import random\n",
    "import xgboost as xgb\n",
    "from scipy.stats import randint as sp_randint\n",
    "from shapely.geometry import Point, Polygon\n",
    "import geojsonio\n",
    "import requests\n",
    "import ast\n",
    "from sklearn import preprocessing\n",
    "import json\n",
    "from sklearn import metrics\n",
    "from functools import partial\n",
    "from prettytable import PrettyTable\n",
    "%matplotlib inline"
   ]
  },
  {
   "cell_type": "code",
   "execution_count": 1,
   "metadata": {},
   "outputs": [],
   "source": [
    "import warnings\n",
    "warnings.filterwarnings('ignore')"
   ]
  },
  {
   "cell_type": "markdown",
   "metadata": {},
   "source": [
    "# Question 4 - Part 1\n",
    "\n",
    "We derive the `tip_percentage` as a percentage of `Total_amount`"
   ]
  },
  {
   "cell_type": "code",
   "execution_count": 5,
   "metadata": {},
   "outputs": [],
   "source": [
    "green = pd.read_csv(\"green_taxi_cleaned.csv\")\n",
    "green[\"lpep_pickup_datetime\"] = pd.to_datetime(green[\"lpep_pickup_datetime\"])\n",
    "green[\"Lpep_dropoff_datetime\"] = pd.to_datetime(green[\"Lpep_dropoff_datetime\"])"
   ]
  },
  {
   "cell_type": "code",
   "execution_count": 9,
   "metadata": {},
   "outputs": [
    {
     "data": {
      "text/plain": [
       "2"
      ]
     },
     "execution_count": 9,
     "metadata": {},
     "output_type": "execute_result"
    }
   ],
   "source": [
    "green[\"lpep_pickup_datetime\"][green.index[50000]].day"
   ]
  },
  {
   "cell_type": "markdown",
   "metadata": {},
   "source": [
    "Before moving on, let's investigate these two distributions a little - `Fare_amount` and `total_amount`"
   ]
  },
  {
   "cell_type": "code",
   "execution_count": 80,
   "metadata": {},
   "outputs": [
    {
     "data": {
      "text/plain": [
       "(array([6.36908765e-03, 7.41356224e-02, 5.02824544e-02, 2.72349773e-02,\n",
       "        1.58099385e-02, 9.41657821e-03, 5.80411173e-03, 3.83856413e-03,\n",
       "        2.38824024e-03, 1.47097575e-03, 1.26043405e-03, 6.67430607e-04,\n",
       "        4.29531893e-04, 2.84164247e-04, 2.60562120e-04, 1.00040834e-04,\n",
       "        7.54999863e-05, 5.39094040e-05, 4.62655333e-05, 3.24529248e-05,\n",
       "        3.91580746e-05]),\n",
       " array([  0,   5,  10,  15,  20,  25,  30,  35,  40,  45,  50,  55,  60,\n",
       "         65,  70,  75,  80,  85,  90,  95, 100, 105]),\n",
       " <a list of 21 Patch objects>)"
      ]
     },
     "execution_count": 80,
     "metadata": {},
     "output_type": "execute_result"
    },
    {
     "data": {
      "image/png": "[encoded data removed]",
      "text/plain": [
       "<matplotlib.figure.Figure at 0x7f3ec6ca4320>"
      ]
     },
     "metadata": {},
     "output_type": "display_data"
    }
   ],
   "source": [
    "bins = list(range(0, 110, 5))\n",
    "plt.xlabel(\"Dollars\")\n",
    "plt.hist(green[\"Total_amount\"], bins=bins, density=True)"
   ]
  },
  {
   "cell_type": "code",
   "execution_count": 81,
   "metadata": {},
   "outputs": [
    {
     "data": {
      "text/plain": [
       "(array([1.80588018e-02, 8.31547571e-02, 4.44932713e-02, 2.30111677e-02,\n",
       "        1.30603200e-02, 7.36621192e-03, 4.23475410e-03, 2.43502718e-03,\n",
       "        1.46887210e-03, 8.03274766e-04, 1.07393761e-03, 2.50017930e-04,\n",
       "        1.85267978e-04, 1.16362232e-04, 8.66013850e-05, 5.28188013e-05,\n",
       "        4.78586601e-05, 3.41847572e-05, 2.70796900e-05, 1.51485395e-05,\n",
       "        2.42644747e-05]),\n",
       " array([  0,   5,  10,  15,  20,  25,  30,  35,  40,  45,  50,  55,  60,\n",
       "         65,  70,  75,  80,  85,  90,  95, 100, 105]),\n",
       " <a list of 21 Patch objects>)"
      ]
     },
     "execution_count": 81,
     "metadata": {},
     "output_type": "execute_result"
    },
    {
     "data": {
      "image/png": "[encoded data removed]",
      "text/plain": [
       "<matplotlib.figure.Figure at 0x7f3ec52d2518>"
      ]
     },
     "metadata": {},
     "output_type": "display_data"
    }
   ],
   "source": [
    "bins = list(range(0, 110, 5))\n",
    "plt.xlabel(\"Dollars\")\n",
    "plt.hist(green[\"Fare_amount\"], bins=bins, density=True)"
   ]
  },
  {
   "cell_type": "markdown",
   "metadata": {},
   "source": [
    "We can see from the graphs that while both of these variables look similar, the `Fare_amount` has a much higher percentage of the data in the first bucket than the `Total_amount`.  \n",
    "\n",
    "For both the second bucket clearly has the most - between 5 and 10 dollars.  The amounts above 10 dollars appear to  spread out the change in price, for `Total_amount` vs there levels for `Fare_amount`.\n",
    "\n",
    "We are now in a place to create tip_percentage."
   ]
  },
  {
   "cell_type": "code",
   "execution_count": 6,
   "metadata": {},
   "outputs": [],
   "source": [
    "green = green[green[\"Total_amount\"] != 0]"
   ]
  },
  {
   "cell_type": "code",
   "execution_count": 7,
   "metadata": {},
   "outputs": [],
   "source": [
    "green[\"tip_percentage\"] = (green[\"Tip_amount\"] / green[\"Total_amount\"]) * 100"
   ]
  },
  {
   "cell_type": "markdown",
   "metadata": {},
   "source": [
    "After obtaining the derived variable I decided to sanity check my work by looking at the min and max.  I found something rather interesting:"
   ]
  },
  {
   "cell_type": "code",
   "execution_count": 57,
   "metadata": {},
   "outputs": [
    {
     "data": {
      "text/plain": [
       "(0.0, 100.0)"
      ]
     },
     "execution_count": 57,
     "metadata": {},
     "output_type": "execute_result"
    }
   ],
   "source": [
    "green[\"tip_percentage\"].min(), green[\"tip_percentage\"].max()"
   ]
  },
  {
   "cell_type": "markdown",
   "metadata": {},
   "source": [
    "There are some people, admittedly a small percentage, but non the less some people who give 100% of the total amount as a tip."
   ]
  },
  {
   "cell_type": "code",
   "execution_count": 59,
   "metadata": {},
   "outputs": [
    {
     "data": {
      "text/plain": [
       "(array([ 8., 22., 38., 19., 13., 12.,  9.,  2., 14.,  5.,  5.]),\n",
       " array([ 0,  5, 10, 15, 20, 25, 30, 35, 40, 45, 50, 55]),\n",
       " <a list of 11 Patch objects>)"
      ]
     },
     "execution_count": 59,
     "metadata": {},
     "output_type": "execute_result"
    },
    {
     "data": {
      "image/png": "[encoded data removed]",
      "text/plain": [
       "<matplotlib.figure.Figure at 0x7f8bf81cccf8>"
      ]
     },
     "metadata": {},
     "output_type": "display_data"
    }
   ],
   "source": [
    "people_who_gave_100 = green[green[\"tip_percentage\"] == 100][\"Total_amount\"]\n",
    "bins = list(range(0,60, 5))\n",
    "plt.hist(people_who_gave_100, bins=bins)"
   ]
  },
  {
   "cell_type": "markdown",
   "metadata": {},
   "source": [
    "# Question 4 - Part 2\n",
    "\n",
    "Build a predictive model for tip as a percentage of the total fare.  Use as much of the data as you like.  Provide an estimate of performance using an appropriate sample and show your work."
   ]
  },
  {
   "cell_type": "markdown",
   "metadata": {},
   "source": [
    "Because the dataset is so big, I'm going to take a random sample that matches the population parameters as closely as possible.\n"
   ]
  },
  {
   "cell_type": "code",
   "execution_count": 5,
   "metadata": {},
   "outputs": [],
   "source": [
    "def ks_selection(sample, df):\n",
    "    columns = [\n",
    "        \"Passenger_count\", \n",
    "        \"Trip_distance\", \n",
    "        \"Total_amount\",\n",
    "        \"Tip_amount\"\n",
    "    ]\n",
    "    test_results = []\n",
    "    for column in columns:\n",
    "        pval = stats.ks_2samp(sample[column], df[column]).pvalue\n",
    "        test_results.append(pval < 0.05)\n",
    "    if all(test_results):\n",
    "        return sample\n",
    "    else:\n",
    "        return ''\n",
    "    \n",
    "\n",
    "def moment_differencing_selection(sample, df, moment_values):\n",
    "    columns = [\n",
    "        \"Passenger_count\", \n",
    "        \"Trip_distance\", \n",
    "        \"Total_amount\",\n",
    "        \"Tip_amount\"\n",
    "    ]\n",
    "    tmp = []\n",
    "    for column in columns:\n",
    "        first_moment = abs(sample[column].mean() - df[column].mean())\n",
    "        tmp.append(first_moment)\n",
    "    for column in columns:\n",
    "        second_moment = abs(sample[column].std() - df[column].std())\n",
    "        tmp.append(second_moment)\n",
    "    moment_values.append(tmp)\n",
    "    return moment_values\n",
    "    \n",
    "    \n",
    "def generate_representative_sample(df, sample_size=10000, num_iterations=1000):\n",
    "    \"\"\"\n",
    "    This function generates a representative random sample based \n",
    "    on specific variables in the data set.\n",
    "    Variables for consideration:\n",
    "    * Passenger_count\n",
    "    * Trip_distance\n",
    "    * Total_amount\n",
    "    * Tip_amount\n",
    "    We attempt two methods:\n",
    "    - Kolmogorov-Smirnov test as a means of selection\n",
    "    - moment differencing as criteria for representativeness\n",
    "    If KS happens to every returns a valid sample,\n",
    "    that means all the distributions are equal for all variables of consideration.\n",
    "    If the moment differencing method is used, we search for the sample which minimizes\n",
    "    difference between the first two moments.\n",
    "    Notice that we only select on moment differences if ks fails for all generated samples.\n",
    "    \"\"\"\n",
    "    \n",
    "    possible_samples = []\n",
    "    moment_values = []\n",
    "    for _ in range(num_iterations):\n",
    "        sample = df.sample(sample_size)   \n",
    "        result = ks_selection(sample, df)\n",
    "        if result != '':\n",
    "            return result\n",
    "        possible_samples.append(sample)\n",
    "        moment_values = moment_differencing_selection(\n",
    "             sample, \n",
    "             df, \n",
    "             moment_values)\n",
    "            \n",
    "    min_sum = sum(moment_values[0])\n",
    "    best_sample = possible_samples[0]\n",
    "    for index, value in enumerate(moment_values):\n",
    "        if sum(value) < min_sum:\n",
    "            min_sum = sum(value)\n",
    "            best_sample = possible_samples[index]\n",
    "    return best_sample\n",
    "\n",
    "    "
   ]
  },
  {
   "cell_type": "markdown",
   "metadata": {},
   "source": [
    "Above I define a function I will perhaps somewhat boldly define as `generate_representative_sample`.  There are two methods employed here - selection via Kolmogorov-Smirnov which tests the hypothesis - are these distributions the same?  And moment differencing, which tries to recover samples with sample descriptive statistics as close to the population descriptive statistics as possible.\n",
    "\n",
    "Let's look at the results of our sample."
   ]
  },
  {
   "cell_type": "code",
   "execution_count": 71,
   "metadata": {},
   "outputs": [],
   "source": [
    "sample = generate_representative_sample(green, sample_size=50000)"
   ]
  },
  {
   "cell_type": "markdown",
   "metadata": {},
   "source": [
    "In order to maintain consistency of analysis we save the sample to disk."
   ]
  },
  {
   "cell_type": "code",
   "execution_count": 72,
   "metadata": {},
   "outputs": [],
   "source": [
    "sample.to_csv(\"sample.csv\", index=False)"
   ]
  },
  {
   "cell_type": "code",
   "execution_count": 8,
   "metadata": {},
   "outputs": [],
   "source": [
    "# run this line not the one above, unless you have a lot of time.\n",
    "sample = pd.read_csv(\"sample.csv\")\n",
    "sample[\"lpep_pickup_datetime\"] = pd.to_datetime(sample[\"lpep_pickup_datetime\"])\n",
    "sample[\"Lpep_dropoff_datetime\"] = pd.to_datetime(sample[\"Lpep_dropoff_datetime\"])"
   ]
  },
  {
   "cell_type": "markdown",
   "metadata": {},
   "source": [
    "# Assessing our sample\n",
    "\n",
    "First, lets see how good our sample is on `Trip_distance`"
   ]
  },
  {
   "cell_type": "code",
   "execution_count": 73,
   "metadata": {},
   "outputs": [
    {
     "data": {
      "text/plain": [
       "<matplotlib.axes._subplots.AxesSubplot at 0x7f4dea3c2668>"
      ]
     },
     "execution_count": 73,
     "metadata": {},
     "output_type": "execute_result"
    },
    {
     "data": {
      "image/png": "[encoded data removed]",
      "text/plain": [
       "<matplotlib.figure.Figure at 0x7f4dea395a20>"
      ]
     },
     "metadata": {},
     "output_type": "display_data"
    }
   ],
   "source": [
    "sample[\"Trip_distance\"].hist()"
   ]
  },
  {
   "cell_type": "code",
   "execution_count": 74,
   "metadata": {},
   "outputs": [
    {
     "data": {
      "text/plain": [
       "<matplotlib.axes._subplots.AxesSubplot at 0x7f4dea3b7748>"
      ]
     },
     "execution_count": 74,
     "metadata": {},
     "output_type": "execute_result"
    },
    {
     "data": {
      "image/png": "[encoded data removed]",
      "text/plain": [
       "<matplotlib.figure.Figure at 0x7f4de9fe86d8>"
      ]
     },
     "metadata": {},
     "output_type": "display_data"
    }
   ],
   "source": [
    "green[\"Trip_distance\"].hist()"
   ]
  },
  {
   "cell_type": "markdown",
   "metadata": {},
   "source": [
    "Clearly our sample misses some outliers.  Let's see how it does around the center of the data."
   ]
  },
  {
   "cell_type": "code",
   "execution_count": 75,
   "metadata": {},
   "outputs": [
    {
     "data": {
      "text/plain": [
       "(array([4.1806e+04, 6.3960e+03, 1.3220e+03, 3.5500e+02, 7.1000e+01,\n",
       "        3.1000e+01, 6.0000e+00, 5.0000e+00, 2.0000e+00, 2.0000e+00,\n",
       "        0.0000e+00, 0.0000e+00, 0.0000e+00, 2.0000e+00]),\n",
       " array([ 0,  5, 10, 15, 20, 25, 30, 35, 40, 45, 50, 55, 60, 65, 70]),\n",
       " <a list of 14 Patch objects>)"
      ]
     },
     "execution_count": 75,
     "metadata": {},
     "output_type": "execute_result"
    },
    {
     "data": {
      "image/png": "[encoded data removed]",
      "text/plain": [
       "<matplotlib.figure.Figure at 0x7f4de9fd52b0>"
      ]
     },
     "metadata": {},
     "output_type": "display_data"
    }
   ],
   "source": [
    "bins = list(range(0, 75, 5))\n",
    "plt.hist(sample[\"Trip_distance\"], bins=bins)"
   ]
  },
  {
   "cell_type": "code",
   "execution_count": 76,
   "metadata": {},
   "outputs": [
    {
     "data": {
      "text/plain": [
       "(array([1.244207e+06, 1.900710e+05, 4.002500e+04, 1.065600e+04,\n",
       "        2.158000e+03, 7.560000e+02, 2.100000e+02, 8.300000e+01,\n",
       "        6.800000e+01, 3.300000e+01, 1.700000e+01, 1.500000e+01,\n",
       "        6.000000e+00, 1.000000e+01]),\n",
       " array([ 0,  5, 10, 15, 20, 25, 30, 35, 40, 45, 50, 55, 60, 65, 70]),\n",
       " <a list of 14 Patch objects>)"
      ]
     },
     "execution_count": 76,
     "metadata": {},
     "output_type": "execute_result"
    },
    {
     "data": {
      "image/png": "[encoded data removed]",
      "text/plain": [
       "<matplotlib.figure.Figure at 0x7f4dea358d68>"
      ]
     },
     "metadata": {},
     "output_type": "display_data"
    }
   ],
   "source": [
    "plt.hist(green[\"Trip_distance\"], bins=bins)"
   ]
  },
  {
   "cell_type": "markdown",
   "metadata": {},
   "source": [
    "These graphs look pretty good!  Let's look at the next variable of interest - `Total_amount`"
   ]
  },
  {
   "cell_type": "code",
   "execution_count": 77,
   "metadata": {},
   "outputs": [
    {
     "data": {
      "text/plain": [
       "<matplotlib.axes._subplots.AxesSubplot at 0x7f4dea2e5e80>"
      ]
     },
     "execution_count": 77,
     "metadata": {},
     "output_type": "execute_result"
    },
    {
     "data": {
      "image/png": "[encoded data removed]",
      "text/plain": [
       "<matplotlib.figure.Figure at 0x7f4dea2ed358>"
      ]
     },
     "metadata": {},
     "output_type": "display_data"
    }
   ],
   "source": [
    "sample[\"Total_amount\"].hist()"
   ]
  },
  {
   "cell_type": "code",
   "execution_count": 78,
   "metadata": {},
   "outputs": [
    {
     "data": {
      "text/plain": [
       "<matplotlib.axes._subplots.AxesSubplot at 0x7f4de9c09be0>"
      ]
     },
     "execution_count": 78,
     "metadata": {},
     "output_type": "execute_result"
    },
    {
     "data": {
      "image/png": "[encoded data removed]",
      "text/plain": [
       "<matplotlib.figure.Figure at 0x7f4dea304080>"
      ]
     },
     "metadata": {},
     "output_type": "display_data"
    }
   ],
   "source": [
    "green[\"Total_amount\"].hist()"
   ]
  },
  {
   "cell_type": "markdown",
   "metadata": {},
   "source": [
    "Again we miss some outliers in our data.  Let's see how we did on approxiate center."
   ]
  },
  {
   "cell_type": "code",
   "execution_count": 79,
   "metadata": {},
   "outputs": [
    {
     "data": {
      "text/plain": [
       "(array([1.5380e+03, 1.8507e+04, 1.2623e+04, 6.8240e+03, 3.9460e+03,\n",
       "        2.3240e+03, 1.4420e+03, 9.6700e+02, 6.0200e+02, 3.5400e+02,\n",
       "        3.1900e+02, 1.6000e+02, 1.0800e+02, 7.2000e+01, 6.3000e+01,\n",
       "        3.3000e+01, 1.9000e+01, 1.4000e+01, 1.9000e+01]),\n",
       " array([ 0,  5, 10, 15, 20, 25, 30, 35, 40, 45, 50, 55, 60, 65, 70, 75, 80,\n",
       "        85, 90, 95]),\n",
       " <a list of 19 Patch objects>)"
      ]
     },
     "execution_count": 79,
     "metadata": {},
     "output_type": "execute_result"
    },
    {
     "data": {
      "image/png": "[encoded data removed]",
      "text/plain": [
       "<matplotlib.figure.Figure at 0x7f4de9e3e1d0>"
      ]
     },
     "metadata": {},
     "output_type": "display_data"
    }
   ],
   "source": [
    "bins = list(range(0, 100, 5))\n",
    "plt.hist(sample[\"Total_amount\"], bins=bins)"
   ]
  },
  {
   "cell_type": "code",
   "execution_count": 80,
   "metadata": {},
   "outputs": [
    {
     "data": {
      "text/plain": [
       "(array([4.33220e+04, 5.52826e+05, 3.74954e+05, 2.03090e+05, 1.17894e+05,\n",
       "        7.02190e+04, 4.32810e+04, 2.86240e+04, 1.78090e+04, 1.09690e+04,\n",
       "        9.39900e+03, 4.97700e+03, 3.20300e+03, 2.11900e+03, 1.94300e+03,\n",
       "        7.46000e+02, 5.63000e+02, 4.02000e+02, 3.59000e+02]),\n",
       " array([ 0,  5, 10, 15, 20, 25, 30, 35, 40, 45, 50, 55, 60, 65, 70, 75, 80,\n",
       "        85, 90, 95]),\n",
       " <a list of 19 Patch objects>)"
      ]
     },
     "execution_count": 80,
     "metadata": {},
     "output_type": "execute_result"
    },
    {
     "data": {
      "image/png": "[encoded data removed]",
      "text/plain": [
       "<matplotlib.figure.Figure at 0x7f4de9ddd908>"
      ]
     },
     "metadata": {},
     "output_type": "display_data"
    }
   ],
   "source": [
    "bins = list(range(0, 100, 5))\n",
    "plt.hist(green[\"Total_amount\"], bins=bins)"
   ]
  },
  {
   "cell_type": "markdown",
   "metadata": {},
   "source": [
    "These two plots look almost the same!!!  This should give us some confidence in our sample.  Next let's compare `Tip_amount`."
   ]
  },
  {
   "cell_type": "code",
   "execution_count": 81,
   "metadata": {},
   "outputs": [
    {
     "data": {
      "text/plain": [
       "<matplotlib.axes._subplots.AxesSubplot at 0x7f4de5e31940>"
      ]
     },
     "execution_count": 81,
     "metadata": {},
     "output_type": "execute_result"
    },
    {
     "data": {
      "image/png": "[encoded data removed]",
      "text/plain": [
       "<matplotlib.figure.Figure at 0x7f4de5ce5470>"
      ]
     },
     "metadata": {},
     "output_type": "display_data"
    }
   ],
   "source": [
    "green[\"Tip_amount\"].hist()"
   ]
  },
  {
   "cell_type": "code",
   "execution_count": 82,
   "metadata": {},
   "outputs": [
    {
     "data": {
      "text/plain": [
       "<matplotlib.axes._subplots.AxesSubplot at 0x7f4de5cf8630>"
      ]
     },
     "execution_count": 82,
     "metadata": {},
     "output_type": "execute_result"
    },
    {
     "data": {
      "image/png": "[encoded data removed]",
      "text/plain": [
       "<matplotlib.figure.Figure at 0x7f4de5e31320>"
      ]
     },
     "metadata": {},
     "output_type": "display_data"
    }
   ],
   "source": [
    "sample[\"Tip_amount\"].hist()"
   ]
  },
  {
   "cell_type": "markdown",
   "metadata": {},
   "source": [
    "Again we miss some outliers.  Let's so how we do around the center."
   ]
  },
  {
   "cell_type": "code",
   "execution_count": 83,
   "metadata": {},
   "outputs": [
    {
     "data": {
      "text/plain": [
       "(array([4.7141e+04, 2.4260e+03, 3.1100e+02, 4.7000e+01, 3.8000e+01,\n",
       "        6.0000e+00, 1.0000e+01, 3.0000e+00, 4.0000e+00, 2.0000e+00,\n",
       "        3.0000e+00]),\n",
       " array([ 0,  5, 10, 15, 20, 25, 30, 35, 40, 45, 50, 55]),\n",
       " <a list of 11 Patch objects>)"
      ]
     },
     "execution_count": 83,
     "metadata": {},
     "output_type": "execute_result"
    },
    {
     "data": {
      "image/png": "[encoded data removed]",
      "text/plain": [
       "<matplotlib.figure.Figure at 0x7f4de5cf8eb8>"
      ]
     },
     "metadata": {},
     "output_type": "display_data"
    }
   ],
   "source": [
    "bins = list(range(0, 60, 5))\n",
    "plt.hist(sample[\"Tip_amount\"], bins=bins)"
   ]
  },
  {
   "cell_type": "code",
   "execution_count": 84,
   "metadata": {},
   "outputs": [
    {
     "data": {
      "text/plain": [
       "(array([1.403228e+06, 7.287500e+04, 9.008000e+03, 1.472000e+03,\n",
       "        6.890000e+02, 2.790000e+02, 2.210000e+02, 8.600000e+01,\n",
       "        1.270000e+02, 5.300000e+01, 8.800000e+01]),\n",
       " array([ 0,  5, 10, 15, 20, 25, 30, 35, 40, 45, 50, 55]),\n",
       " <a list of 11 Patch objects>)"
      ]
     },
     "execution_count": 84,
     "metadata": {},
     "output_type": "execute_result"
    },
    {
     "data": {
      "image/png": "[encoded data removed]",
      "text/plain": [
       "<matplotlib.figure.Figure at 0x7f4de9d72240>"
      ]
     },
     "metadata": {},
     "output_type": "display_data"
    }
   ],
   "source": [
    "bins = list(range(0, 60, 5))\n",
    "plt.hist(green[\"Tip_amount\"], bins=bins)"
   ]
  },
  {
   "cell_type": "markdown",
   "metadata": {},
   "source": [
    "Again we do a decent job around the center of our data.  This gives me confidence that the sample chosen is mostly representative.  But will likely miss some effect from outliers.  But I don't think this is a big deal in the least."
   ]
  },
  {
   "cell_type": "markdown",
   "metadata": {},
   "source": [
    "# Feature Engineering\n",
    "\n",
    "Now that we have a representative sample that we can work with, without the models or feature engineering taking forever, let's dive into the feature engineering piece of this.\n",
    "\n",
    "Generally speaking, feature engineering is the creation of features from our data.  We can think of these as transformations of our initial variables so we can build a more informed model.  The reason to conduct feature engineering is because our model may not be able to derive good patterns from our initial dataset.  But by increasing the meaningful information from our independent data, we can derive strong models of our dependent variable or variables.\n",
    "\n",
    "## Planning out our model\n",
    "\n",
    "Because our dataset is about trips around New York City, there are likely some factors we should focus on when building a model of tip percentage.\n",
    "\n",
    "First, we need to consider the possibility that no tip is given.  So let's see the percentage of people that even leave a tip first: \n",
    "\n",
    "Note - where possible we will use the population distribution."
   ]
  },
  {
   "cell_type": "code",
   "execution_count": 52,
   "metadata": {},
   "outputs": [
    {
     "data": {
      "text/plain": [
       "59.502961696821146"
      ]
     },
     "execution_count": 52,
     "metadata": {},
     "output_type": "execute_result"
    }
   ],
   "source": [
    "len(green[green[\"Tip_amount\"] == 0]) / len(green) * 100"
   ]
  },
  {
   "cell_type": "markdown",
   "metadata": {},
   "source": [
    "So, about 60% of those who ride in cabs don't even leave a tip!  This means we will likely need to classify our tip_percentage as leaves tip or doesn't before we can model tip_percentage.  By pushing our data apart into these two classes, we'll be able to deal with these two classes more easily.  For those who don't leave tip, we'll be able to come up with a likely list of factors.  And for those who do leave tip we'll have a similar analysis.\n",
    "\n",
    "Because of the nice property of `Tip_amount == 0` meaning that no tip was left, we can build a binary classifer with the labels zero and one.  This means when we do prediction we can simply multiply our result multiplied by it's class. "
   ]
  },
  {
   "cell_type": "code",
   "execution_count": 9,
   "metadata": {},
   "outputs": [],
   "source": [
    "# Now that we have multiple variables some sense of summary will be helpful\n",
    "def summary(X_vars, y_var, model, categorical=False):\n",
    "    \"\"\"\n",
    "    Mutual information (MI) [R176] between two random variables is a non-negative value, which measures the dependency between the variables. \n",
    "    It is equal to zero if and only if two random variables are independent, and higher values mean higher dependency.\n",
    "    \"\"\"\n",
    "    cols = X_vars.columns.tolist()\n",
    "    # checks to see if the variable is categorical\n",
    "    if categorical == True:\n",
    "        lsvc = LinearSVC(C=0.01, penalty=\"l1\", dual=False).fit(X_vars, y_var)\n",
    "        model = SelectFromModel(lsvc, prefit=True)\n",
    "        labels = [cols[x] for x in model.get_support(indices=True) if x]\n",
    "        X_new = model.transform(X_vars)\n",
    "        print(\"Linear SVC Feature reduction\")\n",
    "        print(cols, \"->\", labels)\n",
    "    mi = mutual_info_regression(X_vars, y_var)\n",
    "    #if np.max(mi) != 0:\n",
    "    #    mi /= np.max(mi)\n",
    "    f_test, t_test_pvals = f_regression(X_vars, y_var)\n",
    "    t_test = [math.sqrt(elem) for elem in f_test]\n",
    "    f_statistic, f_prob = stats.f_oneway(*[np.array(X_vars[column]) for column in X_vars.columns])\n",
    "    return f_statistic, f_prob, t_test, t_test_pvals, mi, model.coef_\n",
    "    "
   ]
  },
  {
   "cell_type": "code",
   "execution_count": 10,
   "metadata": {},
   "outputs": [],
   "source": [
    "def pretty_print_results(X, f_statistic, f_prob, t_test, t_test_pvals, mi, coef):\n",
    "    cols = X.columns.tolist()\n",
    "    t_test = list(t_test)\n",
    "    t_test_pvals = list(t_test_pvals)\n",
    "    mi = list(mi)\n",
    "    coef = list(coef)\n",
    "    tables = []\n",
    "    if len(X) > 3:\n",
    "        for index in range(0, len(X), 3):\n",
    "            if abs(len(X) - index) < 3:\n",
    "                tmp_col = cols[index:] \n",
    "                tmp_t_test = t_test[index:]\n",
    "                tmp_t_test_pvals = t_test_pvals[index:]\n",
    "                tmp_mi = mi[index:]\n",
    "                tmp_coef = coef[index:]\n",
    "            else:    \n",
    "                tmp_col = cols[index:index+3] \n",
    "                tmp_t_test = t_test[index:index+3]\n",
    "                tmp_t_test_pvals = t_test_pvals[index:index+3]\n",
    "                tmp_mi = mi[index:index+3]\n",
    "                tmp_coef = coef[index:index+3]\n",
    "            if tmp_col == []:\n",
    "                break\n",
    "            tmp_table = PrettyTable([\"test_name\"] + tmp_col)    \n",
    "            tmp_table.add_row([\"t-test\"] + tmp_t_test)\n",
    "            tmp_table.add_row([\"t-test pvals\"] + tmp_t_test_pvals)\n",
    "            tmp_table.add_row([\"mutual info\"] + tmp_mi)\n",
    "            tmp_table.add_row([\"coefficient\"] + tmp_coef)\n",
    "            tables.append(tmp_table)\n",
    "            \n",
    "    else:\n",
    "        tmp_table = PrettyTable([\"test_name\"] + col)    \n",
    "        tmp_table.add_row([\"t-test\"] + t_test)\n",
    "        tmp_table.add_row([\"t-test pvals\"] + t_test_pvals)\n",
    "        tmp_table.add_row([\"mutual info\"] + mi)\n",
    "        tmp_table.add_row([\"coefficient\"] + coef)\n",
    "        tables.append(tmp_table)\n",
    "    print(\"F-statistic\", f_statistic)\n",
    "    print(\"F-prob\", f_prob)\n",
    "    for table in tables:\n",
    "        print(table)"
   ]
  },
  {
   "cell_type": "markdown",
   "metadata": {},
   "source": [
    "# Considering price\n",
    "\n",
    "The various aspects of price we will consider include:\n",
    "\n",
    "* Tip_amount\n",
    "* Fare_amount\n",
    "* Total_amount\n",
    "* Tolls_amount\n",
    "* improvement_surcharge\n",
    "* Extra\n",
    "* MTA_tax\n",
    "\n",
    "In order to do that, let's check the correlation with `tip_percentage`\n"
   ]
  },
  {
   "cell_type": "code",
   "execution_count": 11,
   "metadata": {},
   "outputs": [
    {
     "name": "stdout",
     "output_type": "stream",
     "text": [
      "Tip_amount\n",
      "(0.7214208879040745, 0.0)\n",
      "Fare_amount\n",
      "(0.09257181540035407, 1.3968621330415684e-95)\n",
      "Total_amount\n",
      "(0.23828449655020623, 0.0)\n",
      "Tolls_amount\n",
      "(0.04312990573999373, 4.99342744531825e-22)\n",
      "improvement_surcharge\n",
      "(0.049727980374142534, 9.362278849261666e-29)\n",
      "Extra\n",
      "(0.009368229578518043, 0.03618936127895244)\n",
      "MTA_tax\n",
      "(0.04974896895113448, 8.881309066586966e-29)\n"
     ]
    }
   ],
   "source": [
    "columns = [\n",
    "    \"Tip_amount\",\n",
    "    \"Fare_amount\",\n",
    "    \"Total_amount\",\n",
    "    'Tolls_amount',\n",
    "    \"improvement_surcharge\",\n",
    "    \"Extra\",\n",
    "    \"MTA_tax\"\n",
    "]\n",
    "for column in columns:\n",
    "    print(column)\n",
    "    print(stats.pearsonr(sample[\"tip_percentage\"], sample[column]))"
   ]
  },
  {
   "cell_type": "markdown",
   "metadata": {},
   "source": [
    "As we can see, there is a strong correlation with:\n",
    "\n",
    "* Tip_amount\n",
    "* Total_amount\n",
    "\n",
    "And somewhat weaker correlations with:\n",
    "\n",
    "* Fare_amount\n",
    "* Tolls_amount\n",
    "* improvement_surcharge\n",
    "* Extra\n",
    "* MTA_tax\n",
    "\n",
    "Let's try regressing `tip_percentage` against all the variables to see what kind of model we statistics we get.  Then we can start to remove features with weaker correlation until we get something promising."
   ]
  },
  {
   "cell_type": "code",
   "execution_count": 12,
   "metadata": {},
   "outputs": [],
   "source": [
    "def lin_reg_test_train_split(data, columns):\n",
    "    X = sample[columns]\n",
    "    y = sample[\"tip_percentage\"]\n",
    "    lin_reg = linear_model.LinearRegression()\n",
    "    X_train, X_test, y_train, y_test = train_test_split(\n",
    "        X, y, test_size=0.33)\n",
    "    lin_reg.fit(X_train, y_train)\n",
    "    y_pred = lin_reg.predict(X_test)\n",
    "    print(\"R^2\", metrics.r2_score(y_test, y_pred))\n",
    "    print(\"MSE\", metrics.mean_squared_error(y_test, y_pred))\n",
    "    f_statistic, f_prob, t_test, t_test_pvals, mi, coef = summary(X, y, lin_reg)\n",
    "    pretty_print_results(X, f_statistic, f_prob, t_test, t_test_pvals, mi, coef)\n",
    "    "
   ]
  },
  {
   "cell_type": "code",
   "execution_count": 13,
   "metadata": {},
   "outputs": [
    {
     "name": "stdout",
     "output_type": "stream",
     "text": [
      "R^2 0.5473327877298149\n",
      "MSE 36.159856182252334\n",
      "F-statistic 63362.768586448234\n",
      "F-prob 0.0\n",
      "+--------------+--------------------+---------------------+------------------------+\n",
      "|  test_name   |     Tip_amount     |     Total_amount    |      Fare_amount       |\n",
      "+--------------+--------------------+---------------------+------------------------+\n",
      "|    t-test    | 232.94168874141045 |  54.861223347053695 |   20.788538977458078   |\n",
      "| t-test pvals |        0.0         |         0.0         | 1.3968621330690416e-95 |\n",
      "| mutual info  | 1.6662536368156209 |  1.6070350519700591 |  0.43292027856444104   |\n",
      "| coefficient  | 4.5776366217282325 | -1.4602115170426688 |   1.2311563990519176   |\n",
      "+--------------+--------------------+---------------------+------------------------+\n",
      "+--------------+-----------------------+-----------------------+----------------------+\n",
      "|  test_name   |      Tolls_amount     | improvement_surcharge |        Extra         |\n",
      "+--------------+-----------------------+-----------------------+----------------------+\n",
      "|    t-test    |    9.65292953975126   |   11.133065901748987  |  2.0948498481542104  |\n",
      "| t-test pvals | 4.993427445344896e-22 | 9.362278842223001e-29 | 0.03618936127895244  |\n",
      "| mutual info  |  0.03509789934283525  |  0.00766590069912354  | 0.004215009524092039 |\n",
      "| coefficient  |   1.1503458482904356  |   3.284120083615528   |  1.4571831375753128  |\n",
      "+--------------+-----------------------+-----------------------+----------------------+\n",
      "+--------------+-----------------------+\n",
      "|  test_name   |        MTA_tax        |\n",
      "+--------------+-----------------------+\n",
      "|    t-test    |   11.13777646580056   |\n",
      "| t-test pvals | 8.881309066687557e-29 |\n",
      "| mutual info  |  0.002702650914639726 |\n",
      "| coefficient  |   3.9034256317333136  |\n",
      "+--------------+-----------------------+\n"
     ]
    }
   ],
   "source": [
    "columns = [\"Tip_amount\", \n",
    "           \"Total_amount\",\n",
    "           \"Fare_amount\",\n",
    "           \"Tolls_amount\",\n",
    "           \"improvement_surcharge\",\n",
    "           \"Extra\",\n",
    "           \"MTA_tax\"]\n",
    "\n",
    "lin_reg_test_train_split(sample, columns)"
   ]
  },
  {
   "cell_type": "markdown",
   "metadata": {},
   "source": [
    "With an R^2 of only 54% we probably need to do a little feature engineering.  Let's start by removing some of these variables.\n",
    "\n",
    "Candidates for removal:\n",
    "\n",
    "* Extra - a miscellaneous surcharge probably doesn't have a ton of predictive power.  Especially given that it has a positive effect on tip_percentage.  This would mean as the price goes up, so does the tip_percentage?  I'd claim that's unlikely, especially given that `Total_amount` has a statistically significant negative coefficient.\n",
    "\n",
    "* MTA_tax - a tax that is automatically trigged by meters in use.  So this basically gets applied no matter what.  \n",
    "\n",
    "There are more we can probably remove, but let's see how our model does by removing these variables to start.\n"
   ]
  },
  {
   "cell_type": "code",
   "execution_count": 14,
   "metadata": {},
   "outputs": [
    {
     "name": "stdout",
     "output_type": "stream",
     "text": [
      "R^2 0.5926837610857153\n",
      "MSE 31.148878762844422\n",
      "F-statistic 56765.37927429716\n",
      "F-prob 0.0\n",
      "+--------------+--------------------+----------------------+------------------------+\n",
      "|  test_name   |     Tip_amount     |     Total_amount     |      Fare_amount       |\n",
      "+--------------+--------------------+----------------------+------------------------+\n",
      "|    t-test    | 232.94168874141045 |  54.861223347053695  |   20.788538977458078   |\n",
      "| t-test pvals |        0.0         |         0.0          | 1.3968621330690416e-95 |\n",
      "| mutual info  | 1.6695348268293282 |  1.6027226273084914  |   0.4364992733341264   |\n",
      "| coefficient  | 2.9558439208488974 | -0.04209460024379144 |  -0.1802891097544263   |\n",
      "+--------------+--------------------+----------------------+------------------------+\n",
      "+--------------+-----------------------+-----------------------+\n",
      "|  test_name   |      Tolls_amount     | improvement_surcharge |\n",
      "+--------------+-----------------------+-----------------------+\n",
      "|    t-test    |    9.65292953975126   |   11.133065901748987  |\n",
      "| t-test pvals | 4.993427445344896e-22 | 9.362278842223001e-29 |\n",
      "| mutual info  |  0.03157503451116561  |  0.005192075700632515 |\n",
      "| coefficient  |  -0.32183662179266637 |   6.884851766460801   |\n",
      "+--------------+-----------------------+-----------------------+\n"
     ]
    }
   ],
   "source": [
    "columns = [\"Tip_amount\", \n",
    "           \"Total_amount\",\n",
    "           \"Fare_amount\",\n",
    "           \"Tolls_amount\",\n",
    "           \"improvement_surcharge\"]\n",
    "lin_reg_test_train_split(sample, columns)"
   ]
  },
  {
   "cell_type": "code",
   "execution_count": 29,
   "metadata": {},
   "outputs": [
    {
     "name": "stdout",
     "output_type": "stream",
     "text": [
      "(0.9763051737316434, 0.0)\n"
     ]
    }
   ],
   "source": [
    "print(stats.pearsonr(sample[\"Fare_amount\"], sample[\"Total_amount\"]))"
   ]
  },
  {
   "cell_type": "markdown",
   "metadata": {},
   "source": [
    "Let's do a little more feature reduction.  Next up let's remove:\n",
    "\n",
    "* Fare_amount - This variable is redundant with respect to `Total_amount`, because `Total_amount` is derived from `Fare_amount` and because the two quantities have a high correlation."
   ]
  },
  {
   "cell_type": "code",
   "execution_count": 15,
   "metadata": {},
   "outputs": [
    {
     "name": "stdout",
     "output_type": "stream",
     "text": [
      "R^2 0.5376792273780095\n",
      "MSE 36.09981395710843\n",
      "F-statistic 76866.000823553\n",
      "F-prob 0.0\n",
      "+--------------+--------------------+----------------------+-----------------------+\n",
      "|  test_name   |     Tip_amount     |     Total_amount     |      Tolls_amount     |\n",
      "+--------------+--------------------+----------------------+-----------------------+\n",
      "|    t-test    | 232.94168874141045 |  54.861223347053695  |    9.65292953975126   |\n",
      "| t-test pvals |        0.0         |         0.0          | 4.993427445344896e-22 |\n",
      "| mutual info  | 1.6686391586447984 |  1.6048409413386544  |  0.025510825556441574 |\n",
      "| coefficient  | 3.308882618764137  | -0.21935800805581465 |  -0.33816703335840514 |\n",
      "+--------------+--------------------+----------------------+-----------------------+\n",
      "+--------------+-----------------------+\n",
      "|  test_name   | improvement_surcharge |\n",
      "+--------------+-----------------------+\n",
      "|    t-test    |   11.133065901745999  |\n",
      "| t-test pvals | 9.362278842539118e-29 |\n",
      "| mutual info  | 0.0022678674112688313 |\n",
      "| coefficient  |   6.5182408993302206  |\n",
      "+--------------+-----------------------+\n"
     ]
    }
   ],
   "source": [
    "columns = [\"Tip_amount\", \n",
    "           \"Total_amount\",\n",
    "           \"Tolls_amount\",\n",
    "           \"improvement_surcharge\"]\n",
    "lin_reg_test_train_split(sample, columns)"
   ]
  },
  {
   "cell_type": "code",
   "execution_count": 30,
   "metadata": {},
   "outputs": [
    {
     "name": "stdout",
     "output_type": "stream",
     "text": [
      "(0.3600936789643663, 0.0)\n"
     ]
    }
   ],
   "source": [
    "print(stats.pearsonr(sample[\"Tolls_amount\"], sample[\"Total_amount\"]))"
   ]
  },
  {
   "cell_type": "markdown",
   "metadata": {},
   "source": [
    "As we can see with the unnecessary features removed we have the beginnings of a somewhat reasonable model that is highly interpretable:\n",
    "\n",
    "* **`Tip_amount` has a statistically significant and positive relationship with `tip_percentage`**.  Thus as tip goes up in absolute terms it also increases in relative terms.\n",
    "\n",
    "\n",
    "* **`Total_amount` has a statistically significant and negative relationship with `tip_percentage`**.  Thus as the total cost of the ride increases, the tip_percentage falls.\n",
    "\n",
    "\n",
    "* **`Tolls_amount` has a statistically significant and negative relationship with `tip_percentage`**.  A possible reasoning here is somewhat unclear.  `Total_amount` is only 30% correlated with `Tolls_amount`, which implies most of the relationship between `tip_percentage` and `Tolls_amount` is from having to pay for tolls.  A follow up question worthy of investigation - do toll roads experience more traffic?  If the passenger has to spend longer in the cab, this may explain why tip percentage goes down as `Tolls_amount` increases.\n",
    "\n",
    "\n",
    "* **`improvement_surcharge` has a statistically significant and positive relationship with `tip_percentage`**.  The `improvement_surcharge` is defined as `$0.30` improvement surcharge assessed on hailed trips at the flag drop.  I'm interpreting this to mean it's for hailed cabs at specific pick up spots.  My guess is this is mostly tourists, using these flag drop spots, because they don't know the city that well.  And my guess is when you are on vacation you are more likely to tip."
   ]
  },
  {
   "cell_type": "markdown",
   "metadata": {},
   "source": [
    "# Some distance based features\n",
    "\n",
    "Some features we will consider including:\n",
    "\n",
    "* Trip distance\n",
    "* duration of trip\n",
    "* average speed travelled\n",
    "* a mile or less \n",
    "* 3.5 or more miles\n",
    "* between one and 3.5 miles\n",
    "* during heavy traffic\n",
    "\n",
    "During heavy traffic may not appear like a distance based feature, but I include it here because duration of the trip will be effected by how much traffic there is on the road.\n",
    "\n",
    "Thanks to [this analysis from IQuant](http://iquantny.tumblr.com/post/93845043909/quantifying-the-best-and-worst-times-of-day-to-hit) we know that heavy traffic is more or less from 8am to 7pm.  \n",
    "\n",
    "So let's do some engineering!"
   ]
  },
  {
   "cell_type": "code",
   "execution_count": 16,
   "metadata": {},
   "outputs": [],
   "source": [
    "@jit\n",
    "def generate_hour_column(x):\n",
    "    x[\"hour\"] = x[\"lpep_pickup_datetime\"].hour\n",
    "    return x"
   ]
  },
  {
   "cell_type": "code",
   "execution_count": 17,
   "metadata": {},
   "outputs": [],
   "source": [
    "nCores = cpu_count()\n",
    "sample = dd.from_pandas(sample, npartitions=nCores).map_partitions(\n",
    "      lambda df : df.apply(generate_hour_column, axis=1)\n",
    ").compute(get=get)"
   ]
  },
  {
   "cell_type": "code",
   "execution_count": 18,
   "metadata": {},
   "outputs": [],
   "source": [
    "def distance_feature_engineering(sample):\n",
    "    ONE_MINUTE = 60\n",
    "    ONE_HOUR = 60\n",
    "    boolean_map = {\n",
    "        True: 1,\n",
    "        False: 0\n",
    "    }\n",
    "    sample = sample[sample[\"Trip_distance\"] != 0]\n",
    "    sample[\"duration\"] = (sample[\"Lpep_dropoff_datetime\"] - sample[\"lpep_pickup_datetime\"])\n",
    "    sample[\"duration\"] = np.array([elem.seconds/(ONE_MINUTE*ONE_HOUR) for elem in sample[\"duration\"]])\n",
    "    sample[\"ave_speed\"] = sample[\"Trip_distance\"] / sample[\"duration\"]  \n",
    "    \n",
    "    sample[\"under_one\"] = sample[\"Trip_distance\"] <= 1\n",
    "    sample[\"three_and_half_or_more\"] = sample[\"Trip_distance\"] >= 3.5\n",
    "    sample[\"between_one_and_three\"] = (sample[\"Trip_distance\"] > 1) & (sample[\"Trip_distance\"] < 3.5)\n",
    "    sample[\"during_heavy_traffic\"] = (sample[\"hour\"] >= 7) & (sample[\"hour\"] <= 19)\n",
    "    \n",
    "    sample[\"under_one\"] = sample[\"under_one\"].map(boolean_map)\n",
    "    sample[\"three_and_half_or_more\"] = sample[\"three_and_half_or_more\"].map(boolean_map)\n",
    "    sample[\"between_one_and_three\"] = sample[\"between_one_and_three\"].map(boolean_map)\n",
    "    sample[\"during_heavy_traffic\"] = sample[\"during_heavy_traffic\"].map(boolean_map)\n",
    "    return sample\n",
    "\n",
    "sample = distance_feature_engineering(sample)\n",
    "sample = sample.replace([np.inf, -np.inf], np.nan)\n",
    "sample = sample.dropna()"
   ]
  },
  {
   "cell_type": "markdown",
   "metadata": {},
   "source": [
    "_Note_: in the above code we lose some entries to the Trip_distance being zero.  Those are likely uninteresting cases in any event.  And should probably be removed prior to sampling.  Time permitting, I will rerun all analysis and remove them during the data cleaning phase in Question 1.\n",
    "\n",
    "Now that we have more features, let's rerun those models, to see if we have teased out some more signal from our feature engineering.  I'll say upfront, that a higher R^2 doesn't necessarily mean we have.  This is because when you have more independent variables, model performance usually increases, regardless of whether this is picking up on any signal.  So it might be a good idea to try ridge or lasso regression once we get some confirmation that there is at least an artifical improvement."
   ]
  },
  {
   "cell_type": "code",
   "execution_count": 21,
   "metadata": {},
   "outputs": [
    {
     "name": "stdout",
     "output_type": "stream",
     "text": [
      "R^2 0.6118615448807401\n",
      "MSE 29.62899945495064\n",
      "F-statistic 1269.4835120388516\n",
      "F-prob 0.0\n",
      "+--------------+--------------------+---------------------+-----------------------+\n",
      "|  test_name   |     Tip_amount     |     Total_amount    |      Tolls_amount     |\n",
      "+--------------+--------------------+---------------------+-----------------------+\n",
      "|    t-test    | 237.24522815107647 |  55.57872238635627  |   9.871407366792363   |\n",
      "| t-test pvals |        0.0         |         0.0         | 5.816451354108861e-23 |\n",
      "| mutual info  | 1.6817382878161302 |  1.6200070135766538 |  0.03210759092134907  |\n",
      "| coefficient  | 3.532941997315916  | -0.3465047257433757 |  -0.13017182160822696 |\n",
      "+--------------+--------------------+---------------------+-----------------------+\n",
      "+--------------+-----------------------+------------------------+-----------------------+\n",
      "|  test_name   | improvement_surcharge |     Trip_distance      |        duration       |\n",
      "+--------------+-----------------------+------------------------+-----------------------+\n",
      "|    t-test    |   10.744199319535626  |   21.894875480488086   |   1.2897199877889929  |\n",
      "| t-test pvals |  6.75857493454224e-27 | 9.287059629203752e-106 |  0.19715394097449482  |\n",
      "| mutual info  |  0.005506267802279474 |  0.22431735121391405   |  0.18922301926884444  |\n",
      "| coefficient  |   5.649874615266991   |  0.28672534826468077   | -0.020379043561404183 |\n",
      "+--------------+-----------------------+------------------------+-----------------------+\n",
      "+--------------+-----------------------+-----------------------+-------------------------+\n",
      "|  test_name   |       ave_speed       |       under_one       |  three_and_half_or_more |\n",
      "+--------------+-----------------------+-----------------------+-------------------------+\n",
      "|    t-test    |   2.8623808274960756  |   19.13300978804755   |    23.41124674139795    |\n",
      "| t-test pvals |  0.004206482352031922 | 2.644939175911746e-81 | 1.4951696000060277e-120 |\n",
      "| mutual info  |  0.02021877357727142  |  0.060670009649300916 |   0.09771512812003635   |\n",
      "| coefficient  | 0.0004054854450206702 |  -0.6707869556465947  |    0.3665927770607371   |\n",
      "+--------------+-----------------------+-----------------------+-------------------------+\n",
      "+--------------+------------------------+------------------------+\n",
      "|  test_name   | between_one_and_three  |  during_heavy_traffic  |\n",
      "+--------------+------------------------+------------------------+\n",
      "|    t-test    |   5.259881255515352    |   7.663845335778771    |\n",
      "| t-test pvals | 1.4474825320965713e-07 | 1.8373418436223854e-14 |\n",
      "| mutual info  |  0.07532149300209401   |          0.0           |\n",
      "| coefficient  |   0.304194178585811    |  -0.23758152887690623  |\n",
      "+--------------+------------------------+------------------------+\n"
     ]
    }
   ],
   "source": [
    "columns = [\"Tip_amount\", \n",
    "           \"Total_amount\",\n",
    "           \"Tolls_amount\",\n",
    "           \"improvement_surcharge\",\n",
    "           \"Trip_distance\", \n",
    "           \"duration\", \n",
    "           \"ave_speed\", \n",
    "           \"under_one\",\n",
    "           \"three_and_half_or_more\",\n",
    "           \"between_one_and_three\",\n",
    "           \"during_heavy_traffic\"]\n",
    "\n",
    "\n",
    "lin_reg_test_train_split(sample, columns)"
   ]
  },
  {
   "cell_type": "code",
   "execution_count": 49,
   "metadata": {},
   "outputs": [
    {
     "name": "stdout",
     "output_type": "stream",
     "text": [
      "(-0.012234535673855398, 0.006567775047867236)\n",
      "(0.08603339803980944, 1.0095444124893287e-81)\n",
      "(0.027381577511693452, 1.1725681340836943e-09)\n"
     ]
    }
   ],
   "source": [
    "print(stats.pearsonr(sample[\"duration\"], sample[\"ave_speed\"]))\n",
    "print(stats.pearsonr(sample[\"Trip_distance\"], sample[\"duration\"]))\n",
    "print(stats.pearsonr(sample[\"Tolls_amount\"], sample[\"duration\"]))"
   ]
  },
  {
   "cell_type": "markdown",
   "metadata": {},
   "source": [
    "Our model performance hasn't fallen and clearly many of these features are meaningful both statistically and semantically.  Perhaps in some sense it's interesting that duration and ave_speed are the only strong candidates for removal at this time:\n",
    "\n",
    "* `duration` has a pvalue well above 0.05 so we fail reject the null hypothesis that there is a statistical relationship between `duration` and `tip_percentage`.\n",
    "\n",
    "* `ave_speed` does have a statistically significant relationship, or at least the appearance of one.  The way t-test pvalues are calculated is by taking the magnitude of the coefficient over the standard error.  So there are two reasons a variable may appear statistically significant according to the t-test - \n",
    "\n",
    "1. the magnitude of the coefficient is small\n",
    "2. the size of the standard error is big\n",
    "\n",
    "If the magnitude of the coefficient is extremely small, then a variable may appear statistically significant even when it doesn't explain much of the variability in the dependent variable.  I believe this is the case for `ave_speed`.  So I'm going to remove it as well.\n"
   ]
  },
  {
   "cell_type": "code",
   "execution_count": 23,
   "metadata": {},
   "outputs": [
    {
     "name": "stdout",
     "output_type": "stream",
     "text": [
      "R^2 0.6389295198343382\n",
      "MSE 27.55464423869254\n",
      "F-statistic 73716.1475175166\n",
      "F-prob 0.0\n",
      "+--------------+--------------------+---------------------+-----------------------+\n",
      "|  test_name   |     Tip_amount     |     Total_amount    |      Tolls_amount     |\n",
      "+--------------+--------------------+---------------------+-----------------------+\n",
      "|    t-test    | 237.24522815107647 |  55.57872238635627  |   9.871407366792363   |\n",
      "| t-test pvals |        0.0         |         0.0         | 5.816451354108861e-23 |\n",
      "| mutual info  | 1.6702568621775828 |  1.6165007582830002 |  0.034840187317414895 |\n",
      "| coefficient  | 3.3481290984398027 | -0.2859477534510433 |  -0.12124561675651505 |\n",
      "+--------------+--------------------+---------------------+-----------------------+\n",
      "+--------------+-----------------------+------------------------+-----------------------+\n",
      "|  test_name   | improvement_surcharge |     Trip_distance      |       under_one       |\n",
      "+--------------+-----------------------+------------------------+-----------------------+\n",
      "|    t-test    |   10.744199319535626  |   21.894875480488086   |   19.13300978804755   |\n",
      "| t-test pvals |  6.75857493454224e-27 | 9.287059629203752e-106 | 2.644939175911746e-81 |\n",
      "| mutual info  |  0.00843810235613951  |   0.2190423172712217   |  0.05338976237125159  |\n",
      "| coefficient  |   6.470273210637613   |  0.15148775499420358   |  -2073964533251.7268  |\n",
      "+--------------+-----------------------+------------------------+-----------------------+\n",
      "+--------------+-------------------------+------------------------+------------------------+\n",
      "|  test_name   |  three_and_half_or_more | between_one_and_three  |  during_heavy_traffic  |\n",
      "+--------------+-------------------------+------------------------+------------------------+\n",
      "|    t-test    |    23.41124674139795    |   5.259881255515352    |   7.663845335778771    |\n",
      "| t-test pvals | 1.4951696000060277e-120 | 1.4474825320965713e-07 | 1.8373418436223854e-14 |\n",
      "| mutual info  |   0.10291030871951534   |  0.07625653286064882   |          0.0           |\n",
      "| coefficient  |   -2073964533250.7717   |  -2073964533250.7593   |  -0.2861776161556374   |\n",
      "+--------------+-------------------------+------------------------+------------------------+\n"
     ]
    }
   ],
   "source": [
    "columns = [\"Tip_amount\", \n",
    "           \"Total_amount\",\n",
    "           \"Tolls_amount\",\n",
    "           \"improvement_surcharge\",\n",
    "           \"Trip_distance\",   \n",
    "           \"under_one\",\n",
    "           \"three_and_half_or_more\",\n",
    "           \"between_one_and_three\",\n",
    "           \"during_heavy_traffic\"]\n",
    "lin_reg_test_train_split(sample, columns)"
   ]
  },
  {
   "cell_type": "markdown",
   "metadata": {},
   "source": [
    "Taking a look at our model now, it appears as though `under_one`, `three_and_half_or_more` and `between_one_and_three` are no longer statistically significant.  So let's remove those as well."
   ]
  },
  {
   "cell_type": "code",
   "execution_count": 24,
   "metadata": {},
   "outputs": [
    {
     "name": "stdout",
     "output_type": "stream",
     "text": [
      "R^2 0.5674526769134793\n",
      "MSE 33.44418251633563\n",
      "F-statistic 71106.49769337082\n",
      "F-prob 0.0\n",
      "+--------------+--------------------+--------------------+-----------------------+\n",
      "|  test_name   |     Tip_amount     |    Total_amount    |      Tolls_amount     |\n",
      "+--------------+--------------------+--------------------+-----------------------+\n",
      "|    t-test    | 237.24522815107647 | 55.57872238635627  |   9.871407366792363   |\n",
      "| t-test pvals |        0.0         |        0.0         | 5.816451354108861e-23 |\n",
      "| mutual info  | 1.6733744632844365 | 1.6168142995976815 |  0.03278611758705985  |\n",
      "| coefficient  | 3.6868407122565756 | -0.356644776219261 |  -0.2413274939241848  |\n",
      "+--------------+--------------------+--------------------+-----------------------+\n",
      "+--------------+-----------------------+------------------------+-----------------------+\n",
      "|  test_name   | improvement_surcharge |     Trip_distance      |  during_heavy_traffic |\n",
      "+--------------+-----------------------+------------------------+-----------------------+\n",
      "|    t-test    |   10.744199319535626  |   21.894875480488086   |   7.663845335779789   |\n",
      "| t-test pvals |  6.75857493454224e-27 | 9.287059629203752e-106 | 1.837341843607385e-14 |\n",
      "| mutual info  |  0.004441161230061219 |  0.21476790966825643   | 0.0007142698814899262 |\n",
      "| coefficient  |   5.716721071135058   |  0.27842335981831606   |   -0.325444927147052  |\n",
      "+--------------+-----------------------+------------------------+-----------------------+\n"
     ]
    }
   ],
   "source": [
    "columns = [\"Tip_amount\", \n",
    "           \"Total_amount\",\n",
    "           \"Tolls_amount\",\n",
    "           \"improvement_surcharge\",\n",
    "           \"Trip_distance\",   \n",
    "           \"during_heavy_traffic\"]\n",
    "lin_reg_test_train_split(sample, columns)"
   ]
  },
  {
   "cell_type": "markdown",
   "metadata": {},
   "source": [
    "Now that we have a reasonable model with lots of statistically meaningful features.  Let's interpret them a bit more - we won't worry about the variables we've already covered - `Tip_amount`, `Total_amount`, `Tolls_amount`, `improvement_surcharge` except in conjunction with our new features.  Let's dive in:\n",
    "\n",
    "* **`Trip_distance` is statistically significant with a small but positive coeficient with respect to `tip_percentage`**.  This implies that as distance increases the `tip_percentage` does as well, if only weakly so.  One explaination for this might be that those more likely to have disposable income and therefore take longer rides are more likely to tip?  Or perhaps there is some level of sympathy on the part of the rider, but only weakly so.\n",
    "\n",
    "* **`during_heavy_traffic` is statistically significant with a small but negative coeficient with respect to `tip_percentage`**.  This implies that as trips tend to take longer, tip gets lower, to some degree. \n"
   ]
  },
  {
   "cell_type": "markdown",
   "metadata": {},
   "source": [
    "# Going non-linear\n",
    "\n",
    "Now that we have explored some initial features, let's see if we can get the model performance up with some strong modeling techniques!\n",
    "\n",
    "First we'll consider decision trees."
   ]
  },
  {
   "cell_type": "code",
   "execution_count": 60,
   "metadata": {},
   "outputs": [
    {
     "name": "stdout",
     "output_type": "stream",
     "text": [
      "MSE 0.5262745800892907\n",
      "Fitting with GridSearch\n",
      "Model Rank 1\n",
      "Mean validation Score -0.8944157385303444\n",
      "Std of validation score 0.2679614835982544\n",
      "Parameters: {'criterion': 'friedman_mse', 'max_depth': 20, 'max_leaf_nodes': None, 'min_samples_leaf': 5, 'min_samples_split': 2}\n",
      "Model Rank 2\n",
      "Mean validation Score -0.8948191723000047\n",
      "Std of validation score 0.26754740690842144\n",
      "Parameters: {'criterion': 'mse', 'max_depth': None, 'max_leaf_nodes': None, 'min_samples_leaf': 5, 'min_samples_split': 2}\n",
      "Model Rank 3\n",
      "Mean validation Score -0.8948720610845088\n",
      "Std of validation score 0.2680903886837044\n",
      "Parameters: {'criterion': 'friedman_mse', 'max_depth': None, 'max_leaf_nodes': None, 'min_samples_leaf': 5, 'min_samples_split': 10}\n",
      "feature importance\n",
      "Tip_amount 0.9501727196451695\n",
      "Total_amount 0.043547523025142164\n",
      "Tolls_amount 1.3706905192841828e-07\n",
      "improvement_surcharge 0.0\n",
      "Trip_distance 0.006278116163791934\n",
      "during_heavy_traffic 1.5040968444974757e-06\n"
     ]
    }
   ],
   "source": [
    "def test_trip_distance_price_feature_dec_tree(sample):\n",
    "    X = sample[[\"Tip_amount\", \n",
    "                \"Total_amount\",\n",
    "                \"Tolls_amount\",\n",
    "                \"improvement_surcharge\",\n",
    "                \"Trip_distance\",   \n",
    "                \"during_heavy_traffic\"]]\n",
    "    y = sample[\"tip_percentage\"]\n",
    "    dec_tree = tree.DecisionTreeRegressor()\n",
    "    X_train, X_test, y_train, y_test = train_test_split(\n",
    "        X, y, test_size=0.33)\n",
    "    dec_tree.fit(X_train, y_train)\n",
    "    y_pred = dec_tree.predict(X_test)\n",
    "    print(\"MSE\", metrics.mean_squared_error(y_test, y_pred))\n",
    "    num_features = len(X)\n",
    "    print(\"Fitting with GridSearch\")\n",
    "    param_grid = {\"criterion\": [\"mse\", \"friedman_mse\"],\n",
    "              \"min_samples_split\": [2, 10, 20],\n",
    "              \"max_depth\": [None, 2, 10, 20],\n",
    "              \"min_samples_leaf\": [1, 5, 10],\n",
    "              \"max_leaf_nodes\": [None, 5, 10, 20],\n",
    "              }\n",
    "    \n",
    "    dec_tree = tree.DecisionTreeRegressor()\n",
    "    grid_search = GridSearchCV(dec_tree,\n",
    "                              param_grid=param_grid,\n",
    "                              cv=3, scoring=\"neg_mean_squared_error\")\n",
    "    grid_search.fit(X, y)\n",
    "    grid_scores = grid_search.grid_scores_\n",
    "    top_scores = sorted(grid_scores,\n",
    "                       key=lambda t:t[1],\n",
    "                        reverse=True)[:3]\n",
    "    for index, score in enumerate(top_scores):\n",
    "        print(\"Model Rank\", index+1)\n",
    "        print(\"Mean validation Score\", score.mean_validation_score)\n",
    "        print(\"Std of validation score\", np.std(score.cv_validation_scores))\n",
    "        print(\"Parameters:\", score.parameters)\n",
    "    print(\"feature importance\")\n",
    "    feature_importance = grid_search.best_estimator_.feature_importances_\n",
    "    for index, col in enumerate(X.columns):\n",
    "        print(col, feature_importance[index])\n",
    "    \n",
    "\n",
    "test_trip_distance_price_feature_dec_tree(sample)"
   ]
  },
  {
   "cell_type": "markdown",
   "metadata": {},
   "source": [
    "As you can see here, the decision tree does amazing!  With a mean squared error of less than 1, this is an extremely well fit model of `tip_percentage`.  The grid search gives us a good sense of what parameters to use and the importance of different features for fitting the model.\n",
    "\n",
    "Clearly `Tip_amount` is the most important feature by a long shot, being responsible for 95% of the fit.  By contrast, the `improvement_surcharge` doesn't fit the model well at all, according to this model.  \n",
    "\n",
    "Some of this model's performance could be due to overfitting, so we'll regularize with bagging and limiting the max_depth of the tree more heavily."
   ]
  },
  {
   "cell_type": "code",
   "execution_count": 83,
   "metadata": {},
   "outputs": [
    {
     "name": "stdout",
     "output_type": "stream",
     "text": [
      "MSE 1.067219494442713\n"
     ]
    }
   ],
   "source": [
    "def test_trip_distance_price_feature_bagged_dec_tree(sample):\n",
    "    X = sample[[\"Tip_amount\", \n",
    "                \"Total_amount\",\n",
    "                \"Tolls_amount\",\n",
    "                \"improvement_surcharge\",\n",
    "                \"Trip_distance\",   \n",
    "                \"during_heavy_traffic\"]]\n",
    "    y = sample[\"tip_percentage\"]\n",
    "\n",
    "    params = {\"criterion\": \"friedman_mse\",\n",
    "              \"min_samples_split\": 2,\n",
    "              \"max_depth\": 10,\n",
    "              \"min_samples_leaf\": 5,\n",
    "              \"max_leaf_nodes\": None,\n",
    "              }\n",
    "    \n",
    "    bagged_dec_tree = ensemble.BaggingRegressor(tree.DecisionTreeRegressor(**params))\n",
    "    \n",
    "    y_pred = cross_val_predict(bagged_dec_tree, X, y, cv=5)\n",
    "    print(\"MSE\", metrics.mean_squared_error(y, y_pred))\n",
    "    return bagged_dec_tree\n",
    "\n",
    "bagged = test_trip_distance_price_feature_bagged_dec_tree(sample)"
   ]
  },
  {
   "cell_type": "markdown",
   "metadata": {},
   "source": [
    "Based on the fact that our mean squared error rose a bit, we can say that there is probably some less overfitting in our model.  Let's see if we can add anymore features that add power to our analysis.  Next we'll consider our last feature set, time based features."
   ]
  },
  {
   "cell_type": "markdown",
   "metadata": {},
   "source": [
    "# Some time based features\n",
    "\n",
    "Some features we will consider are:\n",
    "\n",
    "* which week\n",
    "* day of the week\n",
    "* day of the month\n",
    "* hour of the day\n",
    "* during work hours\n",
    "* before work hours\n",
    "* after work hours\n",
    "* Sunday - Wednesday (None drinking days)\n",
    "* Thursday - Saturday (Drinking days)\n",
    "* shift of the day - here we assume cab drivers have one of three 8 hour shifts\n",
    "* shift change - assume not everyone changes shifts at exactly the same time, but more or less folks are shifting over the course of an hour\n",
    "\n",
    "There is no hard and fast rule of shifts in the world of cab drivers however, [this nytimes article](https://www.nytimes.com/2011/01/12/nyregion/12taxi.html) pegs one of the shift ends at 4pm so I base my shifts around that and assume an 8 hour work day."
   ]
  },
  {
   "cell_type": "code",
   "execution_count": 25,
   "metadata": {},
   "outputs": [],
   "source": [
    "def is_sunday_wednesday(x):\n",
    "    isocal = x.isocalendar()\n",
    "    if isocal[2] == 7 or isocal[2] <= 3:\n",
    "        return True\n",
    "    else:\n",
    "        return False\n",
    "\n",
    "    \n",
    "def shift(x):\n",
    "    if x.hour >= 8 and x.hour < 16:\n",
    "        return 1\n",
    "    elif x.hour >= 16 and x.hour < 24:\n",
    "        return 2\n",
    "    else:\n",
    "        return 3\n",
    "\n",
    "    \n",
    "def shift_change(x):\n",
    "    if x.hour >= 16 and x.hour < 17:\n",
    "        return True\n",
    "    elif x.hour >= 23 and x.hour < 24:\n",
    "        return True\n",
    "    elif x.hour >= 7 and x.hour < 8:\n",
    "        return True\n",
    "    else:\n",
    "        return False\n",
    "\n",
    "def before_work(x):\n",
    "    isocal = x.isocalendar()\n",
    "    if isocal[2] <= 5 and x.hour <=9 and x.hour > 5:\n",
    "        return True\n",
    "    else:\n",
    "        return False\n",
    "    \n",
    "\n",
    "def during_work(x):\n",
    "    isocal = x.isocalendar()\n",
    "    if isocal[2] <= 5 and x.hour >9 and x.hour <= 17:\n",
    "        return True\n",
    "    else:\n",
    "        return False\n",
    "\n",
    "    \n",
    "def after_work(x):\n",
    "    isocal = x.isocalendar()\n",
    "    if isocal[2] <= 5 and x.hour > 17 and x.hour <= 5:\n",
    "        return True\n",
    "    else:\n",
    "        return False\n",
    "\n",
    "    \n",
    "def time_feature_engineering(sample):\n",
    "    boolean_map = {\n",
    "        True: 1,\n",
    "        False: 0\n",
    "    }\n",
    "    map_week = {\n",
    "        36:1,\n",
    "        37: 2,\n",
    "        38: 3,\n",
    "        39: 4,\n",
    "        40: 5\n",
    "    }\n",
    "    sample[\"which_week\"] = sample[\"lpep_pickup_datetime\"].apply(lambda x: x.isocalendar()[1])\n",
    "    sample[\"day_of_week\"] = sample[\"lpep_pickup_datetime\"].apply(lambda x: x.isocalendar()[2])\n",
    "    sample[\"before_work\"] = sample[\"lpep_pickup_datetime\"].apply(before_work)\n",
    "    sample[\"during_work\"] = sample[\"lpep_pickup_datetime\"].apply(during_work)\n",
    "    sample[\"after_work\"] = sample[\"lpep_pickup_datetime\"].apply(after_work)\n",
    "    sample[\"sunday_wednesday\"] = sample[\"lpep_pickup_datetime\"].apply(is_sunday_wednesday)\n",
    "    sample[\"thursday_saturday\"] = sample[\"sunday_wednesday\"].apply(lambda x: not x)\n",
    "    sample[\"shift\"] = sample[\"lpep_pickup_datetime\"].apply(shift)\n",
    "    sample[\"shift_change\"] = sample[\"lpep_pickup_datetime\"].apply(shift_change)\n",
    "    \n",
    "    sample[\"before_work\"] = sample[\"before_work\"].map(boolean_map)\n",
    "    sample[\"during_work\"] = sample[\"during_work\"].map(boolean_map)\n",
    "    sample[\"after_work\"] = sample[\"after_work\"].map(boolean_map)\n",
    "    sample[\"shift_change\"] = sample[\"shift_change\"].map(boolean_map)\n",
    "    sample[\"sunday_wednesday\"] = sample[\"sunday_wednesday\"].map(boolean_map)\n",
    "    sample[\"thursday_saturday\"] = sample[\"thursday_saturday\"].map(boolean_map)\n",
    "    sample[\"which_week\"] = sample[\"which_week\"].map(map_week)\n",
    "    return sample\n",
    "\n",
    "sample = time_feature_engineering(sample)"
   ]
  },
  {
   "cell_type": "markdown",
   "metadata": {},
   "source": [
    "Let's see how our model does on the time based features alone and then see how it does with both distance and time based features."
   ]
  },
  {
   "cell_type": "code",
   "execution_count": 26,
   "metadata": {},
   "outputs": [
    {
     "name": "stdout",
     "output_type": "stream",
     "text": [
      "R^2 0.6309810398071583\n",
      "MSE 28.405821802564965\n",
      "F-statistic 73286.25156915063\n",
      "F-prob 0.0\n",
      "+--------------+--------------------+----------------------+-----------------------+\n",
      "|  test_name   |     Tip_amount     |     Total_amount     |      Tolls_amount     |\n",
      "+--------------+--------------------+----------------------+-----------------------+\n",
      "|    t-test    | 237.24522815107647 |  55.57872238635627   |   9.871407366792363   |\n",
      "| t-test pvals |        0.0         |         0.0          | 5.816451354108861e-23 |\n",
      "| mutual info  | 1.6783481200022692 |  1.6131349321327813  |  0.029381452565634625 |\n",
      "| coefficient  | 3.374915125073213  | -0.28513104746790074 |  -0.2594603368557238  |\n",
      "+--------------+--------------------+----------------------+-----------------------+\n",
      "+--------------+-----------------------+------------------------+-----------------------+\n",
      "|  test_name   | improvement_surcharge |     Trip_distance      |  during_heavy_traffic |\n",
      "+--------------+-----------------------+------------------------+-----------------------+\n",
      "|    t-test    |   10.744199319535626  |   21.894875480488086   |   7.663845335779789   |\n",
      "| t-test pvals |  6.75857493454224e-27 | 9.287059629203752e-106 | 1.837341843607385e-14 |\n",
      "| mutual info  |  0.007955970295441261 |  0.22514878033517238   | 0.0012983303363514054 |\n",
      "| coefficient  |   6.489438494856801   |  0.21262132632769443   |  -0.21669481117134046 |\n",
      "+--------------+-----------------------+------------------------+-----------------------+\n",
      "+--------------+-----------------------+-----------------------+-----------------------+\n",
      "|  test_name   |       which_week      |      day_of_week      |      before_work      |\n",
      "+--------------+-----------------------+-----------------------+-----------------------+\n",
      "|    t-test    |    4.53398374201056   |   1.271928926349624   |   6.857694324088726   |\n",
      "| t-test pvals | 5.801736328283836e-06 |   0.2034043666014616  | 7.080214203959081e-12 |\n",
      "| mutual info  | 0.0005087544205535366 |  0.004608003672484706 |  0.004967515697807734 |\n",
      "| coefficient  |  0.11289788832707956  | 0.0022938485914993935 |  0.20425845775357687  |\n",
      "+--------------+-----------------------+-----------------------+-----------------------+\n",
      "+--------------+-----------------------+------------------------+------------------------+\n",
      "|  test_name   |      during_work      |       after_work       |    sunday_wednesday    |\n",
      "+--------------+-----------------------+------------------------+------------------------+\n",
      "|    t-test    |   11.842518058582753  |          nan           |  0.43632394933174445   |\n",
      "| t-test pvals | 2.602502494421068e-32 |          nan           |   0.6626036167513203   |\n",
      "| mutual info  |          0.0          |  0.004174325605879048  |          0.0           |\n",
      "| coefficient  |   -0.522496474232389  | 2.6645352591003757e-15 | -0.0012222653362431387 |\n",
      "+--------------+-----------------------+------------------------+------------------------+\n",
      "+--------------+----------------------+-----------------------+----------------------+\n",
      "|  test_name   |  thursday_saturday   |         shift         |     shift_change     |\n",
      "+--------------+----------------------+-----------------------+----------------------+\n",
      "|    t-test    | 0.43632394933164503  |   3.0567249983939226  |  0.6570458281490782  |\n",
      "| t-test pvals |  0.6626036167513203  | 0.0022388904515145643 |  0.5111545135844424  |\n",
      "| mutual info  |         0.0          | 0.0035182072032950984 | 0.006072418459369011 |\n",
      "| coefficient  | 0.001222265336233147 |  -0.14954402857951613 | -0.06832069705386243 |\n",
      "+--------------+----------------------+-----------------------+----------------------+\n"
     ]
    }
   ],
   "source": [
    "columns = [\"Tip_amount\", \n",
    "           \"Total_amount\",\n",
    "           \"Tolls_amount\",\n",
    "           \"improvement_surcharge\",\n",
    "           \"Trip_distance\",   \n",
    "           \"during_heavy_traffic\",\n",
    "           \"which_week\", \n",
    "           \"day_of_week\",\n",
    "           \"before_work\",\n",
    "           \"during_work\",\n",
    "           \"after_work\",\n",
    "           \"sunday_wednesday\",\n",
    "           \"thursday_saturday\",\n",
    "           \"shift\",\n",
    "           \"shift_change\"]\n",
    "lin_reg_test_train_split(sample, columns)"
   ]
  },
  {
   "cell_type": "markdown",
   "metadata": {},
   "source": [
    "Right off the bat, we can drop the following features:\n",
    "    \n",
    "* after_work\n",
    "* thursday_saturday\n",
    "* shift\n",
    "* day_of_week\n",
    "\n",
    "For all of them we fail to reject the null hypothesis and therefore they have no statistical significance.  Let's re-run our model without them and see what to do next."
   ]
  },
  {
   "cell_type": "code",
   "execution_count": 27,
   "metadata": {},
   "outputs": [
    {
     "name": "stdout",
     "output_type": "stream",
     "text": [
      "R^2 0.6280801901355569\n",
      "MSE 28.095634953632892\n",
      "F-statistic 73276.32158404126\n",
      "F-prob 0.0\n",
      "+--------------+--------------------+---------------------+-----------------------+\n",
      "|  test_name   |     Tip_amount     |     Total_amount    |      Tolls_amount     |\n",
      "+--------------+--------------------+---------------------+-----------------------+\n",
      "|    t-test    | 237.24522815107647 |  55.57872238635627  |   9.871407366792363   |\n",
      "| t-test pvals |        0.0         |         0.0         | 5.816451354108861e-23 |\n",
      "| mutual info  | 1.6736983586858418 |  1.6201094066123591 |  0.034136671110990946 |\n",
      "| coefficient  | 3.317977297415738  | -0.2438969991568882 |  -0.08418451479921868 |\n",
      "+--------------+--------------------+---------------------+-----------------------+\n",
      "+--------------+-----------------------+------------------------+-----------------------+\n",
      "|  test_name   | improvement_surcharge |     Trip_distance      |  during_heavy_traffic |\n",
      "+--------------+-----------------------+------------------------+-----------------------+\n",
      "|    t-test    |   10.744199319535626  |   21.894875480488086   |   7.663845335779789   |\n",
      "| t-test pvals |  6.75857493454224e-27 | 9.287059629203752e-106 | 1.837341843607385e-14 |\n",
      "| mutual info  |  0.008904992892649233 |   0.224952438762565    | 0.0035900741352481447 |\n",
      "| coefficient  |   5.114911991386099   |  0.07687155442512966   |  -0.19768375841977612 |\n",
      "+--------------+-----------------------+------------------------+-----------------------+\n",
      "+--------------+-----------------------+-----------------------+-----------------------+\n",
      "|  test_name   |       which_week      |      before_work      |      during_work      |\n",
      "+--------------+-----------------------+-----------------------+-----------------------+\n",
      "|    t-test    |    4.53398374201056   |   6.857694324088726   |   11.842518058582753  |\n",
      "| t-test pvals | 5.801736328283836e-06 | 7.080214203959081e-12 | 2.602502494421068e-32 |\n",
      "| mutual info  |          0.0          | 0.0023458227307564528 | 0.0007127075770814173 |\n",
      "| coefficient  |  0.08271602587954816  |  0.16872044911207493  |  -0.5052663433473135  |\n",
      "+--------------+-----------------------+-----------------------+-----------------------+\n",
      "+--------------+----------------------+---------------------+\n",
      "|  test_name   |   sunday_wednesday   |     shift_change    |\n",
      "+--------------+----------------------+---------------------+\n",
      "|    t-test    | 0.43632394933174445  |  0.6570458281490782 |\n",
      "| t-test pvals |  0.6626036167513203  |  0.5111545135844424 |\n",
      "| mutual info  |         0.0          |         0.0         |\n",
      "| coefficient  | 0.038173046092996606 | -0.0272885325942239 |\n",
      "+--------------+----------------------+---------------------+\n"
     ]
    }
   ],
   "source": [
    "columns = [\"Tip_amount\", \n",
    "           \"Total_amount\",\n",
    "           \"Tolls_amount\",\n",
    "           \"improvement_surcharge\",\n",
    "           \"Trip_distance\",   \n",
    "           \"during_heavy_traffic\",\n",
    "           \"which_week\", \n",
    "           \"before_work\",\n",
    "           \"during_work\",\n",
    "           \"sunday_wednesday\",\n",
    "           \"shift_change\"]\n",
    "lin_reg_test_train_split(sample, columns)"
   ]
  },
  {
   "cell_type": "markdown",
   "metadata": {},
   "source": [
    "We can knock out two more variables due to lack of statistical significance:\n",
    "\n",
    "* sunday_wednesday\n",
    "* shift_change\n",
    "\n",
    "Let's rerun again!"
   ]
  },
  {
   "cell_type": "code",
   "execution_count": 28,
   "metadata": {},
   "outputs": [
    {
     "name": "stdout",
     "output_type": "stream",
     "text": [
      "R^2 0.5772812952521145\n",
      "MSE 32.531216135041205\n",
      "F-statistic 71831.97426165019\n",
      "F-prob 0.0\n",
      "+--------------+--------------------+---------------------+-----------------------+\n",
      "|  test_name   |     Tip_amount     |     Total_amount    |      Tolls_amount     |\n",
      "+--------------+--------------------+---------------------+-----------------------+\n",
      "|    t-test    | 237.24522815107647 |  55.57872238635627  |   9.871407366792363   |\n",
      "| t-test pvals |        0.0         |         0.0         | 5.816451354108861e-23 |\n",
      "| mutual info  | 1.6808505755619043 |  1.6154006781221675 |  0.03515762871718575  |\n",
      "| coefficient  | 3.5548298324010283 | -0.2913713779720275 |  -0.1552704016218744  |\n",
      "+--------------+--------------------+---------------------+-----------------------+\n",
      "+--------------+-----------------------+------------------------+-----------------------+\n",
      "|  test_name   | improvement_surcharge |     Trip_distance      |  during_heavy_traffic |\n",
      "+--------------+-----------------------+------------------------+-----------------------+\n",
      "|    t-test    |   10.744199319535626  |   21.894875480488086   |   7.663845335779789   |\n",
      "| t-test pvals |  6.75857493454224e-27 | 9.287059629203752e-106 | 1.837341843607385e-14 |\n",
      "| mutual info  |  0.004176883702713852 |  0.22636830599022595   |  0.001834510009779855 |\n",
      "| coefficient  |   5.237805505131599   |  0.14631537125446692   | -0.018683611877755944 |\n",
      "+--------------+-----------------------+------------------------+-----------------------+\n",
      "+--------------+-----------------------+-----------------------+------------------------+\n",
      "|  test_name   |       which_week      |      before_work      |      during_work       |\n",
      "+--------------+-----------------------+-----------------------+------------------------+\n",
      "|    t-test    |    4.53398374201056   |   6.857694324088726   |   11.842518058582831   |\n",
      "| t-test pvals | 5.801736328283836e-06 | 7.080214203959081e-12 | 2.6025024944145216e-32 |\n",
      "| mutual info  |          0.0          |          0.0          | 0.0022951955971324267  |\n",
      "| coefficient  |  0.10138122748290454  |  0.06345627389585953  |  -0.5798232194510924   |\n",
      "+--------------+-----------------------+-----------------------+------------------------+\n"
     ]
    }
   ],
   "source": [
    "columns = [\"Tip_amount\", \n",
    "           \"Total_amount\",\n",
    "           \"Tolls_amount\",\n",
    "           \"improvement_surcharge\",\n",
    "           \"Trip_distance\",   \n",
    "           \"during_heavy_traffic\",\n",
    "           \"which_week\", \n",
    "           \"before_work\",\n",
    "           \"during_work\"]\n",
    "lin_reg_test_train_split(sample, columns)"
   ]
  },
  {
   "cell_type": "markdown",
   "metadata": {},
   "source": [
    "Looking at our model now, we see that the coeficients on `which_week` and `before_work` appear quite small.  Given this we remove them for reasons similar to those stated above - t-test's can pass for two reasons, the magnitude of the coeficient being small or the standard error being large.  Here, clearly the former is at work."
   ]
  },
  {
   "cell_type": "code",
   "execution_count": 29,
   "metadata": {},
   "outputs": [
    {
     "name": "stdout",
     "output_type": "stream",
     "text": [
      "R^2 0.6306072675250743\n",
      "MSE 28.250301540397952\n",
      "F-statistic 72472.64619967017\n",
      "F-prob 0.0\n",
      "+--------------+--------------------+---------------------+-----------------------+\n",
      "|  test_name   |     Tip_amount     |     Total_amount    |      Tolls_amount     |\n",
      "+--------------+--------------------+---------------------+-----------------------+\n",
      "|    t-test    | 237.24522815107647 |  55.57872238635627  |   9.871407366792363   |\n",
      "| t-test pvals |        0.0         |         0.0         | 5.816451354108861e-23 |\n",
      "| mutual info  | 1.6807947464512116 |  1.6174482762418192 |  0.025579619410943444 |\n",
      "| coefficient  | 3.302165176799936  | -0.2647503263450512 |  -0.2217275284140616  |\n",
      "+--------------+--------------------+---------------------+-----------------------+\n",
      "+--------------+-----------------------+------------------------+-----------------------+\n",
      "|  test_name   | improvement_surcharge |     Trip_distance      |  during_heavy_traffic |\n",
      "+--------------+-----------------------+------------------------+-----------------------+\n",
      "|    t-test    |   10.744199319535626  |   21.894875480488086   |   7.663845335779789   |\n",
      "| t-test pvals |  6.75857493454224e-27 | 9.287059629203752e-106 | 1.837341843607385e-14 |\n",
      "| mutual info  |  0.006873642856422002 |  0.22337498930853528   |  0.009202618256707318 |\n",
      "| coefficient  |   7.431216790232447   |  0.17480297434879583   |  -0.1527107260915896  |\n",
      "+--------------+-----------------------+------------------------+-----------------------+\n",
      "+--------------+------------------------+\n",
      "|  test_name   |      during_work       |\n",
      "+--------------+------------------------+\n",
      "|    t-test    |   11.842518058582831   |\n",
      "| t-test pvals | 2.6025024944145216e-32 |\n",
      "| mutual info  |          0.0           |\n",
      "| coefficient  |  -0.5273672341371218   |\n",
      "+--------------+------------------------+\n"
     ]
    }
   ],
   "source": [
    "columns = [\"Tip_amount\", \n",
    "           \"Total_amount\",\n",
    "           \"Tolls_amount\",\n",
    "           \"improvement_surcharge\",\n",
    "           \"Trip_distance\",   \n",
    "           \"during_heavy_traffic\",\n",
    "           \"during_work\"]\n",
    "lin_reg_test_train_split(sample, columns)"
   ]
  },
  {
   "cell_type": "markdown",
   "metadata": {},
   "source": [
    "Now we have a fully specified model!  Including price, distance and time based features!  Let's explain `during_work` our only new feature:\n",
    "\n",
    "* **`during_work` is statistically significant with a weak negative coeficient**.  I'm not sure why taking a cab during work would contribute negatively to tip.  Let's investigate. "
   ]
  },
  {
   "cell_type": "code",
   "execution_count": 95,
   "metadata": {},
   "outputs": [
    {
     "name": "stdout",
     "output_type": "stream",
     "text": [
      "(-0.029642846537744422, 4.5002017596093634e-11)\n",
      "(4.6550353646297935e-05, 0.991749104571429)\n"
     ]
    }
   ],
   "source": [
    "print(stats.pearsonr(sample[\"Trip_distance\"], sample[\"during_work\"]))\n",
    "print(stats.pearsonr(sample[\"Total_amount\"], sample[\"during_work\"]))"
   ]
  },
  {
   "cell_type": "markdown",
   "metadata": {},
   "source": [
    "The above two tests show broadly there isn't much interaction between distance and price based features.  So we have to conclude it a mystery.  \n",
    "\n",
    "In any event, now that we have a fully specified model, let's try to get our error rate down, while regularizing our model, so as to not overfit.\n",
    "\n",
    "Next I will try a gradient boosted tree, because those are typically pretty good for regression problems."
   ]
  },
  {
   "cell_type": "code",
   "execution_count": 107,
   "metadata": {},
   "outputs": [],
   "source": [
    "def test_distance_time_price_feature_gbr(sample):\n",
    "    X = sample[[\"Tip_amount\", \n",
    "                \"Total_amount\",\n",
    "                \"Tolls_amount\",\n",
    "                \"improvement_surcharge\",\n",
    "                \"Trip_distance\",   \n",
    "                \"during_heavy_traffic\",\n",
    "                \"during_work\"]]\n",
    "    y = sample[\"tip_percentage\"]\n",
    "    \n",
    "    param_grid = {\"criterion\": [\"mse\", \"friedman_mse\"],\n",
    "              \"min_samples_split\": [2, 10, 20],\n",
    "              \"max_depth\": [None, 2, 10, 20],\n",
    "              \"min_samples_leaf\": [1, 5, 10],\n",
    "              \"max_leaf_nodes\": [None, 5, 10, 20],\n",
    "              \"min_impurity_decrease\":[0.1, 0.3, 0.5, 0.7]\n",
    "              }\n",
    "    \n",
    "    gbr = ensemble.GradientBoostingRegressor()\n",
    "    grid_search = GridSearchCV(gbr,\n",
    "                              param_grid=param_grid,\n",
    "                              cv=3, scoring=\"neg_mean_squared_error\")\n",
    "    grid_search.fit(X, y)\n",
    "    grid_scores = grid_search.grid_scores_\n",
    "    top_scores = sorted(grid_scores,\n",
    "                       key=lambda t:t[1],\n",
    "                        reverse=True)[:3]\n",
    "    for index, score in enumerate(top_scores):\n",
    "        print(\"Model Rank\", index+1)\n",
    "        print(\"Mean validation Score\", score.mean_validation_score)\n",
    "        print(\"Std of validation score\", np.std(score.cv_validation_scores))\n",
    "        print(\"Parameters:\", score.parameters)\n",
    "    print(\"feature importance\")\n",
    "    feature_importance = grid_search.best_estimator_.feature_importances_\n",
    "    for index, col in enumerate(X.columns):\n",
    "        print(col, feature_importance[index])\n",
    "            \n",
    "test_distance_time_price_feature_gbr(sample)"
   ]
  },
  {
   "cell_type": "code",
   "execution_count": 108,
   "metadata": {},
   "outputs": [],
   "source": [
    "def test_distance_time_price_feature_xgbr(sample):\n",
    "    X = sample[[\"Tip_amount\", \n",
    "                \"Total_amount\",\n",
    "                \"Tolls_amount\",\n",
    "                \"improvement_surcharge\",\n",
    "                \"Trip_distance\",   \n",
    "                \"during_heavy_traffic\",\n",
    "                \"during_work\"]]\n",
    "    y = sample[\"tip_percentage\"]\n",
    "    \n",
    "    param_grid = {\"criterion\": [\"mse\", \"friedman_mse\"],\n",
    "              \"min_samples_split\": [2, 10, 20],\n",
    "              \"max_depth\": [None, 2, 10, 20],\n",
    "              \"min_samples_leaf\": [1, 5, 10],\n",
    "              \"max_leaf_nodes\": [None, 5, 10, 20],\n",
    "              \"min_impurity_decrease\":[0.1, 0.3, 0.5, 0.7]\n",
    "              }\n",
    "    xgb1 = XGBRegressor()\n",
    "    parameters = {'objective':['reg:linear'],\n",
    "                  'learning_rate': [.03, 0.05], \n",
    "                  'max_depth': [5, 10, 15],\n",
    "                  'min_child_weight': [5, 10, 15],\n",
    "                  'silent': [1],\n",
    "                  'subsample': [0.3, 0.5],\n",
    "                  'colsample_bytree': [0.3, 0.5],\n",
    "                  'colsample_bylevel': [0.3, 0.5],\n",
    "                  'reg_lambda':[0.5, 1, 5],\n",
    "                  'n_estimators': [50, 100, 500]}\n",
    "\n",
    "    grid_search = GridSearchCV(xgb1,\n",
    "                            parameters,\n",
    "                            cv = 2,\n",
    "                            n_jobs = 5,\n",
    "                            verbose=True,\n",
    "                            scoring=\"neg_mean_squared_error\")\n",
    "\n",
    "    grid_search.fit(X, y)\n",
    "    grid_scores = grid_search.grid_scores_\n",
    "    top_scores = sorted(grid_scores,\n",
    "                       key=lambda t:t[1],\n",
    "                        reverse=True)[:3]\n",
    "    for index, score in enumerate(top_scores):\n",
    "        print(\"Model Rank\", index+1)\n",
    "        print(\"Mean validation Score\", score.mean_validation_score)\n",
    "        print(\"Std of validation score\", np.std(score.cv_validation_scores))\n",
    "        print(\"Parameters:\", score.parameters)\n",
    "    #print(\"feature importance\")\n",
    "    #feature_importance = grid_search.best_estimator_.feature_importances_\n",
    "    #for index, col in enumerate(X.columns):\n",
    "    #    print(col, feature_importance[index])\n",
    "\n",
    "\n",
    "#test_distance_time_price_feature_xgbr(sample)"
   ]
  },
  {
   "cell_type": "markdown",
   "metadata": {},
   "source": [
    "I encountered some very strange bug with jupyter notebooks that wouldn't let me run xgboost, so I'm going to past the output below.  The output is the same as the code in the cell directly above, it lives in the script `trying_xgboost.py` and can be run with `python trying_xgboost.py`.  Here is the output:\n",
    "\n",
    "```\n",
    "Model Rank 1\n",
    "Mean validation Score -1.1583046129491124\n",
    "Std of validation score 0.12531750264735186\n",
    "Parameters: {'colsample_bylevel': 0.3, 'colsample_bytree': 0.5, 'learning_rate': 0.05, 'max_depth': 15, 'min_child_weight': 5, 'n_estimators': 500, 'objective': 'reg:linear', 'reg_lambda': 0.5, 'silent': 1, 'subsample': 0.5}\n",
    "Model Rank 2\n",
    "Mean validation Score -1.1583046129491124\n",
    "Std of validation score 0.12531750264735186\n",
    "Parameters: {'colsample_bylevel': 0.5, 'colsample_bytree': 0.5, 'learning_rate': 0.05, 'max_depth': 15, 'min_child_weight': 5, 'n_estimators': 500, 'objective': 'reg:linear', 'reg_lambda': 0.5, 'silent': 1, 'subsample': 0.5}\n",
    "Model Rank 3\n",
    "Mean validation Score -1.2027621274447884\n",
    "Std of validation score 0.06019841945548143\n",
    "Parameters: {'colsample_bylevel': 0.3, 'colsample_bytree': 0.5, 'learning_rate': 0.05, 'max_depth': 10, 'min_child_weight': 5, 'n_estimators': 500, 'objective': 'reg:linear', 'reg_lambda': 0.5, 'silent': 1, 'subsample': 0.5}\n",
    "```\n"
   ]
  },
  {
   "cell_type": "markdown",
   "metadata": {},
   "source": [
    "As you can see xgboost gets an extremely high score.  We probably won't be able to do a better job.  And given how many regularization parameters we set, we are probably only overfitting by a little.\n",
    "\n",
    "Just to be specific here's how regularization works in xgboost:\n",
    "\n",
    "* By adding randomness:\n",
    "  * colsample_bytree: This is the percentage of randomly selected columns to split on for each level of the tree.\n",
    "  * colsample_bylevel: This is the percentage of randomly selected columns for each tree to train on.\n",
    "  * subsample: This subsample the data at the given ratio.  The smaller the ratio the few trees are grown.\n",
    "* By some given rate:\n",
    "  * reg_lambda: this is the L2 regularization rate, which penalizes the model based on output using the L2 norm.\n",
    "  * learning rate: this is step size shrinkage parameter.  After each boosting step, we can get the new feature weights and then shrink the feature rates, at the learning rate.  \n",
    "* By tree statistics:\n",
    "    * max_depth: this puts a maximum on how deep the tree can get.  The fewer the splits the tree can make, the less chance it can overfit the data.\n"
   ]
  },
  {
   "cell_type": "markdown",
   "metadata": {},
   "source": [
    "# Classification - Bonus task\n",
    "\n",
    "Now that we know with some level of certainty we can fit a model, let's see if we can answer a bonus question - can we figure out whether or not riders will leave any tip?\n",
    "\n",
    "This is prime for classification!  Let's dive right in."
   ]
  },
  {
   "cell_type": "markdown",
   "metadata": {},
   "source": [
    "# Dealing with class imbalance\n",
    "\n",
    "One of the easiest ways to deal with class imbalance is to simply upsample our miniority class.  Since our data is a sample we can simply draw on our population to do this."
   ]
  },
  {
   "cell_type": "code",
   "execution_count": 43,
   "metadata": {},
   "outputs": [
    {
     "name": "stdout",
     "output_type": "stream",
     "text": [
      "cases where no tip left 29111\n",
      "cases where tip was left 20247\n",
      "no tip percentage: 0.5897929413671542\n",
      "no tip percentage: 0.41020705863284573\n"
     ]
    }
   ],
   "source": [
    "print(\"cases where no tip left\", len(sample[sample[\"tip_percentage\"] == 0]))\n",
    "print(\"cases where tip was left\", len(sample[sample[\"tip_percentage\"] != 0]))\n",
    "print(\"no tip percentage:\", len(sample[sample[\"tip_percentage\"] == 0])/ len(sample))\n",
    "print(\"no tip percentage:\", len(sample[sample[\"tip_percentage\"] != 0])/ len(sample))"
   ]
  },
  {
   "cell_type": "markdown",
   "metadata": {},
   "source": [
    "To make these classes even simply need to add 29111 - 20247 = 8864 cases when a tip was left.  One initial problem we may face is whether or not we get unique new data, in lieu of using a unique ID we can use pickup and dropoff to verify that none of our new samples are already in our sample. "
   ]
  },
  {
   "cell_type": "code",
   "execution_count": 33,
   "metadata": {},
   "outputs": [],
   "source": [
    "def rebalance_classes(sample, samples_needed=0):\n",
    "    initial_size = len(sample)\n",
    "    while True:\n",
    "        tip = green[green[\"tip_percentage\"] != 0]\n",
    "        tip_sample = tip.sample(samples_needed)\n",
    "        tip_sample.isin(sample)\n",
    "        start_index = max(sample.index)+1\n",
    "        end_index = start_index + len(tip_sample)\n",
    "        tip_sample.index = list(range(start_index, end_index))\n",
    "        sample = sample.append(tip_sample)\n",
    "        if len(sample) - initial_size == samples_needed:\n",
    "            break\n",
    "    return sample\n",
    "samples_needed = abs(len(sample[sample[\"tip_percentage\"] == 0]) - len(sample[sample[\"tip_percentage\"] != 0]))\n",
    "sample = rebalance_classes(sample, samples_needed=samples_needed)"
   ]
  },
  {
   "cell_type": "markdown",
   "metadata": {},
   "source": [
    "Once this completes you will need to rerun the feature engineering:"
   ]
  },
  {
   "cell_type": "code",
   "execution_count": 30,
   "metadata": {},
   "outputs": [],
   "source": [
    "nCores = cpu_count()\n",
    "sample = dd.from_pandas(sample, npartitions=nCores).map_partitions(\n",
    "      lambda df : df.apply(generate_hour_column, axis=1)\n",
    ").compute(get=get)\n",
    "\n",
    "sample = distance_feature_engineering(sample)\n",
    "sample = sample.replace([np.inf, -np.inf], np.nan)\n",
    "sample = sample.dropna()\n",
    "sample = time_feature_engineering(sample)"
   ]
  },
  {
   "cell_type": "code",
   "execution_count": 31,
   "metadata": {},
   "outputs": [],
   "source": [
    "nCores = cpu_count()\n",
    "green = dd.from_pandas(green, npartitions=nCores).map_partitions(\n",
    "      lambda df : df.apply(generate_hour_column, axis=1)\n",
    ").compute(get=get)\n",
    "\n",
    "green = distance_feature_engineering(green)\n",
    "sample = sample.replace([np.inf, -np.inf], np.nan)\n",
    "sample = sample.dropna()\n",
    "green = time_feature_engineering(green)"
   ]
  },
  {
   "cell_type": "code",
   "execution_count": 34,
   "metadata": {},
   "outputs": [
    {
     "data": {
      "text/plain": [
       "(29108, 29108)"
      ]
     },
     "execution_count": 34,
     "metadata": {},
     "output_type": "execute_result"
    }
   ],
   "source": [
    "len(sample[sample[\"tip_percentage\"] == 0]), len(sample[sample[\"tip_percentage\"] != 0])"
   ]
  },
  {
   "cell_type": "markdown",
   "metadata": {},
   "source": [
    "Now that our samples are more balanced, let's try running the classifier."
   ]
  },
  {
   "cell_type": "code",
   "execution_count": 35,
   "metadata": {},
   "outputs": [
    {
     "data": {
      "text/plain": [
       "VendorID                  0\n",
       "lpep_pickup_datetime      0\n",
       "Lpep_dropoff_datetime     0\n",
       "Store_and_fwd_flag        0\n",
       "RateCodeID                0\n",
       "Pickup_longitude          0\n",
       "Pickup_latitude           0\n",
       "Dropoff_longitude         0\n",
       "Dropoff_latitude          0\n",
       "Passenger_count           0\n",
       "Trip_distance             0\n",
       "Fare_amount               0\n",
       "Extra                     0\n",
       "MTA_tax                   0\n",
       "Tip_amount                0\n",
       "Tolls_amount              0\n",
       "improvement_surcharge     0\n",
       "Total_amount              0\n",
       "Payment_type              0\n",
       "Trip_type                 0\n",
       "tip_percentage            0\n",
       "hour                      0\n",
       "duration                  0\n",
       "ave_speed                 0\n",
       "under_one                 0\n",
       "three_and_half_or_more    0\n",
       "between_one_and_three     0\n",
       "during_heavy_traffic      0\n",
       "which_week                0\n",
       "day_of_week               0\n",
       "before_work               0\n",
       "during_work               0\n",
       "after_work                0\n",
       "sunday_wednesday          0\n",
       "thursday_saturday         0\n",
       "shift                     0\n",
       "shift_change              0\n",
       "dtype: int64"
      ]
     },
     "execution_count": 35,
     "metadata": {},
     "output_type": "execute_result"
    }
   ],
   "source": [
    "sample.isnull().sum()"
   ]
  },
  {
   "cell_type": "markdown",
   "metadata": {},
   "source": [
    "Note we'll need to remove `tip_amount` because there is a 100% correlation between `tip_amount == 0` and `tip_percentage == 0` "
   ]
  },
  {
   "cell_type": "code",
   "execution_count": 37,
   "metadata": {},
   "outputs": [
    {
     "name": "stdout",
     "output_type": "stream",
     "text": [
      "\n",
      "F1:              precision    recall  f1-score   support\n",
      "\n",
      "          0       0.86      0.87      0.87      9607\n",
      "          1       0.87      0.86      0.86      9605\n",
      "\n",
      "avg / total       0.86      0.86      0.86     19212\n",
      "\n",
      "feature importance:\n",
      "Total_amount 0.3623726849007213\n",
      "Tolls_amount 0.004323512482101176\n",
      "improvement_surcharge 0.005175788542680157\n",
      "Trip_distance 0.536744241004834\n",
      "during_heavy_traffic 0.05625460769032233\n",
      "during_work 0.03512916537934109\n"
     ]
    },
    {
     "ename": "ValueError",
     "evalue": "Number of labels=19212 does not match number of samples=39004",
     "output_type": "error",
     "traceback": [
      "\u001b[0;31m---------------------------------------------------------------------------\u001b[0m",
      "\u001b[0;31mValueError\u001b[0m                                Traceback (most recent call last)",
      "\u001b[0;32m<ipython-input-37-814bd5ed19cc>\u001b[0m in \u001b[0;36m<module>\u001b[0;34m()\u001b[0m\n\u001b[1;32m     43\u001b[0m     \u001b[0mpicture\u001b[0m \u001b[0;34m=\u001b[0m \u001b[0mImage\u001b[0m\u001b[0;34m(\u001b[0m\u001b[0mgraph\u001b[0m\u001b[0;34m.\u001b[0m\u001b[0mcreate_png\u001b[0m\u001b[0;34m(\u001b[0m\u001b[0;34m)\u001b[0m\u001b[0;34m)\u001b[0m\u001b[0;34m\u001b[0m\u001b[0m\n\u001b[1;32m     44\u001b[0m \u001b[0;34m\u001b[0m\u001b[0m\n\u001b[0;32m---> 45\u001b[0;31m \u001b[0mtest_time_gbc\u001b[0m\u001b[0;34m(\u001b[0m\u001b[0msample\u001b[0m\u001b[0;34m)\u001b[0m\u001b[0;34m\u001b[0m\u001b[0m\n\u001b[0m",
      "\u001b[0;32m<ipython-input-37-814bd5ed19cc>\u001b[0m in \u001b[0;36mtest_time_gbc\u001b[0;34m(sample)\u001b[0m\n\u001b[1;32m     33\u001b[0m         \u001b[0mprint\u001b[0m\u001b[0;34m(\u001b[0m\u001b[0mcolumn\u001b[0m\u001b[0;34m,\u001b[0m \u001b[0mfeature_importances\u001b[0m\u001b[0;34m[\u001b[0m\u001b[0mindex\u001b[0m\u001b[0;34m]\u001b[0m\u001b[0;34m)\u001b[0m\u001b[0;34m\u001b[0m\u001b[0m\n\u001b[1;32m     34\u001b[0m     \u001b[0mtree_clf\u001b[0m \u001b[0;34m=\u001b[0m \u001b[0mtree\u001b[0m\u001b[0;34m.\u001b[0m\u001b[0mDecisionTreeClassifier\u001b[0m\u001b[0;34m(\u001b[0m\u001b[0;34m)\u001b[0m\u001b[0;34m\u001b[0m\u001b[0m\n\u001b[0;32m---> 35\u001b[0;31m     \u001b[0mtree_model\u001b[0m \u001b[0;34m=\u001b[0m \u001b[0mtree_clf\u001b[0m\u001b[0;34m.\u001b[0m\u001b[0mfit\u001b[0m\u001b[0;34m(\u001b[0m\u001b[0mX_train\u001b[0m\u001b[0;34m,\u001b[0m \u001b[0my_pred\u001b[0m\u001b[0;34m)\u001b[0m\u001b[0;34m\u001b[0m\u001b[0m\n\u001b[0m\u001b[1;32m     36\u001b[0m \u001b[0;34m\u001b[0m\u001b[0m\n\u001b[1;32m     37\u001b[0m     dot_data = tree.export_graphviz(tree_model, out_file=None, \n",
      "\u001b[0;32m/usr/local/lib/python3.6/dist-packages/sklearn/tree/tree.py\u001b[0m in \u001b[0;36mfit\u001b[0;34m(self, X, y, sample_weight, check_input, X_idx_sorted)\u001b[0m\n\u001b[1;32m    788\u001b[0m             \u001b[0msample_weight\u001b[0m\u001b[0;34m=\u001b[0m\u001b[0msample_weight\u001b[0m\u001b[0;34m,\u001b[0m\u001b[0;34m\u001b[0m\u001b[0m\n\u001b[1;32m    789\u001b[0m             \u001b[0mcheck_input\u001b[0m\u001b[0;34m=\u001b[0m\u001b[0mcheck_input\u001b[0m\u001b[0;34m,\u001b[0m\u001b[0;34m\u001b[0m\u001b[0m\n\u001b[0;32m--> 790\u001b[0;31m             X_idx_sorted=X_idx_sorted)\n\u001b[0m\u001b[1;32m    791\u001b[0m         \u001b[0;32mreturn\u001b[0m \u001b[0mself\u001b[0m\u001b[0;34m\u001b[0m\u001b[0m\n\u001b[1;32m    792\u001b[0m \u001b[0;34m\u001b[0m\u001b[0m\n",
      "\u001b[0;32m/usr/local/lib/python3.6/dist-packages/sklearn/tree/tree.py\u001b[0m in \u001b[0;36mfit\u001b[0;34m(self, X, y, sample_weight, check_input, X_idx_sorted)\u001b[0m\n\u001b[1;32m    234\u001b[0m         \u001b[0;32mif\u001b[0m \u001b[0mlen\u001b[0m\u001b[0;34m(\u001b[0m\u001b[0my\u001b[0m\u001b[0;34m)\u001b[0m \u001b[0;34m!=\u001b[0m \u001b[0mn_samples\u001b[0m\u001b[0;34m:\u001b[0m\u001b[0;34m\u001b[0m\u001b[0m\n\u001b[1;32m    235\u001b[0m             raise ValueError(\"Number of labels=%d does not match \"\n\u001b[0;32m--> 236\u001b[0;31m                              \"number of samples=%d\" % (len(y), n_samples))\n\u001b[0m\u001b[1;32m    237\u001b[0m         \u001b[0;32mif\u001b[0m \u001b[0;32mnot\u001b[0m \u001b[0;36m0\u001b[0m \u001b[0;34m<=\u001b[0m \u001b[0mself\u001b[0m\u001b[0;34m.\u001b[0m\u001b[0mmin_weight_fraction_leaf\u001b[0m \u001b[0;34m<=\u001b[0m \u001b[0;36m0.5\u001b[0m\u001b[0;34m:\u001b[0m\u001b[0;34m\u001b[0m\u001b[0m\n\u001b[1;32m    238\u001b[0m             \u001b[0;32mraise\u001b[0m \u001b[0mValueError\u001b[0m\u001b[0;34m(\u001b[0m\u001b[0;34m\"min_weight_fraction_leaf must in [0, 0.5]\"\u001b[0m\u001b[0;34m)\u001b[0m\u001b[0;34m\u001b[0m\u001b[0m\n",
      "\u001b[0;31mValueError\u001b[0m: Number of labels=19212 does not match number of samples=39004"
     ]
    }
   ],
   "source": [
    "def test_time_gbc(sample):\n",
    "    map_values = {\n",
    "        False: 0,\n",
    "        True: 1\n",
    "    }\n",
    "    y = sample[\"tip_percentage\"] != 0\n",
    "    y = y.map(map_values)\n",
    "    X = sample[[\"Total_amount\",\n",
    "                \"Tolls_amount\",\n",
    "                \"improvement_surcharge\",\n",
    "                \"Trip_distance\",   \n",
    "                \"during_heavy_traffic\",\n",
    "                \"during_work\"]]\n",
    "    num_features = len(X)\n",
    "    params = {\"criterion\": \"friedman_mse\",\n",
    "              \"min_samples_split\": 10, \n",
    "              \"max_depth\": num_features*3,\n",
    "              \"min_samples_leaf\": 5,\n",
    "              \"max_leaf_nodes\": None,\n",
    "              \"warm_start\": True\n",
    "              }\n",
    "    X_train, X_test, y_train, y_test = train_test_split(\n",
    "        X, y, test_size=0.33)\n",
    "    gbc = ensemble.GradientBoostingClassifier(**params)\n",
    "    \n",
    "    gbc.fit(X_train, y_train)\n",
    "    y_pred = gbc.predict(X_test)\n",
    "    print()\n",
    "    print(\"F1:\", metrics.classification_report(y_test, y_pred))\n",
    "    print(\"feature importance:\")\n",
    "    feature_importances = gbc.feature_importances_\n",
    "    for index, column in enumerate(X.columns):\n",
    "        print(column, feature_importances[index])\n",
    "    tree_clf = tree.DecisionTreeClassifier()\n",
    "    tree_model = tree_clf.fit(X_train, y_pred)\n",
    "\n",
    "    dot_data = tree.export_graphviz(tree_model, out_file=None, \n",
    "                             feature_names=X_test.columns,  \n",
    "                             class_names=\"tip_percentage\",  \n",
    "                             filled=True, rounded=True,  \n",
    "                             special_characters=True)  \n",
    "    graph = pydotplus.graph_from_dot_data(dot_data)  \n",
    "    picture = Image(graph.create_png()) \n",
    "    \n",
    "test_time_gbc(sample)"
   ]
  },
  {
   "cell_type": "markdown",
   "metadata": {},
   "source": [
    "Let's try regularizing to see if our fit is to be believed."
   ]
  },
  {
   "cell_type": "code",
   "execution_count": 62,
   "metadata": {},
   "outputs": [
    {
     "name": "stdout",
     "output_type": "stream",
     "text": [
      "\n",
      "F1:              precision    recall  f1-score   support\n",
      "\n",
      "          0       0.89      0.85      0.87     29111\n",
      "          1       0.86      0.89      0.87     29066\n",
      "\n",
      "avg / total       0.87      0.87      0.87     58177\n",
      "\n"
     ]
    }
   ],
   "source": [
    "def test_time_gbc2(sample):\n",
    "    map_values = {\n",
    "        False: 0,\n",
    "        True: 1\n",
    "    }\n",
    "    y = sample[\"tip_percentage\"] != 0\n",
    "    y = y.map(map_values)\n",
    "    X = sample[[\"Total_amount\",\n",
    "                \"Tolls_amount\",\n",
    "                \"improvement_surcharge\",\n",
    "                \"Trip_distance\",   \n",
    "                \"during_heavy_traffic\",\n",
    "                \"during_work\"]]\n",
    "    num_features = len(X)\n",
    "    params = {\"criterion\": \"friedman_mse\",\n",
    "              \"min_samples_split\": 2, \n",
    "              \"max_depth\": 5,\n",
    "              \"min_samples_leaf\": 5,\n",
    "              \"max_leaf_nodes\": None,\n",
    "              \"warm_start\": False\n",
    "              }\n",
    "    bagged_gbc = ensemble.BaggingClassifier(ensemble.GradientBoostingClassifier(**params))\n",
    "    y_pred = cross_val_predict(bagged_gbc, X, y, cv=10)\n",
    "    print()\n",
    "    print(\"F1:\", metrics.classification_report(y, y_pred))\n",
    "\n",
    "        \n",
    "test_time_gbc2(sample)"
   ]
  },
  {
   "cell_type": "markdown",
   "metadata": {},
   "source": [
    "Despite all the regularization we still get an f1-score around the same level so we can say with some certainty that our classifier does a good job!"
   ]
  }
 ],
 "metadata": {
  "kernelspec": {
   "display_name": "Python 3",
   "language": "python",
   "name": "python3"
  },
  "language_info": {
   "codemirror_mode": {
    "name": "ipython",
    "version": 3
   },
   "file_extension": ".py",
   "mimetype": "text/x-python",
   "name": "python",
   "nbconvert_exporter": "python",
   "pygments_lexer": "ipython3",
   "version": "3.6.3"
  }
 },
 "nbformat": 4,
 "nbformat_minor": 2
}
