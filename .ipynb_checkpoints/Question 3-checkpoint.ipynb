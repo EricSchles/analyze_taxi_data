{
 "cells": [
  {
   "cell_type": "code",
   "execution_count": 1,
   "metadata": {},
   "outputs": [],
   "source": [
    "import pandas as pd\n",
    "import matplotlib.pyplot as plt\n",
    "from dask import dataframe as dd\n",
    "from dask.multiprocessing import get\n",
    "from multiprocessing import cpu_count\n",
    "from numba import jit\n",
    "import geopandas as gpd\n",
    "from shapely.geometry import Point, Polygon\n",
    "import numpy as np\n",
    "import geojsonio\n",
    "import requests\n",
    "from scipy import stats\n",
    "import ast\n",
    "from sklearn import preprocessing\n",
    "import json\n",
    "from functools import partial\n",
    "%matplotlib inline"
   ]
  },
  {
   "cell_type": "markdown",
   "metadata": {},
   "source": [
    "# Question 3 - Part 1\n",
    "\n",
    "Report mean and median trip distance by hour of day\n"
   ]
  },
  {
   "cell_type": "code",
   "execution_count": 2,
   "metadata": {},
   "outputs": [],
   "source": [
    "green = pd.read_csv(\"green_taxi_cleaned.csv\")"
   ]
  },
  {
   "cell_type": "markdown",
   "metadata": {},
   "source": [
    "First I preprocess the data into datetimes and then get the hour by applying the `generate_hour_column` defined below."
   ]
  },
  {
   "cell_type": "code",
   "execution_count": 13,
   "metadata": {},
   "outputs": [],
   "source": [
    "green[\"lpep_pickup_datetime\"] = pd.to_datetime(green[\"lpep_pickup_datetime\"])\n",
    "green[\"Lpep_dropoff_datetime\"] = pd.to_datetime(green[\"Lpep_dropoff_datetime\"])"
   ]
  },
  {
   "cell_type": "code",
   "execution_count": 59,
   "metadata": {},
   "outputs": [],
   "source": [
    "@jit\n",
    "def generate_hour_column(x):\n",
    "    x[\"hour\"] = x[\"lpep_pickup_datetime\"].hour\n",
    "    return x"
   ]
  },
  {
   "cell_type": "code",
   "execution_count": 60,
   "metadata": {},
   "outputs": [],
   "source": [
    "nCores = cpu_count()\n",
    "green = dd.from_pandas(green, npartitions=nCores).map_partitions(\n",
    "      lambda df : df.apply(generate_hour_column, axis=1)\n",
    ").compute(get=get)"
   ]
  },
  {
   "cell_type": "markdown",
   "metadata": {},
   "source": [
    "Because there is a ton of data, this takes a while.  If I had access to a cluster I would have used PySpark, but given that I'm working locally.  I think this is a reasonable speed up.  For those unfamiliar, I'm leveraging most of this from the following article:\n",
    "\n",
    "https://towardsdatascience.com/how-i-learned-to-love-parallelized-applies-with-python-pandas-dask-and-numba-f06b0b367138\n",
    "\n",
    "Other things I could have done:\n",
    "\n",
    "* Cythonized my code - the reason I chose not to do this, is it would have meant losing a lot of explainability and linearity in my steps.  However, this likely would have led to a a bigger speed up.\n",
    "\n",
    "* swig'ed my code - For those of you not familiar, swig is a similar utility to Cython, except instead of only compiling to byte code, it actually translates the Python (or some other source language) into assembly and then runs the code.  I'm not super familiar with this option, but I mention it for completeness and because it is something I learned about last week.  I think it's pretty neat.\n",
    "\n",
    "Here is a reference to the swig documentation: http://www.swig.org/Doc1.3/Python.html\n"
   ]
  },
  {
   "cell_type": "code",
   "execution_count": 61,
   "metadata": {},
   "outputs": [],
   "source": [
    "x_axis = list(green[\"hour\"].unique())\n",
    "x_axis.sort()\n",
    "means = []\n",
    "medians = []\n",
    "for hour_group in green.groupby(by=\"hour\"):\n",
    "    means.append(hour_group[1][\"Trip_distance\"].mean())\n",
    "    medians.append(hour_group[1][\"Trip_distance\"].median())"
   ]
  },
  {
   "cell_type": "code",
   "execution_count": 62,
   "metadata": {},
   "outputs": [
    {
     "data": {
      "image/png": "[encoded data removed]",
      "text/plain": [
       "<matplotlib.figure.Figure at 0x7f8e3ab83710>"
      ]
     },
     "metadata": {},
     "output_type": "display_data"
    }
   ],
   "source": [
    "plt.plot(x_axis, means, 'b')\n",
    "plt.ylabel(\"Mean Travel Distance by Hour\")\n",
    "plt.xlabel(\"Hour of the Day\")\n",
    "plt.show()"
   ]
  },
  {
   "cell_type": "code",
   "execution_count": 63,
   "metadata": {},
   "outputs": [
    {
     "data": {
      "image/png": "[encoded data removed]",
      "text/plain": [
       "<matplotlib.figure.Figure at 0x7f8e3a80e198>"
      ]
     },
     "metadata": {},
     "output_type": "display_data"
    }
   ],
   "source": [
    "plt.plot(x_axis, medians, 'b')\n",
    "plt.ylabel(\"Median Travel Distance by Hour\")\n",
    "plt.xlabel(\"Hour of the Day\")\n",
    "plt.show()"
   ]
  },
  {
   "cell_type": "markdown",
   "metadata": {},
   "source": [
    "The above two graphs show us that the trips are likely influenced by outliers.  This is because the graphs differ, drastically.  The median being shifted down anywhere from a mile to 1.2 miles down as compared to the mean.  \n",
    "\n",
    "Looking at the general shape of both graphs, there appears to be a spike around 5am.  One guess is this is when people are going to work, which is supported by the fact that there travel distance is going to be the furtherest in the mornings and evenings.  Interestingly, there isn't an equivalent spike in the evening, when people would be heading home.  Meaning this hypothesis is possibly not right.\n",
    "\n",
    "Another reason there could be a spike in travel distance in the morning, is folks are heading to the airport.  This consistent with the fact that there isn't an equivalent spike up in the evenings.  It would be interesting to remove this \"travel effect\", to figure out if there is a bump in green taxis for commuting to work.\n",
    "\n",
    "We could use `RateCodeID` to get some information about travel to airports, because JFK and Newark are included, according to the [data dictionary](http://www.nyc.gov/html/tlc/downloads/pdf/data_dictionary_trip_records_green.pdf), but this leaves out laguardia.   Also we don't know if people are being picked up or dropped off at an airport from this representation of the data."
   ]
  },
  {
   "cell_type": "markdown",
   "metadata": {},
   "source": [
    "# Question 3 - Part 2\n",
    "\n",
    "We'd like to get a rough sense of identifying trips that originate or terminate at one of the NYC area airports.  Can you provide a count of how many transactions fit this criteria, the average fare, and any other interesting characteristics of these trips?\n",
    "\n",
    "In order to answer this question we first need polygons for each airport.  To do that, I am leveraging Plotly-Dash and mapbox.\n",
    "\n",
    "The tool allows me to select polygons on a map and then gives me the latitudes and longitudes for the polygon selected.  I will use that to build polygons to decide if folks are going to or coming from an airport.\n",
    "\n",
    "If you're curious about the tool, you can check it out here:\n",
    "\n",
    "https://github.com/EricSchles/polygon_selector"
   ]
  },
  {
   "cell_type": "code",
   "execution_count": 64,
   "metadata": {},
   "outputs": [],
   "source": [
    "@jit\n",
    "def contained_in(location, location_name, x):\n",
    "    # the geometry is long, lat for some reason.\n",
    "    pickup_point = Point(x[\"Pickup_longitude\"], x[\"Pickup_latitude\"])\n",
    "    dropoff_point = Point(x[\"Dropoff_longitude\"], x[\"Dropoff_latitude\"])\n",
    "    if location[\"geometry\"].contains(pickup_point)[0]:\n",
    "        x[\"pickup_location\"] = location_name\n",
    "    if location[\"geometry\"].contains(dropoff_point)[0]:\n",
    "        x[\"dropoff_location\"] = location_name\n",
    "    return x\n"
   ]
  },
  {
   "cell_type": "code",
   "execution_count": 65,
   "metadata": {},
   "outputs": [],
   "source": [
    "nCores = cpu_count()\n",
    "# pre-allocating arrays\n",
    "green[\"pickup_location\"] = np.nan\n",
    "green[\"dropoff_location\"] = np.nan\n",
    "\n",
    "jfk_df = gpd.read_file(\"jfk_polygon.geojson\")\n",
    "laguardia_df = gpd.read_file(\"laguardia.geojson\")\n",
    "newark_df = gpd.read_file(\"newark.geojson\")\n",
    "\n",
    "# generate specific functions\n",
    "contained_in_jfk = partial(contained_in, jfk_df, \"jfk\")\n",
    "contained_in_laguardia = partial(contained_in, laguardia_df, \"laguardia\")\n",
    "contained_in_newark = partial(contained_in, newark_df, \"newark\")\n",
    "\n",
    "\n",
    "# apply specific functions\n",
    "green = dd.from_pandas(green, npartitions=nCores).map_partitions(\n",
    "      lambda df : df.apply(contained_in_jfk, axis=1)\n",
    ").compute(get=get)\n",
    "green = dd.from_pandas(green, npartitions=nCores).map_partitions(\n",
    "      lambda df : df.apply(contained_in_laguardia, axis=1)\n",
    ").compute(get=get)\n",
    "green = dd.from_pandas(green, npartitions=nCores).map_partitions(\n",
    "      lambda df : df.apply(contained_in_newark, axis=1)\n",
    ").compute(get=get)"
   ]
  },
  {
   "cell_type": "markdown",
   "metadata": {},
   "source": [
    "Now that we know some of the airports people are going to, let's answer the first question - how many people are going to the airport or coming from the airport?"
   ]
  },
  {
   "cell_type": "code",
   "execution_count": 70,
   "metadata": {},
   "outputs": [
    {
     "name": "stdout",
     "output_type": "stream",
     "text": [
      "pick up:\n",
      "jfk          575\n",
      "laguardia    512\n",
      "newark        45\n",
      "Name: pickup_location, dtype: int64\n",
      "drop off:\n",
      "laguardia    20144\n",
      "jfk           4832\n",
      "newark         735\n",
      "Name: dropoff_location, dtype: int64\n"
     ]
    }
   ],
   "source": [
    "# getting the counts of pickup / dropoff\n",
    "print(\"pick up:\")\n",
    "print(green[\"pickup_location\"].value_counts())\n",
    "print(\"drop off:\")\n",
    "print(green[\"dropoff_location\"].value_counts())"
   ]
  },
  {
   "cell_type": "markdown",
   "metadata": {},
   "source": [
    "Let's compare this with what we find from the variable `RateCodeID`"
   ]
  },
  {
   "cell_type": "code",
   "execution_count": 72,
   "metadata": {},
   "outputs": [
    {
     "name": "stdout",
     "output_type": "stream",
     "text": [
      "percent pick up:\n",
      "jfk          0.000385\n",
      "laguardia    0.000343\n",
      "newark       0.000030\n",
      "Name: pickup_location, dtype: float64\n",
      "percent drop off:\n",
      "laguardia    0.013497\n",
      "jfk          0.003238\n",
      "newark       0.000492\n",
      "Name: dropoff_location, dtype: float64\n"
     ]
    }
   ],
   "source": [
    "print(\"percent pick up:\")\n",
    "print(green[\"pickup_location\"].value_counts() / len(green))\n",
    "print(\"percent drop off:\")\n",
    "print(green[\"dropoff_location\"].value_counts() / len(green))"
   ]
  },
  {
   "cell_type": "code",
   "execution_count": 7,
   "metadata": {},
   "outputs": [
    {
     "name": "stdout",
     "output_type": "stream",
     "text": [
      "Total 5410\n",
      "JFK 4317\n",
      "Newark 1093\n"
     ]
    }
   ],
   "source": [
    "print(\"Total\", len(green[(green[\"RateCodeID\"] == 2) | (green[\"RateCodeID\"] == 3)]))\n",
    "print(\"JFK\", len(green[green[\"RateCodeID\"] == 2]))\n",
    "print(\"Newark\", len(green[green[\"RateCodeID\"] == 3]))"
   ]
  },
  {
   "cell_type": "code",
   "execution_count": 11,
   "metadata": {},
   "outputs": [
    {
     "name": "stdout",
     "output_type": "stream",
     "text": [
      "Total 0.0036247711905061817\n",
      "JFK 0.0028924468076553024\n",
      "Newark 0.0007323243828508792\n"
     ]
    }
   ],
   "source": [
    "print(\"Total\", len(green[(green[\"RateCodeID\"] == 2) | (green[\"RateCodeID\"] == 3)])/len(green))\n",
    "print(\"JFK\", len(green[green[\"RateCodeID\"] == 2])/len(green))\n",
    "print(\"Newark\", len(green[green[\"RateCodeID\"] == 3])/len(green))"
   ]
  },
  {
   "cell_type": "markdown",
   "metadata": {},
   "source": [
    "As you can see my method picks up far greater frequency.  Perhaps some of this is due to folks only going to the area, so there isn't complete signal.  That said, the numbers for JFK and Newark appear to be of the same magnitude, so the signal to noise ratio is likely low.  Additionally, now we have the extra information about pick up and drop off, which means we can do a more nuanced analysis.  Additionally, we also get laguardia.\n",
    "\n",
    "Now for the hard question - should we trust these numbers?  Based on [this report](https://www.panynj.gov/airports/pdf-traffic/ATR2016.pdf) the total number of flyers in 2016 out of each respective airport was:\n",
    "\n",
    "* JFK: 58.9 million passengers\n",
    "* Newark: 40.3 million passengers\n",
    "* Laguardia: 29.8 million passengers\n",
    "\n",
    "So the fact that number of drop offs is highest for Laguardia might not match with the expectations we have about ranking of airports in terms of overall frequency for the given month.  Just to see what our overall population counts look like approximately lets look at overall passengers by month:\n",
    "\n",
    "* JFK: 4.9 million passengers per month\n",
    "* Newark: 3.35 million passengers per month\n",
    "* Laguardia: 2.48 million passengers per month\n",
    "\n",
    "Now for a possible defense of my numbers - This [2014 study of yellow taxis](http://www.nyc.gov/html/tlc/downloads/pdf/2014_taxicab_fact_book.pdf) on page 9 states that 26% of all passengers from laguardia are served by yellow cabs, while only 10% are served by yellow cabs at JFK.  Granted we are looking at green cabs, not yellow, however my guess is these orders of magnitude are consistent.  Therefore, I feel my numbers are defensible.  "
   ]
  },
  {
   "cell_type": "markdown",
   "metadata": {},
   "source": [
    "Returning to our analysis, let's remind ourselves of the numbers:\n",
    "\n",
    "```\n",
    "pick up:\n",
    "jfk          575\n",
    "laguardia    512\n",
    "newark        45\n",
    "\n",
    "drop off:\n",
    "laguardia    20144\n",
    "jfk           4832\n",
    "newark         735\n",
    "\n",
    "percent pick up:\n",
    "jfk          0.000385\n",
    "laguardia    0.000343\n",
    "newark       0.000030\n",
    "\n",
    "percent drop off:\n",
    "laguardia    0.013497\n",
    "jfk          0.003238\n",
    "newark       0.000492\n",
    "```\n",
    "\n",
    "The first thing to note is there are a lot more people getting dropped off both in absolute and relative terms than getting picked up.\n",
    "\n",
    "Also there aren't that many people, as a percentage of the total population of folks taking green cabs.  A couple of theories arise as to why this is the case:\n",
    "\n",
    "1. People usually take yellow cabs to and from the airport\n",
    "2. People are taking Uber or other ride sharing services far more often these days."
   ]
  },
  {
   "cell_type": "markdown",
   "metadata": {},
   "source": [
    "I can verify the first of my claims by simply discerning the number of trips per day and then averaging them.  We can compare this against what the [2014 report](http://www.nyc.gov/html/tlc/downloads/pdf/2014_taxicab_fact_book.pdf) says."
   ]
  },
  {
   "cell_type": "code",
   "execution_count": 15,
   "metadata": {},
   "outputs": [
    {
     "data": {
      "text/plain": [
       "49750.26666666667"
      ]
     },
     "execution_count": 15,
     "metadata": {},
     "output_type": "execute_result"
    }
   ],
   "source": [
    "days = list(range(1, 31)) # 30 days\n",
    "counts_per_day = []\n",
    "for day in days:\n",
    "    tmp = green[green[\"lpep_pickup_datetime\"].dt.day == day]\n",
    "    counts_per_day.append(len(tmp))\n",
    "\n",
    "sum(counts_per_day)/len(counts_per_day)"
   ]
  },
  {
   "cell_type": "markdown",
   "metadata": {},
   "source": [
    "So there are an average of 49,750 passengers per day taking yellow cabs, as aposed to an average of 485,000 passengers taking yellow cabs.  Thus there are about 10 times as many people taking yellow cabs compared with green cabs. At this time, I don't think a more thorough analysis is warranted and we can simply make the somewhat bold claim, that given the order of magnitude difference we can claim there are likely more people taking yellow cabs to the airport.  \n",
    "\n",
    "Due to time constraints I won't make a serious attempt at answering the second hypothesis.  But we look at [this source](http://www.businessofapps.com/data/uber-statistics/) it appears as though around 100,000 trips per day were taking place on uber in september 2015.  So we can guess there is some crowding out effect here.\n"
   ]
  },
  {
   "cell_type": "markdown",
   "metadata": {},
   "source": [
    "Now let's try to understand another interesting fascite of this data - how does the average price of pick up and drop off compare? \n",
    "\n",
    "Also how does the price of going to an airport fare against not going to the airport? "
   ]
  },
  {
   "cell_type": "code",
   "execution_count": 67,
   "metadata": {},
   "outputs": [
    {
     "name": "stdout",
     "output_type": "stream",
     "text": [
      "Average Fare Amount: 20.749434628975266\n",
      "Median Fare Amount: 13.0\n"
     ]
    }
   ],
   "source": [
    "airport_pickup = green[green[\"pickup_location\"].notnull()]\n",
    "print(\"Average Fare Amount:\", airport_pickup[\"Fare_amount\"].mean())\n",
    "print(\"Median Fare Amount:\", airport_pickup[\"Fare_amount\"].median())"
   ]
  },
  {
   "cell_type": "markdown",
   "metadata": {},
   "source": [
    "The average `Fare_amount` is significantly higher than the median, indicating there are some outliers here.  Let's look at this visually."
   ]
  },
  {
   "cell_type": "code",
   "execution_count": 68,
   "metadata": {},
   "outputs": [
    {
     "data": {
      "text/plain": [
       "<matplotlib.axes._subplots.AxesSubplot at 0x7f8e3a9536a0>"
      ]
     },
     "execution_count": 68,
     "metadata": {},
     "output_type": "execute_result"
    },
    {
     "data": {
      "image/png": "[encoded data removed]",
      "text/plain": [
       "<matplotlib.figure.Figure at 0x7f8e3ac60fd0>"
      ]
     },
     "metadata": {},
     "output_type": "display_data"
    }
   ],
   "source": [
    "airport_pickup[\"Fare_amount\"].plot.hist()"
   ]
  },
  {
   "cell_type": "markdown",
   "metadata": {},
   "source": [
    "This first visualization gives us the total range of values under consideration.  What this tells us is most of the values are less than around 130.  But more interestingly, some of the outliers are as high as 300 dollars for cab ride!"
   ]
  },
  {
   "cell_type": "code",
   "execution_count": 69,
   "metadata": {},
   "outputs": [
    {
     "data": {
      "text/plain": [
       "(array([0.02283186, 0.04707965, 0.03840708, 0.02123894, 0.01256637,\n",
       "        0.01274336, 0.01061947, 0.00973451, 0.00460177, 0.00460177,\n",
       "        0.00371681, 0.00265487, 0.00247788, 0.00035398, 0.        ,\n",
       "        0.00106195, 0.00070796, 0.00070796, 0.00159292, 0.00070796,\n",
       "        0.00035398, 0.        , 0.00035398, 0.        , 0.00035398,\n",
       "        0.00017699, 0.        , 0.        , 0.00035398]),\n",
       " array([  0,   5,  10,  15,  20,  25,  30,  35,  40,  45,  50,  55,  60,\n",
       "         65,  70,  75,  80,  85,  90,  95, 100, 105, 110, 115, 120, 125,\n",
       "        130, 135, 140, 145]),\n",
       " <a list of 29 Patch objects>)"
      ]
     },
     "execution_count": 69,
     "metadata": {},
     "output_type": "execute_result"
    },
    {
     "data": {
      "image/png": "[encoded data removed]",
      "text/plain": [
       "<matplotlib.figure.Figure at 0x7f8e3b1b99e8>"
      ]
     },
     "metadata": {},
     "output_type": "display_data"
    }
   ],
   "source": [
    "bins = list(range(0, 150, 5))\n",
    "plt.hist(airport_pickup[\"Fare_amount\"], bins=bins, density=True)"
   ]
  },
  {
   "cell_type": "markdown",
   "metadata": {},
   "source": [
    "This visualization gives us a better sense of the typical case and shows that most fares are between 5 and 15 dollars.\n",
    "\n",
    "Now let's turn our attention to drop offs."
   ]
  },
  {
   "cell_type": "code",
   "execution_count": 73,
   "metadata": {},
   "outputs": [
    {
     "name": "stdout",
     "output_type": "stream",
     "text": [
      "Average Fare Amount: 21.480419664734935\n",
      "Median Fare Amount: 18.0\n"
     ]
    }
   ],
   "source": [
    "airport_dropoff = green[green[\"dropoff_location\"].notnull()]\n",
    "print(\"Average Fare Amount:\", airport_dropoff[\"Fare_amount\"].mean())\n",
    "print(\"Median Fare Amount:\", airport_dropoff[\"Fare_amount\"].median())"
   ]
  },
  {
   "cell_type": "markdown",
   "metadata": {},
   "source": [
    "Because there are far more data points for dropoffs, the outliers here are less prevalent.  So the mean and median are closer together.  Which isn't always the case, some distributions are just really spread out.  But lots of things regress to the mean, so this is a reasonable statement, for the distribution at hand."
   ]
  },
  {
   "cell_type": "code",
   "execution_count": 75,
   "metadata": {},
   "outputs": [
    {
     "data": {
      "text/plain": [
       "<matplotlib.axes._subplots.AxesSubplot at 0x7f8e3b392828>"
      ]
     },
     "execution_count": 75,
     "metadata": {},
     "output_type": "execute_result"
    },
    {
     "data": {
      "image/png": "[encoded data removed]",
      "text/plain": [
       "<matplotlib.figure.Figure at 0x7f8e3b374cf8>"
      ]
     },
     "metadata": {},
     "output_type": "display_data"
    }
   ],
   "source": [
    "airport_dropoff[\"Fare_amount\"].plot.hist()"
   ]
  },
  {
   "cell_type": "markdown",
   "metadata": {},
   "source": [
    "Again, here the range is about the same as pickups."
   ]
  },
  {
   "cell_type": "code",
   "execution_count": 76,
   "metadata": {},
   "outputs": [
    {
     "data": {
      "text/plain": [
       "(array([1.57167866e-03, 1.97004474e-02, 6.40497958e-02, 2.06730208e-02,\n",
       "        2.99786034e-02, 2.43221163e-02, 1.94903715e-02, 8.03734682e-03,\n",
       "        2.98774557e-03, 1.89068275e-03, 1.08150165e-03, 7.00252869e-04,\n",
       "        8.16961681e-04, 6.69130519e-04, 6.92472282e-04, 6.61349932e-04,\n",
       "        7.70278156e-04, 8.40303443e-04, 4.35712896e-04, 1.86734098e-04,\n",
       "        1.32269986e-04, 8.55864618e-05, 5.44641120e-05, 3.11223497e-05,\n",
       "        6.22446995e-05, 3.11223497e-05, 7.78058743e-06, 0.00000000e+00,\n",
       "        3.89029372e-05]),\n",
       " array([  0,   5,  10,  15,  20,  25,  30,  35,  40,  45,  50,  55,  60,\n",
       "         65,  70,  75,  80,  85,  90,  95, 100, 105, 110, 115, 120, 125,\n",
       "        130, 135, 140, 145]),\n",
       " <a list of 29 Patch objects>)"
      ]
     },
     "execution_count": 76,
     "metadata": {},
     "output_type": "execute_result"
    },
    {
     "data": {
      "image/png": "[encoded data removed]",
      "text/plain": [
       "<matplotlib.figure.Figure at 0x7f8e3b450080>"
      ]
     },
     "metadata": {},
     "output_type": "display_data"
    }
   ],
   "source": [
    "bins = list(range(0, 150, 5))\n",
    "plt.hist(airport_dropoff[\"Fare_amount\"], bins=bins, density=True)"
   ]
  },
  {
   "cell_type": "markdown",
   "metadata": {},
   "source": [
    "Interestingly, if we dig deeper into where most of the data is clustered, there is a very different shape here!  There is a far more uniformly distributed range between 5 and 35 dollars, with one huge spike at 10 - 15.  This means pick ups are definitely cheaper than dropoffs.  My guess here is because you call ahead usually for green cabs and so perhaps different people get quoted different prices?  \n",
    "\n",
    "In trips I've taken in the past, I've usually been quoted different prices by different taxi companies that go to the airport.\n",
    "\n",
    "It could also be variability in distance travelled to the airport?  Perhaps some folks take a subway part of the way?  Whereas getting picked up at the airport, you have fewer transit options.\n",
    "\n",
    "It might be interesting to look at how trip distance effects price.  However, I'll only do that time permitting."
   ]
  },
  {
   "cell_type": "markdown",
   "metadata": {},
   "source": [
    "Just as a point of comparison, let's look at how fares involving an airport change versus those that don't."
   ]
  },
  {
   "cell_type": "code",
   "execution_count": 78,
   "metadata": {},
   "outputs": [
    {
     "name": "stdout",
     "output_type": "stream",
     "text": [
      "Average Fare Amount: 21.397500094450113\n",
      "Median Fare Amount: 18.0\n"
     ]
    }
   ],
   "source": [
    "airport = green[(green[\"dropoff_location\"].notnull()) | (green[\"pickup_location\"].notnull())]\n",
    "print(\"Average Fare Amount:\", airport[\"Fare_amount\"].mean())\n",
    "print(\"Median Fare Amount:\", airport[\"Fare_amount\"].median())"
   ]
  },
  {
   "cell_type": "markdown",
   "metadata": {},
   "source": [
    "As may have been obvious, because there are far more dropoffs, pickups and dropoffs together, look more or less like dropoffs.  Now let's compare this to green taxi cab trips not involving the airport."
   ]
  },
  {
   "cell_type": "code",
   "execution_count": 92,
   "metadata": {},
   "outputs": [
    {
     "name": "stdout",
     "output_type": "stream",
     "text": [
      "Average Fare Amount: 12.420964319503105\n",
      "Median Fare Amount: 9.5\n"
     ]
    }
   ],
   "source": [
    "no_airport = green[(green[\"dropoff_location\"].isnull()) & (green[\"pickup_location\"].isnull())]\n",
    "print(\"Average Fare Amount:\", no_airport[\"Fare_amount\"].mean())\n",
    "print(\"Median Fare Amount:\", no_airport[\"Fare_amount\"].median())"
   ]
  },
  {
   "cell_type": "markdown",
   "metadata": {},
   "source": [
    "Perhaps unsurprisingly due to earlier analysis, clearly trips not involving the airport are far less costly!  Let's compare these two distributions visually."
   ]
  },
  {
   "cell_type": "code",
   "execution_count": 84,
   "metadata": {},
   "outputs": [
    {
     "data": {
      "text/plain": [
       "(array([1.69299373e-03, 2.05351069e-02, 6.37291210e-02, 2.08676593e-02,\n",
       "        2.95518101e-02, 2.40949286e-02, 1.93107097e-02, 8.04172020e-03,\n",
       "        3.00808707e-03, 1.90461794e-03, 1.10346913e-03, 7.18010732e-04,\n",
       "        8.31380848e-04, 6.65104678e-04, 6.72662686e-04, 6.49988663e-04,\n",
       "        7.48242763e-04, 8.16264833e-04, 4.30806439e-04, 1.88950193e-04,\n",
       "        1.36044139e-04, 8.31380848e-05, 5.29060540e-05, 3.02320308e-05,\n",
       "        6.04640617e-05, 3.02320308e-05, 7.55800771e-06, 0.00000000e+00,\n",
       "        3.77900385e-05]),\n",
       " array([  0,   5,  10,  15,  20,  25,  30,  35,  40,  45,  50,  55,  60,\n",
       "         65,  70,  75,  80,  85,  90,  95, 100, 105, 110, 115, 120, 125,\n",
       "        130, 135, 140, 145]),\n",
       " <a list of 29 Patch objects>)"
      ]
     },
     "execution_count": 84,
     "metadata": {},
     "output_type": "execute_result"
    },
    {
     "data": {
      "image/png": "[encoded data removed]",
      "text/plain": [
       "<matplotlib.figure.Figure at 0x7f8e3b712c88>"
      ]
     },
     "metadata": {},
     "output_type": "display_data"
    }
   ],
   "source": [
    "bins = list(range(0, 150, 5))\n",
    "plt.hist(airport[\"Fare_amount\"], bins=bins, density=True)"
   ]
  },
  {
   "cell_type": "code",
   "execution_count": 93,
   "metadata": {},
   "outputs": [
    {
     "data": {
      "text/plain": [
       "(array([1.83502950e-02, 8.42669945e-02, 4.41362221e-02, 2.30448104e-02,\n",
       "        1.27597215e-02, 7.06258149e-03, 3.96164975e-03, 2.33327170e-03,\n",
       "        1.44076117e-03, 7.83215180e-04, 1.07316854e-03, 2.41514089e-04,\n",
       "        1.73562667e-04, 1.06429937e-04, 7.60018912e-05, 4.20261804e-05,\n",
       "        3.52037485e-05, 2.00579497e-05, 1.97850525e-05, 1.20074801e-05,\n",
       "        2.14224361e-05, 6.68598325e-06, 7.09532916e-06, 4.22990777e-06,\n",
       "        7.77757235e-06, 4.63925368e-06, 3.82056185e-06, 2.59252412e-06,\n",
       "        2.45607548e-06]),\n",
       " array([  0,   5,  10,  15,  20,  25,  30,  35,  40,  45,  50,  55,  60,\n",
       "         65,  70,  75,  80,  85,  90,  95, 100, 105, 110, 115, 120, 125,\n",
       "        130, 135, 140, 145]),\n",
       " <a list of 29 Patch objects>)"
      ]
     },
     "execution_count": 93,
     "metadata": {},
     "output_type": "execute_result"
    },
    {
     "data": {
      "image/png": "[encoded data removed]",
      "text/plain": [
       "<matplotlib.figure.Figure at 0x7f8e3bc5e710>"
      ]
     },
     "metadata": {},
     "output_type": "display_data"
    }
   ],
   "source": [
    "bins = list(range(0, 150, 5))\n",
    "plt.hist(no_airport[\"Fare_amount\"], bins=bins, density=True)"
   ]
  },
  {
   "cell_type": "markdown",
   "metadata": {},
   "source": [
    "As we can see here, clearly there is a much wider price band for the central tendency for trips to the airport, with values between 0-40 dollars, whereas for non-airport green taxi cab rides things are typically between 0-20, a much tighter price band.  \n",
    "\n",
    "This may be somewhat due to regression to the mean, given that far more trips are not to the airport.  An analysis of distance travelled would probably shed more light here.  Let's see if trip distance is correlated with price and if so, we'll be able to use it as a proxy for `Fare_amount`.\n"
   ]
  },
  {
   "cell_type": "markdown",
   "metadata": {},
   "source": [
    "# Fare_amount over time of day\n",
    "\n",
    "Now that we have some understanding of `Fare_amount`, let's look at it over the course of the day."
   ]
  },
  {
   "cell_type": "code",
   "execution_count": 123,
   "metadata": {},
   "outputs": [],
   "source": [
    "x_axis = list(airport[\"hour\"].unique())\n",
    "x_axis.sort()\n",
    "airport_means = []\n",
    "airport_medians = []\n",
    "for hour_group in airport.groupby(by=\"hour\"):\n",
    "    airport_means.append(hour_group[1][\"Fare_amount\"].mean())\n",
    "    airport_medians.append(hour_group[1][\"Fare_amount\"].median())"
   ]
  },
  {
   "cell_type": "code",
   "execution_count": 124,
   "metadata": {},
   "outputs": [
    {
     "data": {
      "image/png": "[encoded data removed]",
      "text/plain": [
       "<matplotlib.figure.Figure at 0x7f8e3be9fc88>"
      ]
     },
     "metadata": {},
     "output_type": "display_data"
    }
   ],
   "source": [
    "plt.plot(x_axis, airport_means, 'b')\n",
    "plt.ylabel(\"Mean Fare Amount by Hour involing an airport\")\n",
    "plt.xlabel(\"Hour of the Day\")\n",
    "plt.show()"
   ]
  },
  {
   "cell_type": "markdown",
   "metadata": {},
   "source": [
    "This graph shows that `Fare_amount` involving airports tends to stay high throughout the course of the day, interestingly it does not follow the same pattern as we saw above for `Trip_distance`.  This is somewhat unsurprising, because this is to the airport.  Let's look at the median and then move onto looking at what trips look like, that don't involve an airport."
   ]
  },
  {
   "cell_type": "code",
   "execution_count": 125,
   "metadata": {},
   "outputs": [
    {
     "data": {
      "image/png": "[encoded data removed]",
      "text/plain": [
       "<matplotlib.figure.Figure at 0x7f8e3bc64518>"
      ]
     },
     "metadata": {},
     "output_type": "display_data"
    }
   ],
   "source": [
    "plt.plot(x_axis, airport_medians, 'b')\n",
    "plt.ylabel(\"Median Fare Amount by Hour involing an airport\")\n",
    "plt.xlabel(\"Hour of the Day\")\n",
    "plt.show()"
   ]
  },
  {
   "cell_type": "markdown",
   "metadata": {},
   "source": [
    "The median does fall abit as the day drags on, so this seems to indicate that some of the presistently high mean prices are due to outliers.  But overall, the shape is perserved, which means outliers aren't driving higher prices to and from airports throughout the day."
   ]
  },
  {
   "cell_type": "code",
   "execution_count": 126,
   "metadata": {},
   "outputs": [],
   "source": [
    "x_axis = list(no_airport[\"hour\"].unique())\n",
    "x_axis.sort()\n",
    "no_airport_means = []\n",
    "no_airport_medians = []\n",
    "for hour_group in no_airport.groupby(by=\"hour\"):\n",
    "    no_airport_means.append(hour_group[1][\"Fare_amount\"].mean())\n",
    "    no_airport_medians.append(hour_group[1][\"Fare_amount\"].median())"
   ]
  },
  {
   "cell_type": "code",
   "execution_count": 128,
   "metadata": {},
   "outputs": [
    {
     "data": {
      "image/png": "[encoded data removed]",
      "text/plain": [
       "<matplotlib.figure.Figure at 0x7f8e3baa2908>"
      ]
     },
     "metadata": {},
     "output_type": "display_data"
    }
   ],
   "source": [
    "plt.plot(x_axis, no_airport_means, 'b')\n",
    "plt.ylabel(\"Mean Fare Amount by Hour not involing an airport\")\n",
    "plt.xlabel(\"Hour of the Day\")\n",
    "plt.show()"
   ]
  },
  {
   "cell_type": "markdown",
   "metadata": {},
   "source": [
    "Looking at trips not involving an airport we somewhat recover the shape of `Trip_distance` we saw earlier.  Meaning prices have some relationship with `Trip_distance`.  Interestingly, the shape is not exactly the same, with a much more gradual fall as the day heads towards the evening, when compared to the `Trip_distance` graph above."
   ]
  },
  {
   "cell_type": "code",
   "execution_count": 129,
   "metadata": {},
   "outputs": [
    {
     "data": {
      "image/png": "[encoded data removed]",
      "text/plain": [
       "<matplotlib.figure.Figure at 0x7f8e3b9f6f28>"
      ]
     },
     "metadata": {},
     "output_type": "display_data"
    }
   ],
   "source": [
    "plt.plot(x_axis, no_airport_medians, 'b')\n",
    "plt.ylabel(\"Medians Fare Amount by Hour not involing an airport\")\n",
    "plt.xlabel(\"Hour of the Day\")\n",
    "plt.show()"
   ]
  },
  {
   "cell_type": "markdown",
   "metadata": {},
   "source": [
    "This graph may be the most surprising because of clearly defined the uptick and downticks are.  As well as how flat some parts of the graph are.  Clearly the shape is preserved, which make sense.  But the flatline between approximately 10am and 5pm is surprising.  Perhaps this is due to a specific class of people looking to travel in a specific way deciding to take cabs during work hours and everyone just jumps on the subway or walks.  After all, this is working hours?  This could also be because of the concentration of new yorkers who work in Manhattan and therefore are less likely to take cabs during the day in the outer boroughs?  There is likely some relationship here.  But it is out of scope to test it here."
   ]
  },
  {
   "cell_type": "markdown",
   "metadata": {},
   "source": [
    "We are now in a place to decide whether or not we should dive into `Trip_distance` and see if we can answer any burning questions about their relationship to airport travel.  First, let's see if we already have enough information via `Fare_amount` - so the question we will be answering is:\n",
    "\n",
    "Is `Fare_amount` a good proxy for `Trip_distance`?  If it's not we'll need to explicitly analyze `Trip_distance`."
   ]
  },
  {
   "cell_type": "code",
   "execution_count": 108,
   "metadata": {},
   "outputs": [
    {
     "name": "stdout",
     "output_type": "stream",
     "text": [
      "(0.8479919606871852, 0.0)\n",
      "SpearmanrResult(correlation=0.9288925369166134, pvalue=0.0)\n",
      "MannwhitneyuResult(statistic=2073907813335.0, pvalue=0.0)\n",
      "WilcoxonResult(statistic=1172605491.0, pvalue=0.0)\n",
      "Ks_2sampResult(statistic=0.7522378439512551, pvalue=0.0)\n"
     ]
    }
   ],
   "source": [
    "print(stats.pearsonr(green[\"Fare_amount\"], green[\"Trip_distance\"]))\n",
    "print(stats.spearmanr(green[\"Fare_amount\"], green[\"Trip_distance\"]))\n",
    "print(stats.mannwhitneyu(green[\"Fare_amount\"], green[\"Trip_distance\"], alternative=\"two-sided\"))\n",
    "print(stats.wilcoxon(green[\"Fare_amount\"], green[\"Trip_distance\"]))\n",
    "print(stats.ks_2samp(green[\"Fare_amount\"], green[\"Trip_distance\"]))"
   ]
  },
  {
   "cell_type": "markdown",
   "metadata": {},
   "source": [
    "Above we include various statistical tests that ask related questions.  Each of these statistical tests, at a high level asks, is there a relationship between these two variables?\n",
    "\n",
    "The first two - pearson and spearman ask, is there a correlation between the two variables?  So as one varies, does the other?  The null hypothesis for both tests is, that there is no correlation, and the altnerative is that there is a correlation.  By looking at the pvalues of both tests, we see that there is in fact a correlation.  The first parameter tells us the strength of the correlation.\n",
    "\n",
    "In a sense we can think of the first test as a parametric test, because it relies on a distribution.  In this case it relies on the bivariate normal distribution and assumes there is a linear correlation between the variables.\n",
    "\n",
    "Given this context, we can conclude a strong positive linear correlation.\n",
    "\n",
    "The spearman test, gives us a slightly more nuanced view into this correlation.  It is distribution-free, since its a nonparametric test.  It is distribution free, in the sense that it measures the rank correlation between the variables.  A rank correlation that looks at the data points based on their ordering, rather than their distribution.  \n",
    "\n",
    "Given this notion of a rank ordering of variables, we relax the normality assumption and allow for monotonic correlations.  So, for the above a correlation of 0.92 and a pvalue of 0 means that the data is correlated with a mostly linear relationship (from pearson) but some of the data having a strong monotonic correlation.  \n",
    "\n",
    "Next we turn our attention to the remaining statistical tests - Mann Whitney-U and Wilcoxon.\n",
    "\n",
    "The two-sided Mann Whitney-U test asks the question:\n",
    "\n",
    "Given the two sample distributions, what is the probability that a randomly selected value from the first distribution will be equal to a random sample from the second distribution.  With a pvalue of zero we must reject the null hypothesis.  So while these variables have a strong positive correlation, they don't come from the same distribution.\n",
    "\n",
    "The wilcoxon test asks a similar question -\n",
    "\n",
    "What is the probability that the difference between pairs follows a symmetric distribution around zero?  With a pvalue of zero we reject the null hypothesis that it does.  And so we must conclude that the differences are not symmetric around a mean of zero.  This gives us further evidence that the two variables do not come from the same distribution.\n",
    "\n",
    "Finally, we will look at the KS-2sample test -\n",
    "\n",
    "What is the probability the two samples come from the same underlying continuous distribution?  With a pvalue of zero we reject the null hypothesis that it does.  So these absolutely are not the same random variable.\n",
    "\n",
    "However, my guess is this is due to scaling issues.  If we rescaled the variables to be in the same scale, given how strong the correlation is, maybe these three later tests would shift.  So let's normalize the variables and see what happens.\n",
    "\n"
   ]
  },
  {
   "cell_type": "code",
   "execution_count": 121,
   "metadata": {},
   "outputs": [
    {
     "name": "stdout",
     "output_type": "stream",
     "text": [
      "MannwhitneyuResult(statistic=2214710186387.0, pvalue=0.0)\n",
      "WilcoxonResult(statistic=5927876801.0, pvalue=0.0)\n",
      "Ks_2sampResult(statistic=0.9926814462636047, pvalue=0.0)\n",
      "(-0.9491082918775346, 0.0)\n",
      "SpearmanrResult(correlation=-0.9972832876542349, pvalue=0.0)\n"
     ]
    }
   ],
   "source": [
    "normed = preprocessing.normalize(green[[\"Fare_amount\", \"Trip_distance\"]], norm=\"l1\")\n",
    "normed = pd.DataFrame(normed, columns=[\"Fare_amount\", \"Trip_distance\"])\n",
    "print(stats.mannwhitneyu(normed[\"Fare_amount\"], normed[\"Trip_distance\"], alternative=\"two-sided\"))\n",
    "print(stats.wilcoxon(normed[\"Fare_amount\"], normed[\"Trip_distance\"]))\n",
    "print(stats.ks_2samp(normed[\"Fare_amount\"], normed[\"Trip_distance\"]))\n",
    "print(stats.pearsonr(normed[\"Fare_amount\"], normed[\"Trip_distance\"]))\n",
    "print(stats.spearmanr(normed[\"Fare_amount\"], normed[\"Trip_distance\"]))"
   ]
  },
  {
   "cell_type": "code",
   "execution_count": 122,
   "metadata": {},
   "outputs": [
    {
     "name": "stdout",
     "output_type": "stream",
     "text": [
      "MannwhitneyuResult(statistic=1110492299927.5, pvalue=9.403947730670692e-06)\n",
      "WilcoxonResult(statistic=407762881967.0, pvalue=0.0)\n",
      "Ks_2sampResult(statistic=0.038999455949314865, pvalue=0.0)\n",
      "(0.8479919606871855, 0.0)\n",
      "SpearmanrResult(correlation=0.9288925369166134, pvalue=0.0)\n"
     ]
    }
   ],
   "source": [
    "rescaler = preprocessing.RobustScaler()\n",
    "rescaled = rescaler.fit_transform(green[[\"Fare_amount\", \"Trip_distance\"]])\n",
    "rescaled_df = pd.DataFrame(rescaled, columns=[\"Fare_amount\", \"Trip_distance\"])\n",
    "print(stats.mannwhitneyu(rescaled_df[\"Fare_amount\"], rescaled_df[\"Trip_distance\"], alternative=\"two-sided\"))\n",
    "print(stats.wilcoxon(rescaled_df[\"Fare_amount\"], rescaled_df[\"Trip_distance\"]))\n",
    "print(stats.ks_2samp(rescaled_df[\"Fare_amount\"], rescaled_df[\"Trip_distance\"]))\n",
    "print(stats.pearsonr(rescaled_df[\"Fare_amount\"], rescaled_df[\"Trip_distance\"]))\n",
    "print(stats.spearmanr(rescaled_df[\"Fare_amount\"], rescaled_df[\"Trip_distance\"]))"
   ]
  },
  {
   "cell_type": "markdown",
   "metadata": {},
   "source": [
    "Much to my surprise, rescaling or normalizing doesn't seem to matter.  These variables are absolutely from different underlying distributions.  Even under different rescaling or normalization schemes.\n",
    "\n",
    "What this tells me, that while distance is absolutely related to price, I don't think you can say that price is a function of distance alone.  "
   ]
  },
  {
   "cell_type": "markdown",
   "metadata": {},
   "source": [
    "# Distance traveled over the course of the day\n",
    "\n",
    "\n",
    "Now that we have figured out all the information about `Fare_amount` to and from the airport, let's move onto `Trip_distance`.  We'll remove trips involving airports from the dataset, to see if there is any spike in the morning hours from commuters.\n"
   ]
  },
  {
   "cell_type": "code",
   "execution_count": 86,
   "metadata": {},
   "outputs": [],
   "source": [
    "x_axis = list(airport[\"hour\"].unique())\n",
    "x_axis.sort()\n",
    "airport_means = []\n",
    "airport_medians = []\n",
    "for hour_group in airport.groupby(by=\"hour\"):\n",
    "    airport_means.append(hour_group[1][\"Trip_distance\"].mean())\n",
    "    airport_medians.append(hour_group[1][\"Trip_distance\"].median())"
   ]
  },
  {
   "cell_type": "code",
   "execution_count": 87,
   "metadata": {},
   "outputs": [
    {
     "data": {
      "image/png": "[encoded data removed]",
      "text/plain": [
       "<matplotlib.figure.Figure at 0x7f8e3b8f4cc0>"
      ]
     },
     "metadata": {},
     "output_type": "display_data"
    }
   ],
   "source": [
    "plt.plot(x_axis, airport_means, 'b')\n",
    "plt.ylabel(\"Mean Travel Distance by Hour involing an airport\")\n",
    "plt.xlabel(\"Hour of the Day\")\n",
    "plt.show()"
   ]
  },
  {
   "cell_type": "markdown",
   "metadata": {},
   "source": [
    "Perhaps unsurprisingly, this graph tells us that most people with travel to or from an airport travel far away.  Interestingly the travel falls drastically at the end of the day and in the early hours.  My guess is those are folks going to nearby hotels."
   ]
  },
  {
   "cell_type": "code",
   "execution_count": 88,
   "metadata": {},
   "outputs": [
    {
     "data": {
      "image/png": "[encoded data removed]",
      "text/plain": [
       "<matplotlib.figure.Figure at 0x7f8e3b755358>"
      ]
     },
     "metadata": {},
     "output_type": "display_data"
    }
   ],
   "source": [
    "plt.plot(x_axis, airport_medians, 'b')\n",
    "plt.ylabel(\"Median Travel Distance by Hour involing an airport\")\n",
    "plt.xlabel(\"Hour of the Day\")\n",
    "plt.show()"
   ]
  },
  {
   "cell_type": "markdown",
   "metadata": {},
   "source": [
    "This graph shows us that the travel distance has some outliers over the later hours of the day because the median falls more sharply than the mean did as time increases."
   ]
  },
  {
   "cell_type": "markdown",
   "metadata": {},
   "source": [
    "Now let's turn our attention to non-airport trips only."
   ]
  },
  {
   "cell_type": "code",
   "execution_count": 94,
   "metadata": {},
   "outputs": [],
   "source": [
    "x_axis = list(no_airport[\"hour\"].unique())\n",
    "x_axis.sort()\n",
    "no_airport_means = []\n",
    "no_airport_medians = []\n",
    "for hour_group in no_airport.groupby(by=\"hour\"):\n",
    "    no_airport_means.append(hour_group[1][\"Trip_distance\"].mean())\n",
    "    no_airport_medians.append(hour_group[1][\"Trip_distance\"].median())"
   ]
  },
  {
   "cell_type": "code",
   "execution_count": 95,
   "metadata": {},
   "outputs": [
    {
     "data": {
      "image/png": "[encoded data removed]",
      "text/plain": [
       "<matplotlib.figure.Figure at 0x7f8e3bcb6da0>"
      ]
     },
     "metadata": {},
     "output_type": "display_data"
    }
   ],
   "source": [
    "plt.plot(x_axis, no_airport_means, 'b')\n",
    "plt.ylabel(\"Mean Travel Distance by Hour not involing an airport\")\n",
    "plt.xlabel(\"Hour of the Day\")\n",
    "plt.show()"
   ]
  },
  {
   "cell_type": "markdown",
   "metadata": {},
   "source": [
    "We can now verify our hypothesis, to some degree!  It looks like folks taking green cabs, for purposes other than going to the airport stays strong in the morning hours.  And there is a significant dip in the evening, until around call it 17:00 or 5pm, where this continues to rise to about 3 miles away.  My guess is this people who commute home in part or in whole by cab!  \n",
    "\n",
    "So we have some sense that some folks do tend to commute by cab in the morning and the evening.  And they usually start commuting in somewhere between 4am and about 7am.  \n",
    "\n",
    "Another possible reasoning for this uptick in late evening/early morning is that part of this uptick is due to folks coming home from bars drunk and not wanting to take public transit.  We could see this effect in a more pronounced way, if we looked at commuting during Sunday - Wednesday vs Thursday - Saturday. "
   ]
  },
  {
   "cell_type": "code",
   "execution_count": 96,
   "metadata": {},
   "outputs": [
    {
     "data": {
      "image/png": "[encoded data removed]",
      "text/plain": [
       "<matplotlib.figure.Figure at 0x7f8e3bb09470>"
      ]
     },
     "metadata": {},
     "output_type": "display_data"
    }
   ],
   "source": [
    "plt.plot(x_axis, no_airport_medians, 'b')\n",
    "plt.ylabel(\"Medians Travel Distance by Hour not involing an airport\")\n",
    "plt.xlabel(\"Hour of the Day\")\n",
    "plt.show()"
   ]
  },
  {
   "cell_type": "markdown",
   "metadata": {},
   "source": [
    "looking at the median against the mean, we see that at least some of this effect is due to outliers in our data.  The signal is certainly there, but it falls by about a mile and a half, telling me there are definitely some outliers at play here.  I'm betting that if we looked at the weekend versus the week we'd have a much clearer picture of where these outliers are coming from."
   ]
  },
  {
   "cell_type": "code",
   "execution_count": null,
   "metadata": {},
   "outputs": [],
   "source": []
  }
 ],
 "metadata": {
  "kernelspec": {
   "display_name": "Python 3",
   "language": "python",
   "name": "python3"
  },
  "language_info": {
   "codemirror_mode": {
    "name": "ipython",
    "version": 3
   },
   "file_extension": ".py",
   "mimetype": "text/x-python",
   "name": "python",
   "nbconvert_exporter": "python",
   "pygments_lexer": "ipython3",
   "version": "3.6.3"
  }
 },
 "nbformat": 4,
 "nbformat_minor": 2
}
